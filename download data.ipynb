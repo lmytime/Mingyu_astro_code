{
 "cells": [
  {
   "cell_type": "code",
   "execution_count": 10,
   "metadata": {},
   "outputs": [],
   "source": [
    "#miniJPAS201912\n",
    "\n",
    "f = open(\"/home/lmingv/Desktop/minijpas-pdr201912_download.txt\", \"a\")\n",
    "\n",
    "head = 'http://archive.cefca.es/catalogues/vo/siap/minijpas-pdr201912/get_'\n",
    "\n",
    "\n",
    "for item in ['fits','weight','psf_file','masks','all_photoz','raw_info','reduction_info']:\n",
    "    f.write('\\n##download '+item+' file\\n')\n",
    "    for id in range(2231,2471):\n",
    "        f.write(head+item+'?id='+str(id)+'\\n')\n",
    "\n",
    "f.write('\\n##download graphic_image file\\n')\n",
    "for id in range(2231,2471):\n",
    "    f.write(head+'graphic_image'+'?id='+str(id)+'\\n')\n",
    "    f.write(head+'graphic_image'+'?id='+str(id)+'&band=RGB'+'\\n')\n",
    "    f.write(head+'graphic_image'+'?id='+str(id)+'&band=FILTER'+'\\n')\n",
    "\n",
    "f.close()"
   ]
  },
  {
   "cell_type": "code",
   "execution_count": 43,
   "metadata": {},
   "outputs": [],
   "source": [
    "# JPLUS -DR1\n",
    "import pandas as pd\n",
    "path = 'images_search.csv'\n",
    "# 使用pandas读入\n",
    "data = pd.read_csv(path) #读取文件中所有数据\n",
    "# 按列分离数据\n",
    "id = data[['Tile_id']]#读取某一列\n",
    "\n",
    "\n",
    "f = open(\"/home/lmingv/Desktop/jplus-dr1_download.txt\", \"a\")\n",
    "\n",
    "head = 'http://archive.cefca.es/catalogues/vo/siap/jplus-dr1/get_'\n",
    "\n",
    "for item in ['fits','weight','psf_file','masks','all_photoz','raw_info','reduction_info']:\n",
    "    f.write('\\n##download '+item+' file\\n')\n",
    "    for i in range(len(id)):\n",
    "        f.write(head+item+'?id='+str(id.at[i,'Tile_id'])+'\\n')\n",
    "\n",
    "f.write('\\n##download graphic_image file\\n')\n",
    "for i in range(len(id)):\n",
    "    f.write(head+'graphic_image'+'?id='+str(id.at[i,'Tile_id'])+'\\n')\n",
    "    f.write(head+'graphic_image'+'?id='+str(id.at[i,'Tile_id'])+'&band=RGB'+'\\n')\n",
    "    f.write(head+'graphic_image'+'?id='+str(id.at[i,'Tile_id'])+'&band=FILTER'+'\\n')\n",
    "\n",
    "f.close()"
   ]
  },
  {
   "cell_type": "code",
   "execution_count": 2,
   "metadata": {},
   "outputs": [],
   "source": [
    "import pandas as pd\n",
    "path = 'images_search.csv'\n",
    "# 使用pandas读入\n",
    "data = pd.read_csv(path) #读取文件中所有数据\n",
    "# 按列分离数据\n",
    "id = data[['Tile_id']]#读取某一列\n",
    "\n",
    "\n",
    "f = open(\"/home/lmingv/Desktop/jplus-dr1_cat_download.txt\", \"a\")\n",
    "\n",
    "head = 'http://archive.cefca.es/catalogues/jplus-dr1/image_catalogue?number='\n",
    "\n",
    "f.write('\\n##download image_catalogue file\\n')\n",
    "for i in range(len(id)):\n",
    "    f.write(head+str(id.at[i,'Tile_id'])+'\\n')\n",
    "\n",
    "f.close()"
   ]
  },
  {
   "cell_type": "code",
   "execution_count": 3,
   "metadata": {},
   "outputs": [
    {
     "data": {
      "text/plain": [
       "('1000001-JPLUS-01492-v2_uJAVA_swp.cat',\n",
       " <http.client.HTTPMessage at 0x7ff86c422f98>)"
      ]
     },
     "execution_count": 3,
     "metadata": {},
     "output_type": "execute_result"
    }
   ],
   "source": [
    "import urllib.request\n",
    "import time\n",
    "\n",
    "opener = urllib.request.build_opener()\n",
    "opener.addheaders = [\n",
    "    ('User-agent', 'Mozilla/5.0 (Windows NT 10.0; Win64; x64; rv:75.0) Gecko/20100101 Firefox/75.0')]\n",
    "urllib.request.install_opener(opener)\n",
    "# --------------------\n",
    "urllib.request.urlretrieve(\"http://archive.cefca.es/catalogues/jplus-dr1/image_catalogue?number=26016\",\"1000001-JPLUS-01492-v2_uJAVA_swp.cat\")\n",
    "\n"
   ]
  },
  {
   "cell_type": "code",
   "execution_count": 22,
   "metadata": {},
   "outputs": [],
   "source": [
    "# JPLUS -DR1\n",
    "\n",
    "f = open(\"/home/lmingv/Desktop/jplus-dr1_download.txt\", \"a\")\n",
    "\n",
    "head = 'http://archive.cefca.es/catalogues/vo/siap/jplus-dr1/get_'\n",
    "\n",
    "for item in ['fits','weight','masks','all_photoz','raw_info','reduction_info']:\n",
    "    f.write('\\n##download '+item+' file\\n')\n",
    "    for i in range(25998,34232):\n",
    "        f.write(head+item+'?id='+str(i)+'\\n')\n",
    "\n",
    "f.write('\\n##download graphic_image file\\n')\n",
    "for i in range(25998,34232):\n",
    "    f.write(head+'graphic_image'+'?id='+str(i)+'&band=RGB'+'\\n')\n",
    "    f.write(head+'graphic_image'+'?id='+str(i)+'&band=FILTER'+'\\n')\n",
    "\n",
    "f.close()"
   ]
  },
  {
   "cell_type": "code",
   "execution_count": 8,
   "metadata": {},
   "outputs": [],
   "source": [
    "#miniJPAS201910\n",
    "\n",
    "f = open(\"/home/lmingv/Desktop/minijpas-idr201910_download.txt\", \"a\")\n",
    "\n",
    "head = 'http://archive.cefca.es/catalogues/vo/siap/minijpas-idr201910/get_'\n",
    "\n",
    "\n",
    "for item in ['fits','weight','psf_file','masks','all_photoz','raw_info','reduction_info']:\n",
    "    f.write('\\n##download '+item+' file\\n')\n",
    "    for id in range(1990,2231):\n",
    "        f.write(head+item+'?id='+str(id)+'\\n')\n",
    "\n",
    "f.write('\\n##download graphic_image file\\n')\n",
    "for id in range(1990,2231):\n",
    "    f.write(head+'graphic_image'+'?id='+str(id)+'\\n')\n",
    "    f.write(head+'graphic_image'+'?id='+str(id)+'&band=RGB'+'\\n')\n",
    "    f.write(head+'graphic_image'+'?id='+str(id)+'&band=FILTER'+'\\n')\n",
    "\n",
    "f.close()"
   ]
  },
  {
   "cell_type": "code",
   "execution_count": 4,
   "metadata": {},
   "outputs": [
    {
     "name": "stdout",
     "output_type": "stream",
     "text": [
      "1000001-JPLUS-00315-v2 511\n"
     ]
    }
   ],
   "source": [
    "import pandas as pd\n",
    "path = 'jplus_catlog.csv'\n",
    "# 使用pandas读入\n",
    "data = pd.read_excel(path) #读取文件中所有数据\n",
    "# 按列分离数据\n",
    "name = data[['Field Name']]#读取某一列\n",
    "\n",
    "print(data.at[0,'Field Name'],len(data))\n",
    "\n",
    "\n",
    "f = open(\"/home/lmingv/Desktop/allinone.sh\", \"a\")\n",
    "'''\n",
    "f.write('mkdir '+data.at[0,'Field Name']+'\\n')\n",
    "f.write('cd '+data.at[0,'Field Name']+'\\n')\n",
    "f.write('mkdir all_photoz_file fits_image fits_weight_image masks_file raw_info_file reduction_info_file\\n')\n",
    "f.write('cd ..\\n')\n",
    "for i in range(1,len(data)):\n",
    "    f.write('cp -r '+data.at[0,'Field Name']+' '+data.at[i,'Field Name']+'\\n')\n",
    "    \n",
    "f.write('mkdir graphic_image_file\\n')\n",
    "f.write('mv *get* graphic_image_file\\n')\n",
    "'''\n",
    "for i in range(len(data)):\n",
    "    f.write('mv '+data.at[i,'Field Name']+'*weight.fz '+data.at[i,'Field Name']+'/fits_weight_image\\n')\n",
    "    f.write('mv '+data.at[i,'Field Name']+'*swp.fz '+data.at[i,'Field Name']+'/fits_image\\n')\n",
    "    f.write('mv '+data.at[i,'Field Name']+'*masks* '+data.at[i,'Field Name']+'/masks_file\\n')\n",
    "    f.write('mv '+data.at[i,'Field Name']+'*imgs.info '+data.at[i,'Field Name']+'/raw_info_file\\n')\n",
    "    f.write('mv '+data.at[i,'Field Name']+'*rc.info '+data.at[i,'Field Name']+'/reduction_info_file\\n')\n",
    "    f.write('mv '+data.at[i,'Field Name']+'*photoz* '+data.at[i,'Field Name']+'/all_photoz_file\\n')\n",
    "    f.write('echo finished  '+data.at[i,'Field Name']+'\\n\\n')\n",
    "f.close()"
   ]
  },
  {
   "cell_type": "code",
   "execution_count": 40,
   "metadata": {},
   "outputs": [
    {
     "name": "stdout",
     "output_type": "stream",
     "text": [
      "http://archive.cefca.es/catalogues/jplus-dr1/image_catalogue?number=26016 511\n"
     ]
    }
   ],
   "source": [
    "#JPLUS-DR1 catlog\n",
    "import pandas as pd\n",
    "path = 'jplus_catlog.csv'\n",
    "# 使用pandas读入\n",
    "data = pd.read_excel(path) #读取文件中所有数据\n",
    "# 按列分离数据\n",
    "URL = data[['URL']]#读取某一列\n",
    "\n",
    "print(data.at[0,'URL'],len(data))\n",
    "\n",
    "f = open(\"/home/lmingv/Desktop/jplus-dr1_cat_download.txt\", \"a\")\n",
    "for i in range(len(data)):\n",
    "    f.write(''' -O -J \"'''+data.at[i,'URL']+'''\"''')\n",
    "\n",
    "\n",
    "f.close()"
   ]
  },
  {
   "cell_type": "code",
   "execution_count": null,
   "metadata": {},
   "outputs": [],
   "source": []
  }
 ],
 "metadata": {
  "kernelspec": {
   "display_name": "Python 3",
   "language": "python",
   "name": "python3"
  },
  "language_info": {
   "codemirror_mode": {
    "name": "ipython",
    "version": 3
   },
   "file_extension": ".py",
   "mimetype": "text/x-python",
   "name": "python",
   "nbconvert_exporter": "python",
   "pygments_lexer": "ipython3",
   "version": "3.7.0"
  }
 },
 "nbformat": 4,
 "nbformat_minor": 2
}
