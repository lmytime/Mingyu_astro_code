{
 "cells": [
  {
   "cell_type": "code",
   "execution_count": 3,
   "metadata": {},
   "outputs": [
    {
     "ename": "ModuleNotFoundError",
     "evalue": "No module named 'plotly'",
     "output_type": "error",
     "traceback": [
      "\u001b[1;31m---------------------------------------------------------------------------\u001b[0m",
      "\u001b[1;31mModuleNotFoundError\u001b[0m                       Traceback (most recent call last)",
      "\u001b[1;32m<ipython-input-3-c4c780caee83>\u001b[0m in \u001b[0;36m<module>\u001b[1;34m\u001b[0m\n\u001b[0;32m     19\u001b[0m \u001b[1;32mfrom\u001b[0m \u001b[0mastropy\u001b[0m\u001b[1;33m.\u001b[0m\u001b[0mvisualization\u001b[0m \u001b[1;32mimport\u001b[0m \u001b[0mZScaleInterval\u001b[0m\u001b[1;33m,\u001b[0m\u001b[0mLinearStretch\u001b[0m\u001b[1;33m,\u001b[0m\u001b[0mImageNormalize\u001b[0m\u001b[1;33m\u001b[0m\u001b[1;33m\u001b[0m\u001b[0m\n\u001b[0;32m     20\u001b[0m \u001b[0mget_ipython\u001b[0m\u001b[1;33m(\u001b[0m\u001b[1;33m)\u001b[0m\u001b[1;33m.\u001b[0m\u001b[0mmagic\u001b[0m\u001b[1;33m(\u001b[0m\u001b[1;34m'matplotlib inline'\u001b[0m\u001b[1;33m)\u001b[0m\u001b[1;33m\u001b[0m\u001b[1;33m\u001b[0m\u001b[0m\n\u001b[1;32m---> 21\u001b[1;33m \u001b[1;32mimport\u001b[0m \u001b[0mplotly\u001b[0m\u001b[1;33m.\u001b[0m\u001b[0mgraph_objects\u001b[0m \u001b[1;32mas\u001b[0m \u001b[0mgo\u001b[0m\u001b[1;33m\u001b[0m\u001b[1;33m\u001b[0m\u001b[0m\n\u001b[0m\u001b[0;32m     22\u001b[0m \u001b[1;32mimport\u001b[0m \u001b[0mplotly\u001b[0m\u001b[1;33m\u001b[0m\u001b[1;33m\u001b[0m\u001b[0m\n\u001b[0;32m     23\u001b[0m \u001b[1;32mfrom\u001b[0m \u001b[0mastropy\u001b[0m\u001b[1;33m.\u001b[0m\u001b[0mcosmology\u001b[0m \u001b[1;32mimport\u001b[0m \u001b[0mWMAP9\u001b[0m \u001b[1;32mas\u001b[0m \u001b[0mcosmo\u001b[0m\u001b[1;33m\u001b[0m\u001b[1;33m\u001b[0m\u001b[0m\n",
      "\u001b[1;31mModuleNotFoundError\u001b[0m: No module named 'plotly'"
     ]
    }
   ],
   "source": [
    "import csv\n",
    "import re\n",
    "import pandas as pd\n",
    "import numpy as np\n",
    "import math\n",
    "import astropy.units as u\n",
    "import matplotlib.pyplot as plt\n",
    "from astropy.coordinates import SkyCoord\n",
    "from astropy.coordinates import Angle\n",
    "from astropy.stats import sigma_clip\n",
    "from astropy.io import fits\n",
    "from astropy.nddata import Cutout2D\n",
    "from astropy.wcs import WCS\n",
    "from astropy.nddata import Cutout2D\n",
    "import matplotlib.cm as cm\n",
    "import scipy.misc\n",
    "import scipy.stats as sta\n",
    "from matplotlib.colors import LogNorm\n",
    "from astropy.visualization import ZScaleInterval,LinearStretch,ImageNormalize\n",
    "get_ipython().magic('matplotlib inline')\n",
    "import plotly.graph_objects as go\n",
    "import plotly\n",
    "from astropy.cosmology import WMAP9 as cosmo\n",
    "from pandas.core.frame import DataFrame\n",
    "from scipy.optimize import curve_fit\n",
    "from scipy import integrate\n",
    "#1pixel=0.25arcsec"
   ]
  },
  {
   "cell_type": "code",
   "execution_count": 2,
   "metadata": {},
   "outputs": [],
   "source": [
    "def Scaleimgconverter(img):\n",
    "    norm=ImageNormalize(img,interval=ZScaleInterval(),stretch=LinearStretch())\n",
    "    return norm\n",
    "#绘制天区图像用"
   ]
  },
  {
   "cell_type": "code",
   "execution_count": 3,
   "metadata": {},
   "outputs": [],
   "source": [
    "def calculate_flux_per_frequency(mag):\n",
    "    flux_density=10**((48.6+mag)/(-2.5))\n",
    "    return flux_density\n",
    "\n",
    "def calculate_flux_per_wavelength(mag,corresponding_lambda):\n",
    "    flux_density=10**((48.6+mag)/(-2.5))\n",
    "    intensity=(flux_density*3e8*1e10)/(corresponding_lambda**2)\n",
    "    return intensity\n",
    "\n",
    "def calculate_flux(mag,corresponding_lambda,delta_lambda):\n",
    "    flux_density=10**((48.6+mag)/(-2.5))\n",
    "    intensity=(flux_density*3e8*1e10)/(corresponding_lambda**2)\n",
    "    flux=intensity*delta_lambda\n",
    "    return flux\n",
    "\n",
    "def calculate_distance(redshift):\n",
    "    distance=redshift*3e5/70\n",
    "    distance=distance*9.4607e17\n",
    "    distance=distance*3.2616e6\n",
    "    return(distance)\n",
    "\n",
    "def calculate_continuum_flux_density(flux_bw,flux_nb,delta_lambda_bw,delta_lambda_nb):\n",
    "    continuum_flux_density=(flux_bw-flux_nb)/(delta_lambda_bw-delta_lambda_nb)\n",
    "    return continuum_flux_density\n",
    "\n",
    "def calculate_continuum_subtracted_line_flux(flux_bw,flux_nb,delta_lambda_bw,delta_lambda_nb):\n",
    "    continuum_flux_density=(flux_bw-flux_nb)/(delta_lambda_bw-delta_lambda_nb)\n",
    "    continuum_subtracted_line_flux=flux_nb-continuum_flux_density*delta_lambda_nb\n",
    "    return continuum_subtracted_line_flux\n",
    "\n",
    "def calculate_SB(mag,corresponding_lambda,delta_lambda,area):\n",
    "    flux_density=10**((48.6+mag)/(-2.5))\n",
    "    intensity=(flux_density*3e8*1e10)/(corresponding_lambda**2)\n",
    "    flux=intensity*delta_lambda\n",
    "    surface_brightness=flux/(area*0.25*0.25)\n",
    "    return surface_brightness\n",
    "    \n",
    "# unit： erg per second per quare centimeter per suqare arcsec"
   ]
  },
  {
   "cell_type": "code",
   "execution_count": 4,
   "metadata": {},
   "outputs": [],
   "source": [
    "def CountPixel(img, x, y, boundary, lenth = 30):\n",
    "    x = x.astype(int)\n",
    "    y = y.astype(int)\n",
    "    img = img[(y - lenth):(y + lenth), (x - lenth):(x + lenth)]\n",
    "    return len(np.where(img > boundary)[0])"
   ]
  },
  {
   "cell_type": "code",
   "execution_count": 5,
   "metadata": {},
   "outputs": [],
   "source": [
    "def choose(img,x,y,thresholds,lenth):\n",
    "    x = x.astype(int)\n",
    "    y = y.astype(int)\n",
    "    img = img[(y - lenth):(y + lenth), (x - lenth):(x + lenth)]\n",
    "    for j in range(len(img)):\n",
    "        for i in range(len(img[0])):\n",
    "            if img[j][i]<thresholds:\n",
    "                return False\n",
    "    return True\n",
    "\n",
    "def wrong_choose(img,x,y,thresholds,lenth):\n",
    "    x = x.astype(int)\n",
    "    y = y.astype(int)\n",
    "    img = img[(y - lenth):(y + lenth), (x - lenth):(x + lenth)]\n",
    "    for j in range(len(img)):\n",
    "        for i in range(len(img[0])):\n",
    "            if img[j][i]<thresholds:\n",
    "                return True\n",
    "    return False"
   ]
  },
  {
   "cell_type": "code",
   "execution_count": 6,
   "metadata": {},
   "outputs": [],
   "source": [
    "def show_nebula(img1,img2,img3,x,y,size):\n",
    "    norm1 = Scaleimgconverter(img1)\n",
    "    norm2 = Scaleimgconverter(img2)\n",
    "    norm3 = Scaleimgconverter(img3)\n",
    "    center=[np.array([x],float),np.array([y],float)]\n",
    "    cutout1=Cutout2D(data, center,30, wcs = WCS(header))\n",
    "    cutout2=Cutout2D(data2, center,30, wcs = WCS(header))\n",
    "    cutout3=Cutout2D(datacut, center,30, wcs = WCS(header))\n",
    "  \n",
    "    x = x.astype(int)\n",
    "    y = y.astype(int)\n",
    "    x1=x-size\n",
    "    x2=x+size\n",
    "    y1=y-size\n",
    "    y2=y+size\n",
    "    fig = plt.figure()\n",
    "    ax = plt.subplot(131,projection=cutout1.wcs)\n",
    "    ax.set_xlabel('RA')\n",
    "    ax.set_ylabel('Dec')\n",
    "    ax.imshow(img1[y1:y2,x1:x2],norm=norm1,cmap=plt.cm.gray)\n",
    "    ra = ax.coords[0]\n",
    "    ra.set_major_formatter('hh:mm:ss')\n",
    "    dec = ax.coords[1]\n",
    "    dec.set_major_formatter('dd:mm:ss')\n",
    "    \n",
    "    fig = plt.figure()\n",
    "    ax = plt.subplot(132,projection=cutout2.wcs)\n",
    "    ax.set_xlabel('RA')\n",
    "    ax.set_ylabel('Dec')\n",
    "    ax.imshow(img2[y1:y2,x1:x2],norm=norm2,cmap=plt.cm.gray)\n",
    "    ra = ax.coords[0]\n",
    "    ra.set_major_formatter('hh:mm:ss')\n",
    "    dec = ax.coords[1]\n",
    "    dec.set_major_formatter('dd:mm:ss')\n",
    "\n",
    "    fig = plt.figure()\n",
    "    ax = plt.subplot(133,projection=cutout3.wcs)\n",
    "    ax.set_xlabel('RA')\n",
    "    ax.set_ylabel('Dec')\n",
    "    ax.imshow(img3[y1:y2,x1:x2],norm=norm3,cmap=plt.cm.gray)\n",
    "    ra = ax.coords[0]\n",
    "    ra.set_major_formatter('hh:mm:ss')\n",
    "    dec = ax.coords[1]\n",
    "    dec.set_major_formatter('dd:mm:ss')"
   ]
  },
  {
   "cell_type": "markdown",
   "metadata": {},
   "source": [
    "## 将cat文件转换为csv文件"
   ]
  },
  {
   "cell_type": "code",
   "execution_count": 2,
   "metadata": {},
   "outputs": [],
   "source": [
    "with open(\"BOSS1441_NB.csv\",'w+',newline='') as csvfile:#创建一个新的csv文件\n",
    "    spamwriter = csv.writer(csvfile, dialect='excel')\n",
    "    with open('1441nb_d1.0.cat','r',encoding = 'utf-8') as f:#打开那个.cat文件\n",
    "        linelist = f.readlines()[13:]#从第十三行读起\n",
    "        spamwriter.writerow(['NUMBER','X_IMAGE','Y_IMAGE','ALPHA_J2000','DELTA_J2000',\\\n",
    "                            'FLUX_APER','FLUXERR_APER','MAG_APER','MAGERR_APER ','FLAGS','NITER_MODEL','ISOAREA_IMAGE','ISOAREAF_IMAGE'])\n",
    "        for line in linelist:\n",
    "            line_list = line.strip('\\n').split() #split（）函数，按括号中的内容分割，strip函数，移除头尾指定的字符\n",
    "            spamwriter.writerow(line_list)"
   ]
  },
  {
   "cell_type": "code",
   "execution_count": 8,
   "metadata": {},
   "outputs": [],
   "source": [
    "with open(\"BOSS1441_Bw.csv\",'w+',newline='') as csvfile:\n",
    "    spamwriter = csv.writer(csvfile, dialect='excel')\n",
    "    with open('1441bw_d1.0.cat','r',encoding = 'utf-8') as f:\n",
    "        linelist = f.readlines()[13:]\n",
    "        spamwriter.writerow(['NUMBER','X_IMAGE','Y_IMAGE','ALPHA_J2000','DELTA_J2000',\\\n",
    "                            'FLUX_APER','FLUXERR_APER','MAG_APER','MAGERR_APER ','FLAGS','NITER_MODEL','ISOAREA_IMAGE','ISOAREAF_IMAGE'])\n",
    "        for line in linelist:\n",
    "            line_list = line.strip('\\n').split()\n",
    "            spamwriter.writerow(line_list)"
   ]
  },
  {
   "cell_type": "code",
   "execution_count": 9,
   "metadata": {},
   "outputs": [],
   "source": [
    "SDSS6=pd.read_csv(\"SDSS6.csv\",usecols=[1,2,3,4,5,6,7,8,9,10,11,12,13,14,15,16,17,18,19,20,21,22,23,24,25])\n",
    "BOSS1441_Bw=pd.read_csv(\"BOSS1441_Bw.csv\",usecols=[1,2,3,4,5,6,7,8,9,10,11,12])\n",
    "#index_col=False\n",
    "BOSS1441_NB=pd.read_csv(\"BOSS1441_NB.csv\",usecols=[1,2,3,4,5,6,7,8,9,10,11,12])#读取哪几列"
   ]
  },
  {
   "cell_type": "code",
   "execution_count": 10,
   "metadata": {},
   "outputs": [],
   "source": [
    "SDSS6=pd.concat([SDSS6,(SDSS6['umag']-0.8116*(SDSS6['umag'] - SDSS6['gmag']) + 0.1313)],axis=1)#计算bmag\n",
    "#axis： 需要合并链接的轴，0是行，1是列 \n",
    "\n",
    "SDSS6.columns=['_RAJ2000', '_DEJ2000',  'RA_ICRS',  'DE_ICRS',     'mode',   'q_mode',\\\n",
    "          'class',   'SDSS12', 'm_SDSS!2',  'ObsDate',        'Q',     'umag',\\\n",
    "         'e_umag',     'gmag',   'e_gmag',     'rmag',   'e_rmag',     'imag',\\\n",
    "         'e_imag',     'zmag',   'e_zmag',      'zsp',      'zph',    'e_zph',\\\n",
    "          '<zph>',          'bmag']\n",
    "#bmag是到这儿才加上来的\n"
   ]
  },
  {
   "cell_type": "code",
   "execution_count": 11,
   "metadata": {},
   "outputs": [],
   "source": [
    "coord_sdss=SkyCoord(ra=SDSS6['_RAJ2000']*u.degree, dec=SDSS6['_DEJ2000']*u.degree)\n",
    "#不乘u.degree会报错，但为什么也不是很清楚\n",
    "coord_bw=SkyCoord(ra=BOSS1441_Bw['ALPHA_J2000']*u.degree, dec=BOSS1441_Bw['DELTA_J2000']*u.degree)\n",
    "coord_nb=SkyCoord(ra=BOSS1441_NB['ALPHA_J2000']*u.degree, dec=BOSS1441_NB['DELTA_J2000']*u.degree)"
   ]
  },
  {
   "cell_type": "code",
   "execution_count": 12,
   "metadata": {},
   "outputs": [
    {
     "name": "stdout",
     "output_type": "stream",
     "text": [
      "<SkyCoord (ICRS): (ra, dec) in deg\n",
      "    [(220.497287, 39.715065), (220.482415, 39.700193),\n",
      "     (220.511518, 39.733417), ..., (220.10637 , 40.31191 ),\n",
      "     (220.040775, 40.289004), (220.040775, 40.289004)]>\n"
     ]
    }
   ],
   "source": [
    "print(coord_sdss)"
   ]
  },
  {
   "cell_type": "code",
   "execution_count": 13,
   "metadata": {},
   "outputs": [],
   "source": [
    "idx, d2d, d3d = coord_sdss.match_to_catalog_sky(coord_bw)\n"
   ]
  },
  {
   "cell_type": "code",
   "execution_count": 14,
   "metadata": {},
   "outputs": [
    {
     "name": "stdout",
     "output_type": "stream",
     "text": [
      "[  756    40  1866 ... 63968 63755 63755]\n"
     ]
    }
   ],
   "source": [
    "print(idx)#相匹配之点的indices"
   ]
  },
  {
   "cell_type": "code",
   "execution_count": 15,
   "metadata": {},
   "outputs": [
    {
     "name": "stdout",
     "output_type": "stream",
     "text": [
      "[0d00m42.9901s 0d01m33.9092s 0d00m00.1446s ... 0d05m24.972s 0d04m02.485s\n",
      " 0d04m02.485s]\n"
     ]
    }
   ],
   "source": [
    "print(d2d)#相匹配两点之间的2d距离"
   ]
  },
  {
   "cell_type": "code",
   "execution_count": 16,
   "metadata": {},
   "outputs": [
    {
     "name": "stdout",
     "output_type": "stream",
     "text": [
      "[2.08422070e-04 4.55284442e-04 7.00873738e-07 ... 1.57550861e-03\n",
      " 1.17560056e-03 1.17560056e-03]\n"
     ]
    }
   ],
   "source": [
    "print(d3d)#相匹配两点之间的3d距离，无量纲，貌似没什么用"
   ]
  },
  {
   "cell_type": "code",
   "execution_count": 17,
   "metadata": {},
   "outputs": [],
   "source": [
    "index = np.where((d2d < Angle('0d00m0.5s'))&(SDSS6['bmag'] < 20)&(SDSS6['bmag'] > 16.5))#把其中符合条件的摘出来，即用index来标出距离足够小的object"
   ]
  },
  {
   "cell_type": "code",
   "execution_count": 18,
   "metadata": {},
   "outputs": [],
   "source": [
    "idx=idx[index]#可以认为是同一个object的点的indices"
   ]
  },
  {
   "cell_type": "code",
   "execution_count": 19,
   "metadata": {},
   "outputs": [
    {
     "name": "stderr",
     "output_type": "stream",
     "text": [
      "/Users/jiangtianxiaoyubei/anaconda3/lib/python3.7/site-packages/ipykernel_launcher.py:1: FutureWarning:\n",
      "\n",
      "Series.data is deprecated and will be removed in a future version\n",
      "\n",
      "/Users/jiangtianxiaoyubei/anaconda3/lib/python3.7/site-packages/ipykernel_launcher.py:2: FutureWarning:\n",
      "\n",
      "Series.data is deprecated and will be removed in a future version\n",
      "\n",
      "/Users/jiangtianxiaoyubei/anaconda3/lib/python3.7/site-packages/ipykernel_launcher.py:3: FutureWarning:\n",
      "\n",
      "Series.data is deprecated and will be removed in a future version\n",
      "\n",
      "/Users/jiangtianxiaoyubei/anaconda3/lib/python3.7/site-packages/ipykernel_launcher.py:4: FutureWarning:\n",
      "\n",
      "Series.data is deprecated and will be removed in a future version\n",
      "\n"
     ]
    }
   ],
   "source": [
    "SDSS6_RAJ2000=SDSS6._RAJ2000.data.obj#SDSS的RA\n",
    "SDSS6_DEJ2000=SDSS6._DEJ2000.data.obj#SDSS的DEC\n",
    "SDSS6_bmag=SDSS6.bmag.data.obj#SDSS的bmag\n",
    "BOSS1441_Bw_list=BOSS1441_Bw.MAG_APER.data.obj#BOSS的Bw Mag"
   ]
  },
  {
   "cell_type": "code",
   "execution_count": 20,
   "metadata": {},
   "outputs": [
    {
     "name": "stderr",
     "output_type": "stream",
     "text": [
      "/Users/jiangtianxiaoyubei/anaconda3/lib/python3.7/site-packages/ipykernel_launcher.py:1: FutureWarning:\n",
      "\n",
      "Series.data is deprecated and will be removed in a future version\n",
      "\n"
     ]
    }
   ],
   "source": [
    "BOSS1441_Bw_list_standard=BOSS1441_Bw.MAG_APER.data.obj[idx]#BOSS中可被认为是相同object的部分\n",
    "SDSS6_bmag_standard=SDSS6_bmag[index]#SDSS中可被认为是相同object的部分"
   ]
  },
  {
   "cell_type": "code",
   "execution_count": 21,
   "metadata": {},
   "outputs": [
    {
     "name": "stderr",
     "output_type": "stream",
     "text": [
      "WARNING: AstropyDeprecationWarning: \"iters\" was deprecated in version 3.1 and will be removed in a future version. Use argument \"maxiters\" instead. [warnings]\n"
     ]
    }
   ],
   "source": [
    "zeropoint_bw=SDSS6_bmag_standard-BOSS1441_Bw_list_standard\n",
    "zeropoint_bw=sigma_clip(zeropoint_bw, sigma=3, iters=10)"
   ]
  },
  {
   "cell_type": "code",
   "execution_count": 22,
   "metadata": {},
   "outputs": [],
   "source": [
    "zp_bw=np.mean(zeropoint_bw)#Bw的zeropoint\n",
    "zp_std_bw=np.std(zeropoint_bw)#Bw的standard deviation"
   ]
  },
  {
   "cell_type": "code",
   "execution_count": 23,
   "metadata": {},
   "outputs": [
    {
     "data": {
      "image/png": "[encoded data removed]",
      "text/plain": [
       "<Figure size 432x288 with 1 Axes>"
      ]
     },
     "metadata": {
      "needs_background": "light"
     },
     "output_type": "display_data"
    },
    {
     "name": "stdout",
     "output_type": "stream",
     "text": [
      "Bw的zeropoint为 25.13518084\n",
      "Bw的standard deviation为 0.06008385005900087\n"
     ]
    }
   ],
   "source": [
    "plt.axhline(zp_bw)\n",
    "plt.xlabel('SDSS Magnitude')\n",
    "plt.ylabel('zero point')\n",
    "plt.scatter(x=SDSS6_bmag_standard,y=zeropoint_bw,s=3)\n",
    "plt.axis([16.5, 20.5, 24, 26])\n",
    "plt.show()\n",
    "\n",
    "print('Bw的zeropoint为',zp_bw)\n",
    "print('Bw的standard deviation为',zp_std_bw)"
   ]
  },
  {
   "cell_type": "code",
   "execution_count": 24,
   "metadata": {},
   "outputs": [],
   "source": [
    "BOSS1441_Bw=pd.concat([BOSS1441_Bw,BOSS1441_Bw.MAG_APER+zp_bw],axis=1)\n",
    "BOSS1441_Bw.columns=['X_IMAGE','Y_IMAGE','ALPHA_J2000','DELTA_J2000','FLUX_APER','FLUXERR_APER','MAG_APER','MAGERR_APER ','FLAGS','NITER_MODEL','ISOAREA_IMAGE','ISOAREAF_IMAGE','standard_mag']\n",
    "#重写Bw的dataframe，把加了zp的真实mag扔进去，新的一列就叫standard_mag"
   ]
  },
  {
   "cell_type": "code",
   "execution_count": 25,
   "metadata": {},
   "outputs": [],
   "source": [
    "idx_nb, d2d_nb, d3d_nb = coord_nb.match_to_catalog_sky(coord_bw)\n",
    "index_nb = np.where(d2d_nb < Angle('0d0m02s'))\n",
    "idx_nb=idx_nb[index_nb]"
   ]
  },
  {
   "cell_type": "code",
   "execution_count": 26,
   "metadata": {},
   "outputs": [
    {
     "name": "stderr",
     "output_type": "stream",
     "text": [
      "/Users/jiangtianxiaoyubei/anaconda3/lib/python3.7/site-packages/ipykernel_launcher.py:1: FutureWarning:\n",
      "\n",
      "Series.data is deprecated and will be removed in a future version\n",
      "\n",
      "/Users/jiangtianxiaoyubei/anaconda3/lib/python3.7/site-packages/ipykernel_launcher.py:6: FutureWarning:\n",
      "\n",
      "Series.data is deprecated and will be removed in a future version\n",
      "\n"
     ]
    }
   ],
   "source": [
    "BOSS1441_NB_match = BOSS1441_NB.MAG_APER.data.obj[index_nb]\n",
    "#这是全部的可以与NB中对应成功的NB中的源的现在的nb_magnitude,包括galaxy和star\n",
    "index_zp = np.where((BOSS1441_NB_match < 5) &(BOSS1441_NB_match > 0))\n",
    "#这是全部可以用来计算zeropoint的NB的点\n",
    "\n",
    "mid=BOSS1441_Bw.standard_mag.data.obj[idx_nb]\n",
    "mag_bw_standard_select=mid[index_zp]#这里面写出来的则是与下面那个对应的bw中的标准的magnitude\n",
    "mag_nb_standard_select=BOSS1441_NB_match[index_zp]#这里面写出来是标准的nb的magnitude"
   ]
  },
  {
   "cell_type": "code",
   "execution_count": 27,
   "metadata": {},
   "outputs": [
    {
     "name": "stderr",
     "output_type": "stream",
     "text": [
      "WARNING: AstropyDeprecationWarning: \"iters\" was deprecated in version 3.1 and will be removed in a future version. Use argument \"maxiters\" instead. [warnings]\n"
     ]
    }
   ],
   "source": [
    "zeropoint_nb=mag_bw_standard_select-mag_nb_standard_select\n",
    "zeropoint_nb=sigma_clip(zeropoint_nb, sigma=3, iters=10)"
   ]
  },
  {
   "cell_type": "code",
   "execution_count": 28,
   "metadata": {},
   "outputs": [],
   "source": [
    "zp_nb=np.mean(zeropoint_nb)\n",
    "zp_std_nb=np.std(zeropoint_nb)"
   ]
  },
  {
   "cell_type": "code",
   "execution_count": 29,
   "metadata": {},
   "outputs": [
    {
     "data": {
      "image/png": "[encoded data removed]",
      "text/plain": [
       "<Figure size 432x288 with 1 Axes>"
      ]
     },
     "metadata": {
      "needs_background": "light"
     },
     "output_type": "display_data"
    },
    {
     "name": "stdout",
     "output_type": "stream",
     "text": [
      "NB的zeropoint为 22.26922889641555\n",
      "NB的standard deviation为 0.5259199586772351\n"
     ]
    }
   ],
   "source": [
    "plt.axhline(zp_nb)\n",
    "plt.xlabel('NB Magnitude')\n",
    "plt.ylabel('zero point')\n",
    "plt.scatter(x=mag_nb_standard_select,y=mag_bw_standard_select-mag_nb_standard_select,s=3)\n",
    "#plt.axis([0,5.5,18,30])\n",
    "plt.show()\n",
    "\n",
    "print('NB的zeropoint为',zp_nb)\n",
    "print('NB的standard deviation为',zp_std_nb)"
   ]
  },
  {
   "cell_type": "code",
   "execution_count": 30,
   "metadata": {},
   "outputs": [],
   "source": [
    "BOSS1441_NB=pd.concat([BOSS1441_NB,BOSS1441_NB.MAG_APER+zp_nb],axis=1)\n",
    "BOSS1441_NB.columns=['X_IMAGE','Y_IMAGE','ALPHA_J2000','DELTA_J2000','FLUX_APER','FLUXERR_APER','MAG_APER','MAGERR_APER ','FLAGS','NITER_MODEL','ISOAREA_IMAGE','ISOAREAF_IMAGE','standard_mag']"
   ]
  },
  {
   "cell_type": "code",
   "execution_count": 31,
   "metadata": {},
   "outputs": [],
   "source": [
    "BOSS1441_NB_match=BOSS1441_NB_match+zp_nb\n",
    "mag_nb_draw=BOSS1441_NB_match"
   ]
  },
  {
   "cell_type": "code",
   "execution_count": 32,
   "metadata": {},
   "outputs": [
    {
     "name": "stderr",
     "output_type": "stream",
     "text": [
      "/Users/jiangtianxiaoyubei/anaconda3/lib/python3.7/site-packages/ipykernel_launcher.py:4: FutureWarning:\n",
      "\n",
      "Series.data is deprecated and will be removed in a future version\n",
      "\n",
      "/Users/jiangtianxiaoyubei/anaconda3/lib/python3.7/site-packages/ipykernel_launcher.py:5: FutureWarning:\n",
      "\n",
      "Series.data is deprecated and will be removed in a future version\n",
      "\n",
      "/Users/jiangtianxiaoyubei/anaconda3/lib/python3.7/site-packages/ipykernel_launcher.py:7: FutureWarning:\n",
      "\n",
      "Series.data is deprecated and will be removed in a future version\n",
      "\n",
      "/Users/jiangtianxiaoyubei/anaconda3/lib/python3.7/site-packages/ipykernel_launcher.py:8: FutureWarning:\n",
      "\n",
      "Series.data is deprecated and will be removed in a future version\n",
      "\n"
     ]
    }
   ],
   "source": [
    "flux_bw=[]\n",
    "flux_nb=[]\n",
    "\n",
    "for i in range(len(BOSS1441_Bw.standard_mag.data.obj)):#对里面所有的点，求bw flux\n",
    "    flux_bw.append(calculate_flux(BOSS1441_Bw.standard_mag.data.obj[i],4135,1278))\n",
    "    \n",
    "for i in range(len(BOSS1441_NB.standard_mag.data.obj)):#对里面所有的点,求nb flux\n",
    "    flux_nb.append(calculate_flux(BOSS1441_NB.standard_mag.data.obj[i],4030,45))\n",
    "\n",
    "flux_bw=DataFrame(flux_bw)#转换格式\n",
    "flux_nb=DataFrame(flux_nb)#转换格式"
   ]
  },
  {
   "cell_type": "code",
   "execution_count": 33,
   "metadata": {},
   "outputs": [],
   "source": [
    "BOSS1441_Bw=pd.concat([BOSS1441_Bw,flux_bw],axis=1)\n",
    "BOSS1441_Bw.columns=['X_IMAGE','Y_IMAGE','ALPHA_J2000','DELTA_J2000','FLUX_APER','FLUXERR_APER','MAG_APER','MAGERR_APER','FLAGS','NITER_MODEL','ISOAREA_IMAGE','ISOAREAF_IMAGE','standard_mag','flux_bw']\n",
    "\n",
    "BOSS1441_NB=pd.concat([BOSS1441_NB,flux_nb],axis=1)\n",
    "BOSS1441_NB.columns=['X_IMAGE','Y_IMAGE','ALPHA_J2000','DELTA_J2000','FLUX_APER','FLUXERR_APER','MAG_APER','MAGERR_APER','FLAGS','NITER_MODEL','ISOAREA_IMAGE','ISOAREAF_IMAGE','standard_mag','flux_nb']"
   ]
  },
  {
   "cell_type": "code",
   "execution_count": 34,
   "metadata": {},
   "outputs": [],
   "source": [
    "#至此，分别计算出了NB和Bw中每个object的flux，并放入了各自的DataFrame中"
   ]
  },
  {
   "cell_type": "code",
   "execution_count": 35,
   "metadata": {},
   "outputs": [
    {
     "name": "stderr",
     "output_type": "stream",
     "text": [
      "/Users/jiangtianxiaoyubei/anaconda3/lib/python3.7/site-packages/ipykernel_launcher.py:1: FutureWarning:\n",
      "\n",
      "Series.data is deprecated and will be removed in a future version\n",
      "\n",
      "/Users/jiangtianxiaoyubei/anaconda3/lib/python3.7/site-packages/ipykernel_launcher.py:2: FutureWarning:\n",
      "\n",
      "Series.data is deprecated and will be removed in a future version\n",
      "\n"
     ]
    }
   ],
   "source": [
    "F_bw=BOSS1441_Bw.flux_bw.data.obj[idx_nb]\n",
    "F_nb=BOSS1441_NB.flux_nb.data.obj[index_nb]"
   ]
  },
  {
   "cell_type": "code",
   "execution_count": 36,
   "metadata": {},
   "outputs": [],
   "source": [
    "cont_flux_per_wavelength=[]\n",
    "for i in range(len(F_bw)):\n",
    "    #cont_flux_per_wavelength.append((F_bw[i]-F_nb[i])/(1278-45))\n",
    "    cont_flux_per_wavelength.append(calculate_continuum_flux_density(F_bw[i],F_nb[i],1278,45))\n",
    "    \n",
    "#得到了continuum flux density,下面要反求magnitude"
   ]
  },
  {
   "cell_type": "code",
   "execution_count": 37,
   "metadata": {},
   "outputs": [],
   "source": [
    "#idx_nb是全部可以配对的Bw emitter\n",
    "#index_nb是与之相对应的全部可以配对的NB emitter"
   ]
  },
  {
   "cell_type": "code",
   "execution_count": 38,
   "metadata": {
    "scrolled": true
   },
   "outputs": [
    {
     "name": "stdout",
     "output_type": "stream",
     "text": [
      "47359\n",
      "47359\n",
      "47359\n",
      "47359\n"
     ]
    },
    {
     "name": "stderr",
     "output_type": "stream",
     "text": [
      "/Users/jiangtianxiaoyubei/anaconda3/lib/python3.7/site-packages/ipykernel_launcher.py:3: FutureWarning:\n",
      "\n",
      "Series.data is deprecated and will be removed in a future version\n",
      "\n",
      "/Users/jiangtianxiaoyubei/anaconda3/lib/python3.7/site-packages/ipykernel_launcher.py:4: FutureWarning:\n",
      "\n",
      "Series.data is deprecated and will be removed in a future version\n",
      "\n"
     ]
    }
   ],
   "source": [
    "print(len(cont_flux_per_wavelength))\n",
    "print(len(mag_nb_draw))\n",
    "print(len(BOSS1441_Bw.standard_mag.data.obj[idx_nb]))\n",
    "print(len(BOSS1441_NB.standard_mag.data.obj[index_nb]))\n",
    "#所以我想干脆弄一个新的DataFrame"
   ]
  },
  {
   "cell_type": "code",
   "execution_count": 39,
   "metadata": {},
   "outputs": [],
   "source": [
    "#把这些搞到一个列表里方便使用"
   ]
  },
  {
   "cell_type": "code",
   "execution_count": 40,
   "metadata": {},
   "outputs": [],
   "source": [
    "Bw_1=pd.DataFrame()\n",
    "NB_1=pd.DataFrame()"
   ]
  },
  {
   "cell_type": "code",
   "execution_count": 41,
   "metadata": {},
   "outputs": [
    {
     "name": "stderr",
     "output_type": "stream",
     "text": [
      "/Users/jiangtianxiaoyubei/anaconda3/lib/python3.7/site-packages/ipykernel_launcher.py:1: FutureWarning:\n",
      "\n",
      "Series.data is deprecated and will be removed in a future version\n",
      "\n",
      "/Users/jiangtianxiaoyubei/anaconda3/lib/python3.7/site-packages/ipykernel_launcher.py:2: FutureWarning:\n",
      "\n",
      "Series.data is deprecated and will be removed in a future version\n",
      "\n",
      "/Users/jiangtianxiaoyubei/anaconda3/lib/python3.7/site-packages/ipykernel_launcher.py:3: FutureWarning:\n",
      "\n",
      "Series.data is deprecated and will be removed in a future version\n",
      "\n",
      "/Users/jiangtianxiaoyubei/anaconda3/lib/python3.7/site-packages/ipykernel_launcher.py:4: FutureWarning:\n",
      "\n",
      "Series.data is deprecated and will be removed in a future version\n",
      "\n",
      "/Users/jiangtianxiaoyubei/anaconda3/lib/python3.7/site-packages/ipykernel_launcher.py:5: FutureWarning:\n",
      "\n",
      "Series.data is deprecated and will be removed in a future version\n",
      "\n",
      "/Users/jiangtianxiaoyubei/anaconda3/lib/python3.7/site-packages/ipykernel_launcher.py:6: FutureWarning:\n",
      "\n",
      "Series.data is deprecated and will be removed in a future version\n",
      "\n",
      "/Users/jiangtianxiaoyubei/anaconda3/lib/python3.7/site-packages/ipykernel_launcher.py:7: FutureWarning:\n",
      "\n",
      "Series.data is deprecated and will be removed in a future version\n",
      "\n",
      "/Users/jiangtianxiaoyubei/anaconda3/lib/python3.7/site-packages/ipykernel_launcher.py:8: FutureWarning:\n",
      "\n",
      "Series.data is deprecated and will be removed in a future version\n",
      "\n",
      "/Users/jiangtianxiaoyubei/anaconda3/lib/python3.7/site-packages/ipykernel_launcher.py:9: FutureWarning:\n",
      "\n",
      "Series.data is deprecated and will be removed in a future version\n",
      "\n",
      "/Users/jiangtianxiaoyubei/anaconda3/lib/python3.7/site-packages/ipykernel_launcher.py:10: FutureWarning:\n",
      "\n",
      "Series.data is deprecated and will be removed in a future version\n",
      "\n",
      "/Users/jiangtianxiaoyubei/anaconda3/lib/python3.7/site-packages/ipykernel_launcher.py:11: FutureWarning:\n",
      "\n",
      "Series.data is deprecated and will be removed in a future version\n",
      "\n",
      "/Users/jiangtianxiaoyubei/anaconda3/lib/python3.7/site-packages/ipykernel_launcher.py:12: FutureWarning:\n",
      "\n",
      "Series.data is deprecated and will be removed in a future version\n",
      "\n",
      "/Users/jiangtianxiaoyubei/anaconda3/lib/python3.7/site-packages/ipykernel_launcher.py:13: FutureWarning:\n",
      "\n",
      "Series.data is deprecated and will be removed in a future version\n",
      "\n",
      "/Users/jiangtianxiaoyubei/anaconda3/lib/python3.7/site-packages/ipykernel_launcher.py:14: FutureWarning:\n",
      "\n",
      "Series.data is deprecated and will be removed in a future version\n",
      "\n"
     ]
    }
   ],
   "source": [
    "Bw_1=pd.concat([Bw_1,DataFrame(BOSS1441_Bw.X_IMAGE.data.obj[idx_nb])],axis=1)\n",
    "Bw_1=pd.concat([Bw_1,DataFrame(BOSS1441_Bw.Y_IMAGE.data.obj[idx_nb])],axis=1)\n",
    "Bw_1=pd.concat([Bw_1,DataFrame(BOSS1441_Bw.ALPHA_J2000.data.obj[idx_nb])],axis=1)\n",
    "Bw_1=pd.concat([Bw_1,DataFrame(BOSS1441_Bw.DELTA_J2000.data.obj[idx_nb])],axis=1)\n",
    "Bw_1=pd.concat([Bw_1,DataFrame(BOSS1441_Bw.FLUX_APER.data.obj[idx_nb])],axis=1)\n",
    "Bw_1=pd.concat([Bw_1,DataFrame(BOSS1441_Bw.FLUXERR_APER.data.obj[idx_nb])],axis=1)\n",
    "Bw_1=pd.concat([Bw_1,DataFrame(BOSS1441_Bw.MAG_APER.data.obj[idx_nb])],axis=1)\n",
    "Bw_1=pd.concat([Bw_1,DataFrame(BOSS1441_Bw.MAGERR_APER.data.obj[idx_nb])],axis=1)\n",
    "Bw_1=pd.concat([Bw_1,DataFrame(BOSS1441_Bw.FLAGS.data.obj[idx_nb])],axis=1)\n",
    "Bw_1=pd.concat([Bw_1,DataFrame(BOSS1441_Bw.NITER_MODEL.data.obj[idx_nb])],axis=1)\n",
    "Bw_1=pd.concat([Bw_1,DataFrame(BOSS1441_Bw.ISOAREA_IMAGE.data.obj[idx_nb])],axis=1)\n",
    "Bw_1=pd.concat([Bw_1,DataFrame(BOSS1441_Bw.ISOAREAF_IMAGE.data.obj[idx_nb])],axis=1)\n",
    "Bw_1=pd.concat([Bw_1,DataFrame(BOSS1441_Bw.standard_mag.data.obj[idx_nb])],axis=1)\n",
    "Bw_1=pd.concat([Bw_1,DataFrame(BOSS1441_Bw.flux_bw.data.obj[idx_nb])],axis=1)\n",
    "Bw_1.columns=['X_IMAGE','Y_IMAGE','ALPHA_J2000','DELTA_J2000','FLUX_APER','FLUXERR_APER','MAG_APER','MAGERR_APER','FLAGS','NITER_MODEL','ISOAREA_IMAGE','ISOAREAF_IMAGE','standard_mag','flux_bw']"
   ]
  },
  {
   "cell_type": "code",
   "execution_count": 42,
   "metadata": {},
   "outputs": [
    {
     "name": "stderr",
     "output_type": "stream",
     "text": [
      "/Users/jiangtianxiaoyubei/anaconda3/lib/python3.7/site-packages/ipykernel_launcher.py:1: FutureWarning:\n",
      "\n",
      "Series.data is deprecated and will be removed in a future version\n",
      "\n",
      "/Users/jiangtianxiaoyubei/anaconda3/lib/python3.7/site-packages/ipykernel_launcher.py:2: FutureWarning:\n",
      "\n",
      "Series.data is deprecated and will be removed in a future version\n",
      "\n",
      "/Users/jiangtianxiaoyubei/anaconda3/lib/python3.7/site-packages/ipykernel_launcher.py:3: FutureWarning:\n",
      "\n",
      "Series.data is deprecated and will be removed in a future version\n",
      "\n",
      "/Users/jiangtianxiaoyubei/anaconda3/lib/python3.7/site-packages/ipykernel_launcher.py:4: FutureWarning:\n",
      "\n",
      "Series.data is deprecated and will be removed in a future version\n",
      "\n",
      "/Users/jiangtianxiaoyubei/anaconda3/lib/python3.7/site-packages/ipykernel_launcher.py:5: FutureWarning:\n",
      "\n",
      "Series.data is deprecated and will be removed in a future version\n",
      "\n",
      "/Users/jiangtianxiaoyubei/anaconda3/lib/python3.7/site-packages/ipykernel_launcher.py:6: FutureWarning:\n",
      "\n",
      "Series.data is deprecated and will be removed in a future version\n",
      "\n",
      "/Users/jiangtianxiaoyubei/anaconda3/lib/python3.7/site-packages/ipykernel_launcher.py:7: FutureWarning:\n",
      "\n",
      "Series.data is deprecated and will be removed in a future version\n",
      "\n",
      "/Users/jiangtianxiaoyubei/anaconda3/lib/python3.7/site-packages/ipykernel_launcher.py:8: FutureWarning:\n",
      "\n",
      "Series.data is deprecated and will be removed in a future version\n",
      "\n",
      "/Users/jiangtianxiaoyubei/anaconda3/lib/python3.7/site-packages/ipykernel_launcher.py:9: FutureWarning:\n",
      "\n",
      "Series.data is deprecated and will be removed in a future version\n",
      "\n",
      "/Users/jiangtianxiaoyubei/anaconda3/lib/python3.7/site-packages/ipykernel_launcher.py:10: FutureWarning:\n",
      "\n",
      "Series.data is deprecated and will be removed in a future version\n",
      "\n",
      "/Users/jiangtianxiaoyubei/anaconda3/lib/python3.7/site-packages/ipykernel_launcher.py:11: FutureWarning:\n",
      "\n",
      "Series.data is deprecated and will be removed in a future version\n",
      "\n",
      "/Users/jiangtianxiaoyubei/anaconda3/lib/python3.7/site-packages/ipykernel_launcher.py:12: FutureWarning:\n",
      "\n",
      "Series.data is deprecated and will be removed in a future version\n",
      "\n",
      "/Users/jiangtianxiaoyubei/anaconda3/lib/python3.7/site-packages/ipykernel_launcher.py:13: FutureWarning:\n",
      "\n",
      "Series.data is deprecated and will be removed in a future version\n",
      "\n",
      "/Users/jiangtianxiaoyubei/anaconda3/lib/python3.7/site-packages/ipykernel_launcher.py:14: FutureWarning:\n",
      "\n",
      "Series.data is deprecated and will be removed in a future version\n",
      "\n"
     ]
    }
   ],
   "source": [
    "NB_1=pd.concat([NB_1,DataFrame(BOSS1441_NB.X_IMAGE.data.obj[index_nb])],axis=1)\n",
    "NB_1=pd.concat([NB_1,DataFrame(BOSS1441_NB.Y_IMAGE.data.obj[index_nb])],axis=1)\n",
    "NB_1=pd.concat([NB_1,DataFrame(BOSS1441_NB.ALPHA_J2000.data.obj[index_nb])],axis=1)\n",
    "NB_1=pd.concat([NB_1,DataFrame(BOSS1441_NB.DELTA_J2000.data.obj[index_nb])],axis=1)\n",
    "NB_1=pd.concat([NB_1,DataFrame(BOSS1441_NB.FLUX_APER.data.obj[index_nb])],axis=1)\n",
    "NB_1=pd.concat([NB_1,DataFrame(BOSS1441_NB.FLUXERR_APER.data.obj[index_nb])],axis=1)\n",
    "NB_1=pd.concat([NB_1,DataFrame(BOSS1441_NB.MAG_APER.data.obj[index_nb])],axis=1)\n",
    "NB_1=pd.concat([NB_1,DataFrame(BOSS1441_NB.MAGERR_APER.data.obj[index_nb])],axis=1)\n",
    "NB_1=pd.concat([NB_1,DataFrame(BOSS1441_NB.FLAGS.data.obj[index_nb])],axis=1)\n",
    "NB_1=pd.concat([NB_1,DataFrame(BOSS1441_NB.NITER_MODEL.data.obj[index_nb])],axis=1)\n",
    "NB_1=pd.concat([NB_1,DataFrame(BOSS1441_NB.ISOAREA_IMAGE.data.obj[index_nb])],axis=1)\n",
    "NB_1=pd.concat([NB_1,DataFrame(BOSS1441_NB.ISOAREAF_IMAGE.data.obj[index_nb])],axis=1)\n",
    "NB_1=pd.concat([NB_1,DataFrame(BOSS1441_NB.standard_mag.data.obj[index_nb])],axis=1)\n",
    "NB_1=pd.concat([NB_1,DataFrame(BOSS1441_NB.flux_nb.data.obj[index_nb])],axis=1)\n",
    "NB_1.columns=['X_IMAGE','Y_IMAGE','ALPHA_J2000','DELTA_J2000','FLUX_APER','FLUXERR_APER','MAG_APER','MAGERR_APER','FLAGS','NITER_MODEL','ISOAREA_IMAGE','ISOAREAF_IMAGE','standard_mag','flux_nb']"
   ]
  },
  {
   "cell_type": "code",
   "execution_count": 43,
   "metadata": {},
   "outputs": [],
   "source": [
    "#现在的Bw_1,NB_1就是还没有去掉那几个负值的时候的Bw_cont-NB的所有点"
   ]
  },
  {
   "cell_type": "code",
   "execution_count": 44,
   "metadata": {},
   "outputs": [
    {
     "name": "stdout",
     "output_type": "stream",
     "text": [
      "819\n"
     ]
    }
   ],
   "source": [
    "minus_number=[]\n",
    "for i in range(len(cont_flux_per_wavelength)):\n",
    "    if (cont_flux_per_wavelength[i]<0):\n",
    "        #print(cont_flux_per_wavelength[i])\n",
    "        minus_number.append(i)\n",
    "print(len(minus_number))"
   ]
  },
  {
   "cell_type": "code",
   "execution_count": 45,
   "metadata": {},
   "outputs": [],
   "source": [
    "nb_xaxis=mag_nb_draw.tolist()#转为list格式，方便操作"
   ]
  },
  {
   "cell_type": "code",
   "execution_count": 46,
   "metadata": {},
   "outputs": [],
   "source": [
    "cont_flux_per_frequency=[]\n",
    "for i in range(len(cont_flux_per_wavelength)):\n",
    "    cont_flux_per_frequency.append((cont_flux_per_wavelength[i]*(4135**2)/(3e8*1e10)))\n",
    "    \n",
    "#把cont_flux_per_wavelength转为 per frequency"
   ]
  },
  {
   "cell_type": "code",
   "execution_count": 47,
   "metadata": {},
   "outputs": [],
   "source": [
    "Bw_1.drop(minus_number,inplace=True)\n",
    "NB_1.drop(minus_number,inplace=True)"
   ]
  },
  {
   "cell_type": "code",
   "execution_count": 48,
   "metadata": {},
   "outputs": [],
   "source": [
    "for j in range(len(minus_number)):\n",
    "    length=len(cont_flux_per_frequency)\n",
    "    for i in range(length):\n",
    "            if cont_flux_per_frequency[i]<0:\n",
    "                del cont_flux_per_frequency[i]\n",
    "                del nb_xaxis[i]\n",
    "                break\n",
    "\n",
    "#因为定义域的问题删掉那些不能被log运算的负值,下面那个是错误的做法，因为删除元素本身会影响到cont_flux_per_frequency的长度，所以要用一个\n",
    "#嵌套循环"
   ]
  },
  {
   "cell_type": "code",
   "execution_count": 49,
   "metadata": {},
   "outputs": [],
   "source": [
    "#这时的NB_1和Bw_1删掉了flux为负的部分，完全和Bw-NB图一致了"
   ]
  },
  {
   "cell_type": "code",
   "execution_count": 50,
   "metadata": {},
   "outputs": [
    {
     "data": {
      "text/plain": [
       "'\\nfor i in range(len(cont_flux_per_frequency[i])):\\n    if cont_flux_per_frequency[i]<0:\\n        del cont_flux_per_frequency[i]\\n        del nb_xaxis[i]\\n        length=length-1\\n'"
      ]
     },
     "execution_count": 50,
     "metadata": {},
     "output_type": "execute_result"
    }
   ],
   "source": [
    "'''\n",
    "for i in range(len(cont_flux_per_frequency[i])):\n",
    "    if cont_flux_per_frequency[i]<0:\n",
    "        del cont_flux_per_frequency[i]\n",
    "        del nb_xaxis[i]\n",
    "        length=length-1\n",
    "'''\n",
    "#错误做法"
   ]
  },
  {
   "cell_type": "code",
   "execution_count": 51,
   "metadata": {},
   "outputs": [],
   "source": [
    "Bw_1=pd.concat([Bw_1,DataFrame(cont_flux_per_frequency)],axis=1)\n",
    "Bw_1=pd.concat([Bw_1,DataFrame(cont_flux_per_wavelength)],axis=1)\n",
    "Bw_1.columns=['X_IMAGE','Y_IMAGE','ALPHA_J2000','DELTA_J2000','FLUX_APER','FLUXERR_APER','MAG_APER','MAGERR_APER','FLAGS','NITER_MODEL','ISOAREA_IMAGE','ISOAREAF_IMAGE','standard_mag','flux_bw','cont_flux_per_frequency','cont_flux_per_wavelength']\n",
    "\n",
    "NB_1=pd.concat([NB_1,DataFrame(cont_flux_per_frequency)],axis=1)\n",
    "NB_1=pd.concat([NB_1,DataFrame(cont_flux_per_wavelength)],axis=1)\n",
    "NB_1.columns=['X_IMAGE','Y_IMAGE','ALPHA_J2000','DELTA_J2000','FLUX_APER','FLUXERR_APER','MAG_APER','MAGERR_APER','FLAGS','NITER_MODEL','ISOAREA_IMAGE','ISOAREAF_IMAGE','standard_mag','flux_nb','cont_flux_per_frequency','cont_flux_per_wavelength']"
   ]
  },
  {
   "cell_type": "code",
   "execution_count": 52,
   "metadata": {},
   "outputs": [],
   "source": [
    "#把那个continnum flux也放进去了"
   ]
  },
  {
   "cell_type": "code",
   "execution_count": 53,
   "metadata": {},
   "outputs": [],
   "source": [
    "cont_bw=[]\n",
    "for i in range(len(cont_flux_per_frequency)):\n",
    "    cont_bw.append((-2.5*math.log(cont_flux_per_frequency[i],10)-48.6))\n",
    "\n",
    "# 这是根据cont_flux_per_frequency计算的continuum Bw magnitude"
   ]
  },
  {
   "cell_type": "code",
   "execution_count": 54,
   "metadata": {},
   "outputs": [],
   "source": [
    "Bw_1=pd.concat([Bw_1,DataFrame(cont_bw)],axis=1)\n",
    "NB_1=pd.concat([NB_1,DataFrame(cont_bw)],axis=1)\n",
    "Bw_1.columns=['X_IMAGE','Y_IMAGE','ALPHA_J2000','DELTA_J2000','FLUX_APER','FLUXERR_APER','MAG_APER','MAGERR_APER','FLAGS','NITER_MODEL','ISOAREA_IMAGE','ISOAREAF_IMAGE','standard_mag','flux_bw','cont_flux_per_frequency','cont_flux_per_wavelength','cont_bw']\n",
    "NB_1.columns=['X_IMAGE','Y_IMAGE','ALPHA_J2000','DELTA_J2000','FLUX_APER','FLUXERR_APER','MAG_APER','MAGERR_APER','FLAGS','NITER_MODEL','ISOAREA_IMAGE','ISOAREAF_IMAGE','standard_mag','flux_nb','cont_flux_per_frequency','cont_flux_per_wavelength','cont_bw']\n",
    "\n"
   ]
  },
  {
   "cell_type": "code",
   "execution_count": 55,
   "metadata": {},
   "outputs": [],
   "source": [
    "bw_sub_nb=[]\n",
    "for i in range(len(cont_bw)):\n",
    "    bw_sub_nb.append(cont_bw[i]-nb_xaxis[i])\n",
    "\n",
    "#continuum_Bw-NB magnitude"
   ]
  },
  {
   "cell_type": "code",
   "execution_count": 56,
   "metadata": {
    "scrolled": true
   },
   "outputs": [
    {
     "data": {
      "image/png": "[encoded data removed]",
      "text/plain": [
       "<Figure size 432x288 with 1 Axes>"
      ]
     },
     "metadata": {
      "needs_background": "light"
     },
     "output_type": "display_data"
    }
   ],
   "source": [
    "plt.scatter(nb_xaxis, bw_sub_nb, color = 'b', s=1)\n",
    "plt.axhline(0, color='k', linestyle='solid')\n",
    "plt.axhline(0.9, color='r', linestyle='--', linewidth = 1)\n",
    "plt.axvline(24, color='r', linestyle='--', linewidth = 1)\n",
    "plt.axis([12,30,-2,4])\n",
    "plt.xlabel('NB403')\n",
    "plt.ylabel('Bw - NB')\n",
    "plt.show()"
   ]
  },
  {
   "cell_type": "code",
   "execution_count": 57,
   "metadata": {},
   "outputs": [],
   "source": [
    "w = WCS('bwcut.fits')\n",
    "data,header=fits.getdata('bwcut.fits',header=True)\n",
    "data2,header2=fits.getdata('nbcut.fits',header=True)\n",
    "\n",
    "datacut=10**((zp_bw - zp_nb)/2.5) * data2-data\n",
    "#datacut=10**((zp_bw - zp_nb)/2.5) * data2-data2\n",
    "\n",
    "norm = Scaleimgconverter(datacut)\n",
    "\n",
    "lenx=len(data[0])\n",
    "leny=len(data)\n",
    "#最后两行暂时不知道有啥用"
   ]
  },
  {
   "cell_type": "code",
   "execution_count": 58,
   "metadata": {},
   "outputs": [
    {
     "data": {
      "text/plain": [
       "\"\\nhdu = fits.PrimaryHDU(datacut)\\nhdu.header=header2\\nhdul = fits.HDUList([hdu])\\nhdul.writeto('datacut1441.fits')\\n\""
      ]
     },
     "execution_count": 58,
     "metadata": {},
     "output_type": "execute_result"
    }
   ],
   "source": [
    "'''\n",
    "hdu = fits.PrimaryHDU(datacut)\n",
    "hdu.header=header2\n",
    "hdul = fits.HDUList([hdu])\n",
    "hdul.writeto('datacut1441.fits')\n",
    "'''\n",
    "#创建datacut.fits用"
   ]
  },
  {
   "cell_type": "code",
   "execution_count": 59,
   "metadata": {},
   "outputs": [
    {
     "name": "stderr",
     "output_type": "stream",
     "text": [
      "/Users/jiangtianxiaoyubei/anaconda3/lib/python3.7/site-packages/ipykernel_launcher.py:3: FutureWarning:\n",
      "\n",
      "Series.data is deprecated and will be removed in a future version\n",
      "\n",
      "/Users/jiangtianxiaoyubei/anaconda3/lib/python3.7/site-packages/ipykernel_launcher.py:4: FutureWarning:\n",
      "\n",
      "Series.data is deprecated and will be removed in a future version\n",
      "\n",
      "/Users/jiangtianxiaoyubei/anaconda3/lib/python3.7/site-packages/ipykernel_launcher.py:5: FutureWarning:\n",
      "\n",
      "Series.data is deprecated and will be removed in a future version\n",
      "\n"
     ]
    }
   ],
   "source": [
    "index_candidate=[]\n",
    "for i in range(len(idx_nb)):\n",
    "    if (Bw_1.standard_mag.data.obj[i]-NB_1.standard_mag.data.obj[i] > 0.9) \\\n",
    "        & (NB_1.standard_mag.data.obj[i]< 24):\n",
    "        if choose(datacut,NB_1.X_IMAGE.data.obj[i],NB_1.Y_IMAGE.data.obj[i],-10,40):\n",
    "            index_candidate.append(i)"
   ]
  },
  {
   "cell_type": "code",
   "execution_count": 60,
   "metadata": {},
   "outputs": [],
   "source": [
    "Bw_2=pd.DataFrame()\n",
    "NB_2=pd.DataFrame()"
   ]
  },
  {
   "cell_type": "code",
   "execution_count": 61,
   "metadata": {},
   "outputs": [
    {
     "name": "stderr",
     "output_type": "stream",
     "text": [
      "/Users/jiangtianxiaoyubei/anaconda3/lib/python3.7/site-packages/ipykernel_launcher.py:1: FutureWarning:\n",
      "\n",
      "Series.data is deprecated and will be removed in a future version\n",
      "\n",
      "/Users/jiangtianxiaoyubei/anaconda3/lib/python3.7/site-packages/ipykernel_launcher.py:2: FutureWarning:\n",
      "\n",
      "Series.data is deprecated and will be removed in a future version\n",
      "\n",
      "/Users/jiangtianxiaoyubei/anaconda3/lib/python3.7/site-packages/ipykernel_launcher.py:3: FutureWarning:\n",
      "\n",
      "Series.data is deprecated and will be removed in a future version\n",
      "\n",
      "/Users/jiangtianxiaoyubei/anaconda3/lib/python3.7/site-packages/ipykernel_launcher.py:4: FutureWarning:\n",
      "\n",
      "Series.data is deprecated and will be removed in a future version\n",
      "\n",
      "/Users/jiangtianxiaoyubei/anaconda3/lib/python3.7/site-packages/ipykernel_launcher.py:5: FutureWarning:\n",
      "\n",
      "Series.data is deprecated and will be removed in a future version\n",
      "\n",
      "/Users/jiangtianxiaoyubei/anaconda3/lib/python3.7/site-packages/ipykernel_launcher.py:6: FutureWarning:\n",
      "\n",
      "Series.data is deprecated and will be removed in a future version\n",
      "\n",
      "/Users/jiangtianxiaoyubei/anaconda3/lib/python3.7/site-packages/ipykernel_launcher.py:7: FutureWarning:\n",
      "\n",
      "Series.data is deprecated and will be removed in a future version\n",
      "\n",
      "/Users/jiangtianxiaoyubei/anaconda3/lib/python3.7/site-packages/ipykernel_launcher.py:8: FutureWarning:\n",
      "\n",
      "Series.data is deprecated and will be removed in a future version\n",
      "\n",
      "/Users/jiangtianxiaoyubei/anaconda3/lib/python3.7/site-packages/ipykernel_launcher.py:9: FutureWarning:\n",
      "\n",
      "Series.data is deprecated and will be removed in a future version\n",
      "\n",
      "/Users/jiangtianxiaoyubei/anaconda3/lib/python3.7/site-packages/ipykernel_launcher.py:10: FutureWarning:\n",
      "\n",
      "Series.data is deprecated and will be removed in a future version\n",
      "\n",
      "/Users/jiangtianxiaoyubei/anaconda3/lib/python3.7/site-packages/ipykernel_launcher.py:11: FutureWarning:\n",
      "\n",
      "Series.data is deprecated and will be removed in a future version\n",
      "\n",
      "/Users/jiangtianxiaoyubei/anaconda3/lib/python3.7/site-packages/ipykernel_launcher.py:12: FutureWarning:\n",
      "\n",
      "Series.data is deprecated and will be removed in a future version\n",
      "\n",
      "/Users/jiangtianxiaoyubei/anaconda3/lib/python3.7/site-packages/ipykernel_launcher.py:13: FutureWarning:\n",
      "\n",
      "Series.data is deprecated and will be removed in a future version\n",
      "\n",
      "/Users/jiangtianxiaoyubei/anaconda3/lib/python3.7/site-packages/ipykernel_launcher.py:14: FutureWarning:\n",
      "\n",
      "Series.data is deprecated and will be removed in a future version\n",
      "\n",
      "/Users/jiangtianxiaoyubei/anaconda3/lib/python3.7/site-packages/ipykernel_launcher.py:15: FutureWarning:\n",
      "\n",
      "Series.data is deprecated and will be removed in a future version\n",
      "\n",
      "/Users/jiangtianxiaoyubei/anaconda3/lib/python3.7/site-packages/ipykernel_launcher.py:16: FutureWarning:\n",
      "\n",
      "Series.data is deprecated and will be removed in a future version\n",
      "\n",
      "/Users/jiangtianxiaoyubei/anaconda3/lib/python3.7/site-packages/ipykernel_launcher.py:17: FutureWarning:\n",
      "\n",
      "Series.data is deprecated and will be removed in a future version\n",
      "\n"
     ]
    }
   ],
   "source": [
    "Bw_2=pd.concat([Bw_2,DataFrame(Bw_1.X_IMAGE.data.obj[index_candidate])],axis=1)\n",
    "Bw_2=pd.concat([Bw_2,DataFrame(Bw_1.Y_IMAGE.data.obj[index_candidate])],axis=1)\n",
    "Bw_2=pd.concat([Bw_2,DataFrame(Bw_1.ALPHA_J2000.data.obj[index_candidate])],axis=1)\n",
    "Bw_2=pd.concat([Bw_2,DataFrame(Bw_1.DELTA_J2000.data.obj[index_candidate])],axis=1)\n",
    "Bw_2=pd.concat([Bw_2,DataFrame(Bw_1.FLUX_APER.data.obj[index_candidate])],axis=1)\n",
    "Bw_2=pd.concat([Bw_2,DataFrame(Bw_1.FLUXERR_APER.data.obj[index_candidate])],axis=1)\n",
    "Bw_2=pd.concat([Bw_2,DataFrame(Bw_1.MAG_APER.data.obj[index_candidate])],axis=1)\n",
    "Bw_2=pd.concat([Bw_2,DataFrame(Bw_1.MAGERR_APER.data.obj[index_candidate])],axis=1)\n",
    "Bw_2=pd.concat([Bw_2,DataFrame(Bw_1.FLAGS.data.obj[index_candidate])],axis=1)\n",
    "Bw_2=pd.concat([Bw_2,DataFrame(Bw_1.NITER_MODEL.data.obj[index_candidate])],axis=1)\n",
    "Bw_2=pd.concat([Bw_2,DataFrame(Bw_1.ISOAREA_IMAGE.data.obj[index_candidate])],axis=1)\n",
    "Bw_2=pd.concat([Bw_2,DataFrame(Bw_1.ISOAREAF_IMAGE.data.obj[index_candidate])],axis=1)\n",
    "Bw_2=pd.concat([Bw_2,DataFrame(Bw_1.standard_mag.data.obj[index_candidate])],axis=1)\n",
    "Bw_2=pd.concat([Bw_2,DataFrame(Bw_1.flux_bw.data.obj[index_candidate])],axis=1)\n",
    "Bw_2=pd.concat([Bw_2,DataFrame(Bw_1.cont_flux_per_frequency.data.obj[index_candidate])],axis=1)\n",
    "Bw_2=pd.concat([Bw_2,DataFrame(Bw_1.cont_flux_per_wavelength.data.obj[index_candidate])],axis=1)\n",
    "Bw_2=pd.concat([Bw_2,DataFrame(Bw_1.cont_bw.data.obj[index_candidate])],axis=1)\n",
    "Bw_2.columns=['X_IMAGE','Y_IMAGE','ALPHA_J2000','DELTA_J2000','FLUX_APER','FLUXERR_APER','MAG_APER','MAGERR_APER','FLAGS','NITER_MODEL','ISOAREA_IMAGE','ISOAREAF_IMAGE','standard_mag','flux_bw','cont_flux_per_frequency','cont_flux_per_wavelength','cont_bw']\n",
    "\n",
    "\n"
   ]
  },
  {
   "cell_type": "code",
   "execution_count": 62,
   "metadata": {},
   "outputs": [
    {
     "name": "stderr",
     "output_type": "stream",
     "text": [
      "/Users/jiangtianxiaoyubei/anaconda3/lib/python3.7/site-packages/ipykernel_launcher.py:1: FutureWarning:\n",
      "\n",
      "Series.data is deprecated and will be removed in a future version\n",
      "\n",
      "/Users/jiangtianxiaoyubei/anaconda3/lib/python3.7/site-packages/ipykernel_launcher.py:2: FutureWarning:\n",
      "\n",
      "Series.data is deprecated and will be removed in a future version\n",
      "\n",
      "/Users/jiangtianxiaoyubei/anaconda3/lib/python3.7/site-packages/ipykernel_launcher.py:3: FutureWarning:\n",
      "\n",
      "Series.data is deprecated and will be removed in a future version\n",
      "\n",
      "/Users/jiangtianxiaoyubei/anaconda3/lib/python3.7/site-packages/ipykernel_launcher.py:4: FutureWarning:\n",
      "\n",
      "Series.data is deprecated and will be removed in a future version\n",
      "\n",
      "/Users/jiangtianxiaoyubei/anaconda3/lib/python3.7/site-packages/ipykernel_launcher.py:5: FutureWarning:\n",
      "\n",
      "Series.data is deprecated and will be removed in a future version\n",
      "\n",
      "/Users/jiangtianxiaoyubei/anaconda3/lib/python3.7/site-packages/ipykernel_launcher.py:6: FutureWarning:\n",
      "\n",
      "Series.data is deprecated and will be removed in a future version\n",
      "\n",
      "/Users/jiangtianxiaoyubei/anaconda3/lib/python3.7/site-packages/ipykernel_launcher.py:7: FutureWarning:\n",
      "\n",
      "Series.data is deprecated and will be removed in a future version\n",
      "\n",
      "/Users/jiangtianxiaoyubei/anaconda3/lib/python3.7/site-packages/ipykernel_launcher.py:8: FutureWarning:\n",
      "\n",
      "Series.data is deprecated and will be removed in a future version\n",
      "\n",
      "/Users/jiangtianxiaoyubei/anaconda3/lib/python3.7/site-packages/ipykernel_launcher.py:9: FutureWarning:\n",
      "\n",
      "Series.data is deprecated and will be removed in a future version\n",
      "\n",
      "/Users/jiangtianxiaoyubei/anaconda3/lib/python3.7/site-packages/ipykernel_launcher.py:10: FutureWarning:\n",
      "\n",
      "Series.data is deprecated and will be removed in a future version\n",
      "\n",
      "/Users/jiangtianxiaoyubei/anaconda3/lib/python3.7/site-packages/ipykernel_launcher.py:11: FutureWarning:\n",
      "\n",
      "Series.data is deprecated and will be removed in a future version\n",
      "\n",
      "/Users/jiangtianxiaoyubei/anaconda3/lib/python3.7/site-packages/ipykernel_launcher.py:12: FutureWarning:\n",
      "\n",
      "Series.data is deprecated and will be removed in a future version\n",
      "\n",
      "/Users/jiangtianxiaoyubei/anaconda3/lib/python3.7/site-packages/ipykernel_launcher.py:13: FutureWarning:\n",
      "\n",
      "Series.data is deprecated and will be removed in a future version\n",
      "\n",
      "/Users/jiangtianxiaoyubei/anaconda3/lib/python3.7/site-packages/ipykernel_launcher.py:14: FutureWarning:\n",
      "\n",
      "Series.data is deprecated and will be removed in a future version\n",
      "\n",
      "/Users/jiangtianxiaoyubei/anaconda3/lib/python3.7/site-packages/ipykernel_launcher.py:15: FutureWarning:\n",
      "\n",
      "Series.data is deprecated and will be removed in a future version\n",
      "\n",
      "/Users/jiangtianxiaoyubei/anaconda3/lib/python3.7/site-packages/ipykernel_launcher.py:16: FutureWarning:\n",
      "\n",
      "Series.data is deprecated and will be removed in a future version\n",
      "\n",
      "/Users/jiangtianxiaoyubei/anaconda3/lib/python3.7/site-packages/ipykernel_launcher.py:17: FutureWarning:\n",
      "\n",
      "Series.data is deprecated and will be removed in a future version\n",
      "\n"
     ]
    }
   ],
   "source": [
    "NB_2=pd.concat([NB_2,DataFrame(NB_1.X_IMAGE.data.obj[index_candidate])],axis=1)\n",
    "NB_2=pd.concat([NB_2,DataFrame(NB_1.Y_IMAGE.data.obj[index_candidate])],axis=1)\n",
    "NB_2=pd.concat([NB_2,DataFrame(NB_1.ALPHA_J2000.data.obj[index_candidate])],axis=1)\n",
    "NB_2=pd.concat([NB_2,DataFrame(NB_1.DELTA_J2000.data.obj[index_candidate])],axis=1)\n",
    "NB_2=pd.concat([NB_2,DataFrame(NB_1.FLUX_APER.data.obj[index_candidate])],axis=1)\n",
    "NB_2=pd.concat([NB_2,DataFrame(NB_1.FLUXERR_APER.data.obj[index_candidate])],axis=1)\n",
    "NB_2=pd.concat([NB_2,DataFrame(NB_1.MAG_APER.data.obj[index_candidate])],axis=1)\n",
    "NB_2=pd.concat([NB_2,DataFrame(NB_1.MAGERR_APER.data.obj[index_candidate])],axis=1)\n",
    "NB_2=pd.concat([NB_2,DataFrame(NB_1.FLAGS.data.obj[index_candidate])],axis=1)\n",
    "NB_2=pd.concat([NB_2,DataFrame(NB_1.NITER_MODEL.data.obj[index_candidate])],axis=1)\n",
    "NB_2=pd.concat([NB_2,DataFrame(NB_1.ISOAREA_IMAGE.data.obj[index_candidate])],axis=1)\n",
    "NB_2=pd.concat([NB_2,DataFrame(NB_1.ISOAREAF_IMAGE.data.obj[index_candidate])],axis=1)\n",
    "NB_2=pd.concat([NB_2,DataFrame(NB_1.standard_mag.data.obj[index_candidate])],axis=1)\n",
    "NB_2=pd.concat([NB_2,DataFrame(NB_1.flux_nb.data.obj[index_candidate])],axis=1)\n",
    "NB_2=pd.concat([NB_2,DataFrame(NB_1.cont_flux_per_frequency.data.obj[index_candidate])],axis=1)\n",
    "NB_2=pd.concat([NB_2,DataFrame(NB_1.cont_flux_per_wavelength.data.obj[index_candidate])],axis=1)\n",
    "NB_2=pd.concat([NB_2,DataFrame(NB_1.cont_bw.data.obj[index_candidate])],axis=1)\n",
    "NB_2.columns=['X_IMAGE','Y_IMAGE','ALPHA_J2000','DELTA_J2000','FLUX_APER','FLUXERR_APER','MAG_APER','MAGERR_APER','FLAGS','NITER_MODEL','ISOAREA_IMAGE','ISOAREAF_IMAGE','standard_mag','flux_nb','cont_flux_per_frequency','cont_flux_per_wavelength','cont_bw']\n",
    "\n",
    "\n"
   ]
  },
  {
   "cell_type": "code",
   "execution_count": 63,
   "metadata": {},
   "outputs": [],
   "source": [
    "NB_2=pd.concat([NB_2,NB_2.flux_nb-(NB_2.cont_flux_per_wavelength*48)],axis=1)\n",
    "NB_2.columns=['X_IMAGE','Y_IMAGE','ALPHA_J2000','DELTA_J2000','FLUX_APER','FLUXERR_APER','MAG_APER','MAGERR_APER','FLAGS','NITER_MODEL','ISOAREA_IMAGE','ISOAREAF_IMAGE','standard_mag','flux_nb','cont_flux_per_frequency','cont_flux_per_wavelength','cont_bw','line_flux']\n",
    "\n"
   ]
  },
  {
   "cell_type": "code",
   "execution_count": 64,
   "metadata": {},
   "outputs": [],
   "source": [
    "#NB2,Bw2是左上角的candidates"
   ]
  },
  {
   "cell_type": "code",
   "execution_count": 65,
   "metadata": {},
   "outputs": [],
   "source": [
    "#下面一步，就是先把左上角的那些点摘出来，也就是得到emitter\n",
    "#筛选的条件要求，NB403在18-24之间，Bw-NB大于0.9，且对AREA要求大于25，而且choose那个函数也可以用一用，尽管意义不大"
   ]
  },
  {
   "cell_type": "code",
   "execution_count": 66,
   "metadata": {},
   "outputs": [],
   "source": [
    "with open(\"BOSS1441_datacut.csv\",'w+',newline='') as csvfile:#创建一个新的csv文件\n",
    "    spamwriter = csv.writer(csvfile, dialect='excel')\n",
    "    with open('datacut1441_1.0.cat','r',encoding = 'utf-8') as f:#打开那个.cat文件\n",
    "        linelist = f.readlines()[13:]#从第十三行写起\n",
    "        spamwriter.writerow(['NUMBER','X_IMAGE','Y_IMAGE','ALPHA_J2000','DELTA_J2000',\\\n",
    "                            'FLUX_APER','FLUXERR_APER','MAG_APER','MAGERR_APER','FLAGS','NITER_MODEL','ISOAREA_IMAGE','ISOAREAF_IMAGE'])\n",
    "        for line in linelist:\n",
    "            line_list = line.strip('\\n').split()#split（）函数，按括号中的内容分割，strip函数，移除头尾指定的字符\n",
    "            spamwriter.writerow(line_list)"
   ]
  },
  {
   "cell_type": "code",
   "execution_count": 67,
   "metadata": {},
   "outputs": [],
   "source": [
    "BOSS1441_datacut=pd.read_csv(\"BOSS1441_datacut.csv\",usecols=[1,2,3,4,5,6,7,8,9,10,11,12])#读取哪几列"
   ]
  },
  {
   "cell_type": "code",
   "execution_count": 68,
   "metadata": {},
   "outputs": [],
   "source": [
    "coord_datacut=SkyCoord(ra=BOSS1441_datacut['ALPHA_J2000']*u.degree, dec=BOSS1441_datacut['DELTA_J2000']*u.degree)"
   ]
  },
  {
   "cell_type": "code",
   "execution_count": 69,
   "metadata": {},
   "outputs": [],
   "source": [
    "idx_datacut, d2d_datacut, d3d_datacut = coord_nb.match_to_catalog_sky(coord_datacut)\n",
    "index_datacut = np.where(d2d_datacut < Angle('0d0m02s'))\n",
    "idx_datacut=idx_datacut[index_datacut]\n",
    "\n",
    "#datacut中能够与nb中object匹配的全部object"
   ]
  },
  {
   "cell_type": "code",
   "execution_count": 70,
   "metadata": {},
   "outputs": [
    {
     "name": "stderr",
     "output_type": "stream",
     "text": [
      "/Users/jiangtianxiaoyubei/anaconda3/lib/python3.7/site-packages/ipykernel_launcher.py:3: FutureWarning:\n",
      "\n",
      "Series.data is deprecated and will be removed in a future version\n",
      "\n",
      "/Users/jiangtianxiaoyubei/anaconda3/lib/python3.7/site-packages/ipykernel_launcher.py:4: FutureWarning:\n",
      "\n",
      "Series.data is deprecated and will be removed in a future version\n",
      "\n",
      "/Users/jiangtianxiaoyubei/anaconda3/lib/python3.7/site-packages/ipykernel_launcher.py:5: FutureWarning:\n",
      "\n",
      "Series.data is deprecated and will be removed in a future version\n",
      "\n",
      "/Users/jiangtianxiaoyubei/anaconda3/lib/python3.7/site-packages/ipykernel_launcher.py:6: FutureWarning:\n",
      "\n",
      "Series.data is deprecated and will be removed in a future version\n",
      "\n",
      "/Users/jiangtianxiaoyubei/anaconda3/lib/python3.7/site-packages/ipykernel_launcher.py:7: FutureWarning:\n",
      "\n",
      "Series.data is deprecated and will be removed in a future version\n",
      "\n",
      "/Users/jiangtianxiaoyubei/anaconda3/lib/python3.7/site-packages/ipykernel_launcher.py:8: FutureWarning:\n",
      "\n",
      "Series.data is deprecated and will be removed in a future version\n",
      "\n",
      "/Users/jiangtianxiaoyubei/anaconda3/lib/python3.7/site-packages/ipykernel_launcher.py:9: FutureWarning:\n",
      "\n",
      "Series.data is deprecated and will be removed in a future version\n",
      "\n",
      "/Users/jiangtianxiaoyubei/anaconda3/lib/python3.7/site-packages/ipykernel_launcher.py:10: FutureWarning:\n",
      "\n",
      "Series.data is deprecated and will be removed in a future version\n",
      "\n",
      "/Users/jiangtianxiaoyubei/anaconda3/lib/python3.7/site-packages/ipykernel_launcher.py:11: FutureWarning:\n",
      "\n",
      "Series.data is deprecated and will be removed in a future version\n",
      "\n",
      "/Users/jiangtianxiaoyubei/anaconda3/lib/python3.7/site-packages/ipykernel_launcher.py:12: FutureWarning:\n",
      "\n",
      "Series.data is deprecated and will be removed in a future version\n",
      "\n",
      "/Users/jiangtianxiaoyubei/anaconda3/lib/python3.7/site-packages/ipykernel_launcher.py:13: FutureWarning:\n",
      "\n",
      "Series.data is deprecated and will be removed in a future version\n",
      "\n",
      "/Users/jiangtianxiaoyubei/anaconda3/lib/python3.7/site-packages/ipykernel_launcher.py:14: FutureWarning:\n",
      "\n",
      "Series.data is deprecated and will be removed in a future version\n",
      "\n"
     ]
    }
   ],
   "source": [
    "datacut_1=pd.DataFrame()\n",
    "\n",
    "datacut_1=pd.concat([datacut_1,DataFrame(BOSS1441_datacut.X_IMAGE.data.obj[idx_datacut])],axis=1)\n",
    "datacut_1=pd.concat([datacut_1,DataFrame(BOSS1441_datacut.Y_IMAGE.data.obj[idx_datacut])],axis=1)\n",
    "datacut_1=pd.concat([datacut_1,DataFrame(BOSS1441_datacut.ALPHA_J2000.data.obj[idx_datacut])],axis=1)\n",
    "datacut_1=pd.concat([datacut_1,DataFrame(BOSS1441_datacut.DELTA_J2000.data.obj[idx_datacut])],axis=1)\n",
    "datacut_1=pd.concat([datacut_1,DataFrame(BOSS1441_datacut.FLUX_APER.data.obj[idx_datacut])],axis=1)\n",
    "datacut_1=pd.concat([datacut_1,DataFrame(BOSS1441_datacut.FLUXERR_APER.data.obj[idx_datacut])],axis=1)\n",
    "datacut_1=pd.concat([datacut_1,DataFrame(BOSS1441_datacut.MAG_APER.data.obj[idx_datacut])],axis=1)\n",
    "datacut_1=pd.concat([datacut_1,DataFrame(BOSS1441_datacut.MAGERR_APER.data.obj[idx_datacut])],axis=1)\n",
    "datacut_1=pd.concat([datacut_1,DataFrame(BOSS1441_datacut.FLAGS.data.obj[idx_datacut])],axis=1)\n",
    "datacut_1=pd.concat([datacut_1,DataFrame(BOSS1441_datacut.NITER_MODEL.data.obj[idx_datacut])],axis=1)\n",
    "datacut_1=pd.concat([datacut_1,DataFrame(BOSS1441_datacut.ISOAREA_IMAGE.data.obj[idx_datacut])],axis=1)\n",
    "datacut_1=pd.concat([datacut_1,DataFrame(BOSS1441_datacut.ISOAREAF_IMAGE.data.obj[idx_datacut])],axis=1)\n",
    "\n",
    "datacut_1.columns=['X_IMAGE','Y_IMAGE','ALPHA_J2000','DELTA_J2000','FLUX_APER','FLUXERR_APER','MAG_APER','MAGERR_APER','FLAGS','NITER_MODEL','ISOAREA_IMAGE','ISOAREAF_IMAGE']"
   ]
  },
  {
   "cell_type": "code",
   "execution_count": 71,
   "metadata": {},
   "outputs": [],
   "source": [
    "#NB_1 NB所有显示在图上的点的信息\n",
    "#Bw_1 Bw所有显示在图上的点的信息\n",
    "#NB_2 NB所有在图左上角的点的信息\n",
    "#Bw_2 Bw所有在图左上角的点的信息\n",
    "#datacut_1 continuum subtracted field中选出来的那点的信息"
   ]
  },
  {
   "cell_type": "code",
   "execution_count": 72,
   "metadata": {},
   "outputs": [
    {
     "data": {
      "text/plain": [
       "'\\nfor i in range(len(NB_2)):\\n    abs_value=[]\\n    for j in range(len(datacut_1)):\\n        abs_value.append(abs(datacut_1.X_IMAGE.data.obj[j]-NB_2.X_IMAGE.data.obj[i])+abs(datacut_1.Y_IMAGE.data.obj[j]-NB_2.Y_IMAGE.data.obj[i]))\\n    k=min(abs_value)\\n    emitter_1 = pd.concat([emitter_1,datacut_1.loc[k-1:k]],ignore_index = True)\\n'"
      ]
     },
     "execution_count": 72,
     "metadata": {},
     "output_type": "execute_result"
    }
   ],
   "source": [
    "emitter_1=pd.DataFrame()\n",
    "emitter_bw=pd.DataFrame()\n",
    "emitter_nb=pd.DataFrame()\n",
    "'''\n",
    "for i in range(len(NB_2)):\n",
    "    abs_value=[]\n",
    "    for j in range(len(datacut_1)):\n",
    "        abs_value.append(abs(datacut_1.X_IMAGE.data.obj[j]-NB_2.X_IMAGE.data.obj[i])+abs(datacut_1.Y_IMAGE.data.obj[j]-NB_2.Y_IMAGE.data.obj[i]))\n",
    "    k=min(abs_value)\n",
    "    emitter_1 = pd.concat([emitter_1,datacut_1.loc[k-1:k]],ignore_index = True)\n",
    "'''"
   ]
  },
  {
   "cell_type": "code",
   "execution_count": 73,
   "metadata": {},
   "outputs": [
    {
     "name": "stderr",
     "output_type": "stream",
     "text": [
      "/Users/jiangtianxiaoyubei/anaconda3/lib/python3.7/site-packages/ipykernel_launcher.py:5: FutureWarning:\n",
      "\n",
      "Series.data is deprecated and will be removed in a future version\n",
      "\n"
     ]
    }
   ],
   "source": [
    "count=[]\n",
    "for i in range(len(NB_2)):\n",
    "    number_u=0\n",
    "    for j in range(len(datacut_1)):\n",
    "        if (abs(datacut_1.X_IMAGE.data.obj[j]-NB_2.X_IMAGE.data.obj[i])<5) & (abs(datacut_1.Y_IMAGE.data.obj[j]-NB_2.Y_IMAGE.data.obj[i])<5):\n",
    "            emitter_1 = pd.concat([emitter_1,datacut_1.loc[j:j]],ignore_index = True)\n",
    "            emitter_bw=pd.concat([emitter_bw,Bw_2.loc[i:i]],ignore_index = True)\n",
    "            emitter_nb=pd.concat([emitter_nb,NB_2.loc[i:i]],ignore_index = True)\n",
    "            #number_u=number_u+1\n",
    "            break\n",
    "    #count.append(number_u)"
   ]
  },
  {
   "cell_type": "code",
   "execution_count": 74,
   "metadata": {},
   "outputs": [],
   "source": [
    "#print(count)"
   ]
  },
  {
   "cell_type": "code",
   "execution_count": 75,
   "metadata": {},
   "outputs": [
    {
     "name": "stderr",
     "output_type": "stream",
     "text": [
      "/Users/jiangtianxiaoyubei/anaconda3/lib/python3.7/site-packages/ipykernel_launcher.py:1: FutureWarning:\n",
      "\n",
      "Series.data is deprecated and will be removed in a future version\n",
      "\n",
      "/Users/jiangtianxiaoyubei/anaconda3/lib/python3.7/site-packages/ipykernel_launcher.py:2: FutureWarning:\n",
      "\n",
      "Series.data is deprecated and will be removed in a future version\n",
      "\n",
      "/Users/jiangtianxiaoyubei/anaconda3/lib/python3.7/site-packages/ipykernel_launcher.py:3: FutureWarning:\n",
      "\n",
      "Series.data is deprecated and will be removed in a future version\n",
      "\n",
      "/Users/jiangtianxiaoyubei/anaconda3/lib/python3.7/site-packages/ipykernel_launcher.py:4: FutureWarning:\n",
      "\n",
      "Series.data is deprecated and will be removed in a future version\n",
      "\n",
      "/Users/jiangtianxiaoyubei/anaconda3/lib/python3.7/site-packages/ipykernel_launcher.py:5: FutureWarning:\n",
      "\n",
      "Series.data is deprecated and will be removed in a future version\n",
      "\n",
      "/Users/jiangtianxiaoyubei/anaconda3/lib/python3.7/site-packages/ipykernel_launcher.py:6: FutureWarning:\n",
      "\n",
      "Series.data is deprecated and will be removed in a future version\n",
      "\n",
      "/Users/jiangtianxiaoyubei/anaconda3/lib/python3.7/site-packages/ipykernel_launcher.py:7: FutureWarning:\n",
      "\n",
      "Series.data is deprecated and will be removed in a future version\n",
      "\n"
     ]
    }
   ],
   "source": [
    "emitter_1=pd.concat([emitter_1,DataFrame(emitter_bw.standard_mag.data.obj)],axis=1)\n",
    "emitter_1=pd.concat([emitter_1,DataFrame(emitter_nb.standard_mag.data.obj)],axis=1)\n",
    "emitter_1=pd.concat([emitter_1,DataFrame(emitter_nb.cont_bw.data.obj)],axis=1)\n",
    "emitter_1=pd.concat([emitter_1,DataFrame(emitter_bw.flux_bw.data.obj)],axis=1)\n",
    "emitter_1=pd.concat([emitter_1,DataFrame(emitter_nb.flux_nb.data.obj)],axis=1)\n",
    "emitter_1=pd.concat([emitter_1,DataFrame(emitter_nb.cont_flux_per_frequency.data.obj)],axis=1)\n",
    "emitter_1=pd.concat([emitter_1,DataFrame(emitter_nb.line_flux.data.obj)],axis=1)\n",
    "emitter_1.columns=['X_IMAGE','Y_IMAGE','ALPHA_J2000','DELTA_J2000','FLUX_APER','FLUXERR_APER','MAG_APER','MAGERR_APER','FLAGS','NITER_MODEL','ISOAREA_IMAGE','ISOAREAF_IMAGE','mag_bw','mag_nb','cont_bw','flux_bw','flux_nb','cont_flux_per_frequency','line_flux']\n"
   ]
  },
  {
   "cell_type": "code",
   "execution_count": 76,
   "metadata": {},
   "outputs": [
    {
     "name": "stderr",
     "output_type": "stream",
     "text": [
      "/Users/jiangtianxiaoyubei/anaconda3/lib/python3.7/site-packages/ipykernel_launcher.py:2: FutureWarning:\n",
      "\n",
      "Series.data is deprecated and will be removed in a future version\n",
      "\n"
     ]
    }
   ],
   "source": [
    "distance=calculate_distance(2.3)\n",
    "emitter_1=pd.concat([emitter_1,DataFrame(4*math.pi*distance**2*emitter_1.line_flux.data.obj)],axis=1)\n",
    "emitter_1.columns=['X_IMAGE','Y_IMAGE','ALPHA_J2000','DELTA_J2000','FLUX_APER','FLUXERR_APER','MAG_APER','MAGERR_APER','FLAGS','NITER_MODEL','ISOAREA_IMAGE','ISOAREAF_IMAGE','mag_bw','mag_nb','cont_bw','flux_bw','flux_nb','cont_flux_per_frequency','line_flux','luminosity']"
   ]
  },
  {
   "cell_type": "code",
   "execution_count": 77,
   "metadata": {},
   "outputs": [
    {
     "data": {
      "image/png": "[encoded data removed]",
      "text/plain": [
       "<Figure size 432x288 with 1 Axes>"
      ]
     },
     "metadata": {
      "needs_background": "light"
     },
     "output_type": "display_data"
    }
   ],
   "source": [
    "plt.semilogx()\n",
    "plt.scatter(emitter_1.luminosity,emitter_1.ISOAREAF_IMAGE*(0.0625), color = 'b', s=1)\n",
    "plt.axhline(25, color='r', linestyle='--', linewidth = 1)\n",
    "plt.axvline(1e43, color='r', linestyle='--', linewidth = 1)\n",
    "plt.xlabel('Lya Luminosity')\n",
    "plt.ylabel('Isophotal Area')\n",
    "plt.show()"
   ]
  },
  {
   "cell_type": "code",
   "execution_count": 78,
   "metadata": {},
   "outputs": [
    {
     "name": "stderr",
     "output_type": "stream",
     "text": [
      "/Users/jiangtianxiaoyubei/anaconda3/lib/python3.7/site-packages/ipykernel_launcher.py:3: FutureWarning:\n",
      "\n",
      "Series.data is deprecated and will be removed in a future version\n",
      "\n"
     ]
    }
   ],
   "source": [
    "lya=pd.DataFrame()\n",
    "for i in range(len(emitter_1)):\n",
    "    if (emitter_1.luminosity.data.obj[i]> 1e43) and ((emitter_1.ISOAREAF_IMAGE.data.obj[i]*(0.0625))> 25):\n",
    "        lya=pd.concat([lya,emitter_1.loc[i:i]],ignore_index = True)\n"
   ]
  },
  {
   "cell_type": "code",
   "execution_count": 79,
   "metadata": {},
   "outputs": [
    {
     "name": "stdout",
     "output_type": "stream",
     "text": [
      "     X_IMAGE    Y_IMAGE  ALPHA_J2000  DELTA_J2000  FLUX_APER  FLUXERR_APER  \\\n",
      "0  4294.9658  1517.7211   220.239141    39.831002   38.23180      9.325148   \n",
      "1  3950.3486  2521.0220   220.270138    39.900723   95.76148     14.754920   \n",
      "2  4669.4204  2542.5642   220.205042    39.902110  143.67110     18.071890   \n",
      "3  2618.8066  4361.5835   220.390591    40.028646  105.05350     15.453990   \n",
      "4  3050.4783  4710.2119   220.351413    40.052836   35.23396      8.952383   \n",
      "5  2686.3018  5533.6152   220.384411    40.110035   53.71046     11.051570   \n",
      "6  5634.1406  6787.6685   220.116347    40.196699  344.30310     27.974540   \n",
      "\n",
      "   MAG_APER  MAGERR_APER  FLAGS  NITER_MODEL  ISOAREA_IMAGE  ISOAREAF_IMAGE  \\\n",
      "0   -3.9561       0.2649      0           69            300             411   \n",
      "1   -4.9530       0.1673      0           42            451             551   \n",
      "2   -5.3934       0.1366      0           40           1372            1742   \n",
      "3   -5.0535       0.1598      0           54            447             557   \n",
      "4   -3.8674       0.2759      0          151           2181            2728   \n",
      "5   -4.3251       0.2235      0           61            363             427   \n",
      "6   -6.3424       0.0882      0           66            668             831   \n",
      "\n",
      "      mag_bw     mag_nb    cont_bw       flux_bw       flux_nb  \\\n",
      "0  21.536481  20.532129  25.298608  1.977465e-14  1.848724e-15   \n",
      "1  22.187781  19.964629  25.683671  1.085397e-14  3.117971e-15   \n",
      "2  20.747781  19.272229  26.115570  4.088733e-14  5.899730e-15   \n",
      "3  20.637881  19.513429  25.689395  4.524272e-14  4.724459e-15   \n",
      "4  23.658081  21.112329  25.176968  2.802004e-15  1.083408e-15   \n",
      "5  21.941581  20.425729  24.377932  1.361660e-14  2.039070e-15   \n",
      "6  19.648381  18.330529  25.225261  1.125508e-13  1.404469e-14   \n",
      "\n",
      "   cont_flux_per_frequency     line_flux    luminosity  \n",
      "0             2.757763e-30  1.150878e-15  1.337979e+43  \n",
      "1             1.934334e-30  2.816813e-15  3.274748e+43  \n",
      "2             1.299487e-30  4.537682e-15  5.275383e+43  \n",
      "3             1.924163e-30  3.147106e-15  3.658738e+43  \n",
      "4             3.084699e-30  1.016504e-15  1.181759e+43  \n",
      "5             6.439132e-30  1.588363e-15  1.846587e+43  \n",
      "6             2.950500e-30  1.020990e-14  1.186974e+44  \n"
     ]
    }
   ],
   "source": [
    "print(lya)"
   ]
  },
  {
   "cell_type": "code",
   "execution_count": 80,
   "metadata": {},
   "outputs": [],
   "source": [
    "#lya即为最后筛选出的所有LAB，下面要再算出surface brightness--nb?bw?cont_bw?"
   ]
  },
  {
   "cell_type": "code",
   "execution_count": 81,
   "metadata": {},
   "outputs": [
    {
     "name": "stderr",
     "output_type": "stream",
     "text": [
      "/Users/jiangtianxiaoyubei/anaconda3/lib/python3.7/site-packages/ipykernel_launcher.py:1: FutureWarning:\n",
      "\n",
      "Series.data is deprecated and will be removed in a future version\n",
      "\n"
     ]
    }
   ],
   "source": [
    "lya=pd.concat([lya,DataFrame(calculate_SB(lya.cont_bw.data.obj,4135,1278,lya.ISOAREAF_IMAGE.data.obj*0.0625))],axis=1)\n",
    "\n",
    "lya.columns=['X_IMAGE','Y_IMAGE','ALPHA_J2000','DELTA_J2000','FLUX_APER','FLUXERR_APER','MAG_APER','MAGERR_APER','FLAGS','NITER_MODEL','ISOAREA_IMAGE','ISOAREAF_IMAGE','mag_bw','mag_nb','cont_bw','flux_bw','flux_nb','cont_flux_per_frequency','line_flux','luminosity','surface_brightness']\n",
    "#???关于用到的surface brightness的delta_lambda什么的？"
   ]
  },
  {
   "cell_type": "code",
   "execution_count": 82,
   "metadata": {},
   "outputs": [
    {
     "name": "stdout",
     "output_type": "stream",
     "text": [
      "     X_IMAGE    Y_IMAGE  ALPHA_J2000  DELTA_J2000  FLUX_APER  FLUXERR_APER  \\\n",
      "0  4294.9658  1517.7211   220.239141    39.831002   38.23180      9.325148   \n",
      "1  3950.3486  2521.0220   220.270138    39.900723   95.76148     14.754920   \n",
      "2  4669.4204  2542.5642   220.205042    39.902110  143.67110     18.071890   \n",
      "3  2618.8066  4361.5835   220.390591    40.028646  105.05350     15.453990   \n",
      "4  3050.4783  4710.2119   220.351413    40.052836   35.23396      8.952383   \n",
      "5  2686.3018  5533.6152   220.384411    40.110035   53.71046     11.051570   \n",
      "6  5634.1406  6787.6685   220.116347    40.196699  344.30310     27.974540   \n",
      "\n",
      "   MAG_APER  MAGERR_APER  FLAGS  NITER_MODEL  ...  ISOAREAF_IMAGE     mag_bw  \\\n",
      "0   -3.9561       0.2649      0           69  ...             411  21.536481   \n",
      "1   -4.9530       0.1673      0           42  ...             551  22.187781   \n",
      "2   -5.3934       0.1366      0           40  ...            1742  20.747781   \n",
      "3   -5.0535       0.1598      0           54  ...             557  20.637881   \n",
      "4   -3.8674       0.2759      0          151  ...            2728  23.658081   \n",
      "5   -4.3251       0.2235      0           61  ...             427  21.941581   \n",
      "6   -6.3424       0.0882      0           66  ...             831  19.648381   \n",
      "\n",
      "      mag_nb    cont_bw       flux_bw       flux_nb  cont_flux_per_frequency  \\\n",
      "0  20.532129  25.298608  1.977465e-14  1.848724e-15             2.757763e-30   \n",
      "1  19.964629  25.683671  1.085397e-14  3.117971e-15             1.934334e-30   \n",
      "2  19.272229  26.115570  4.088733e-14  5.899730e-15             1.299487e-30   \n",
      "3  19.513429  25.689395  4.524272e-14  4.724459e-15             1.924163e-30   \n",
      "4  21.112329  25.176968  2.802004e-15  1.083408e-15             3.084699e-30   \n",
      "5  20.425729  24.377932  1.361660e-14  2.039070e-15             6.439132e-30   \n",
      "6  18.330529  25.225261  1.125508e-13  1.404469e-14             2.950500e-30   \n",
      "\n",
      "      line_flux    luminosity  surface_brightness  \n",
      "0  1.150878e-15  1.337979e+43        3.851733e-16  \n",
      "1  2.816813e-15  3.274748e+43        2.015213e-16  \n",
      "2  4.537682e-15  5.275383e+43        4.282178e-17  \n",
      "3  3.147106e-15  3.658738e+43        1.983023e-16  \n",
      "4  1.016504e-15  1.181759e+43        6.490967e-17  \n",
      "5  1.588363e-15  1.846587e+43        8.656464e-16  \n",
      "6  1.020990e-14  1.186974e+44        2.038148e-16  \n",
      "\n",
      "[7 rows x 21 columns]\n"
     ]
    }
   ],
   "source": [
    "print(lya)"
   ]
  },
  {
   "cell_type": "code",
   "execution_count": 83,
   "metadata": {},
   "outputs": [
    {
     "name": "stderr",
     "output_type": "stream",
     "text": [
      "/Users/jiangtianxiaoyubei/anaconda3/lib/python3.7/site-packages/ipykernel_launcher.py:1: FutureWarning:\n",
      "\n",
      "Series.data is deprecated and will be removed in a future version\n",
      "\n"
     ]
    },
    {
     "name": "stdout",
     "output_type": "stream",
     "text": [
      "x_image: 4294.9658 \n",
      "\n",
      "y_image: 1517.7211 \n",
      "\n",
      "RA: 220.23914059999998 \n",
      "\n",
      "DEC: 39.8310023 \n",
      "\n",
      "continuum_bw_magnitude 25.298607624527143 \n",
      "\n",
      "surface_brightness: 3.851732999530816e-16 \n",
      "\n"
     ]
    },
    {
     "name": "stderr",
     "output_type": "stream",
     "text": [
      "/Users/jiangtianxiaoyubei/anaconda3/lib/python3.7/site-packages/ipykernel_launcher.py:3: FutureWarning:\n",
      "\n",
      "Series.data is deprecated and will be removed in a future version\n",
      "\n",
      "/Users/jiangtianxiaoyubei/anaconda3/lib/python3.7/site-packages/ipykernel_launcher.py:4: FutureWarning:\n",
      "\n",
      "Series.data is deprecated and will be removed in a future version\n",
      "\n",
      "/Users/jiangtianxiaoyubei/anaconda3/lib/python3.7/site-packages/ipykernel_launcher.py:5: FutureWarning:\n",
      "\n",
      "Series.data is deprecated and will be removed in a future version\n",
      "\n",
      "/Users/jiangtianxiaoyubei/anaconda3/lib/python3.7/site-packages/ipykernel_launcher.py:6: FutureWarning:\n",
      "\n",
      "Series.data is deprecated and will be removed in a future version\n",
      "\n",
      "/Users/jiangtianxiaoyubei/anaconda3/lib/python3.7/site-packages/ipykernel_launcher.py:9: FutureWarning:\n",
      "\n",
      "Series.data is deprecated and will be removed in a future version\n",
      "\n",
      "/Users/jiangtianxiaoyubei/anaconda3/lib/python3.7/site-packages/ipykernel_launcher.py:10: FutureWarning:\n",
      "\n",
      "Series.data is deprecated and will be removed in a future version\n",
      "\n"
     ]
    },
    {
     "data": {
      "image/png": "[encoded data removed]",
      "text/plain": [
       "<Figure size 432x288 with 1 Axes>"
      ]
     },
     "metadata": {
      "needs_background": "light"
     },
     "output_type": "display_data"
    },
    {
     "data": {
      "image/png": "[encoded data removed]",
      "text/plain": [
       "<Figure size 432x288 with 1 Axes>"
      ]
     },
     "metadata": {
      "needs_background": "light"
     },
     "output_type": "display_data"
    },
    {
     "data": {
      "image/png": "[encoded data removed]",
      "text/plain": [
       "<Figure size 432x288 with 1 Axes>"
      ]
     },
     "metadata": {
      "needs_background": "light"
     },
     "output_type": "display_data"
    }
   ],
   "source": [
    "show_nebula(data,data2,datacut,lya.X_IMAGE.data.obj[0],lya.Y_IMAGE.data.obj[0],25)\n",
    "\n",
    "print('x_image:',lya.X_IMAGE.data.obj[0],'\\n')\n",
    "print('y_image:',lya.Y_IMAGE.data.obj[0],'\\n')\n",
    "print('RA:',lya.ALPHA_J2000.data.obj[0],'\\n')\n",
    "print('DEC:',lya.DELTA_J2000.data.obj[0],'\\n')\n",
    "#print('bw_magnitude:',lya.mag_bw.data.obj[0],'\\n')\n",
    "#print('nb_magnitude',lya.mag_nb.data.obj[0],'\\n')\n",
    "print('continuum_bw_magnitude',lya.cont_bw.data.obj[0],'\\n')\n",
    "print('surface_brightness:',lya.surface_brightness.data.obj[0],'\\n')"
   ]
  },
  {
   "cell_type": "code",
   "execution_count": 84,
   "metadata": {},
   "outputs": [
    {
     "name": "stderr",
     "output_type": "stream",
     "text": [
      "/Users/jiangtianxiaoyubei/anaconda3/lib/python3.7/site-packages/ipykernel_launcher.py:1: FutureWarning:\n",
      "\n",
      "Series.data is deprecated and will be removed in a future version\n",
      "\n",
      "/Users/jiangtianxiaoyubei/anaconda3/lib/python3.7/site-packages/ipykernel_launcher.py:3: FutureWarning:\n",
      "\n",
      "Series.data is deprecated and will be removed in a future version\n",
      "\n",
      "/Users/jiangtianxiaoyubei/anaconda3/lib/python3.7/site-packages/ipykernel_launcher.py:4: FutureWarning:\n",
      "\n",
      "Series.data is deprecated and will be removed in a future version\n",
      "\n",
      "/Users/jiangtianxiaoyubei/anaconda3/lib/python3.7/site-packages/ipykernel_launcher.py:5: FutureWarning:\n",
      "\n",
      "Series.data is deprecated and will be removed in a future version\n",
      "\n",
      "/Users/jiangtianxiaoyubei/anaconda3/lib/python3.7/site-packages/ipykernel_launcher.py:6: FutureWarning:\n",
      "\n",
      "Series.data is deprecated and will be removed in a future version\n",
      "\n",
      "/Users/jiangtianxiaoyubei/anaconda3/lib/python3.7/site-packages/ipykernel_launcher.py:9: FutureWarning:\n",
      "\n",
      "Series.data is deprecated and will be removed in a future version\n",
      "\n",
      "/Users/jiangtianxiaoyubei/anaconda3/lib/python3.7/site-packages/ipykernel_launcher.py:10: FutureWarning:\n",
      "\n",
      "Series.data is deprecated and will be removed in a future version\n",
      "\n"
     ]
    },
    {
     "name": "stdout",
     "output_type": "stream",
     "text": [
      "x_image: 3950.3486 \n",
      "\n",
      "y_image: 2521.022 \n",
      "\n",
      "RA: 220.2701377 \n",
      "\n",
      "DEC: 39.9007231 \n",
      "\n",
      "continuum_bw_magnitude 25.683671085857405 \n",
      "\n",
      "surface_brightness: 2.0152132634667656e-16 \n",
      "\n"
     ]
    },
    {
     "data": {
      "image/png": "[encoded data removed]",
      "text/plain": [
       "<Figure size 432x288 with 1 Axes>"
      ]
     },
     "metadata": {
      "needs_background": "light"
     },
     "output_type": "display_data"
    },
    {
     "data": {
      "image/png": "[encoded data removed]",
      "text/plain": [
       "<Figure size 432x288 with 1 Axes>"
      ]
     },
     "metadata": {
      "needs_background": "light"
     },
     "output_type": "display_data"
    },
    {
     "data": {
      "image/png": "[encoded data removed]",
      "text/plain": [
       "<Figure size 432x288 with 1 Axes>"
      ]
     },
     "metadata": {
      "needs_background": "light"
     },
     "output_type": "display_data"
    }
   ],
   "source": [
    "show_nebula(data,data2,datacut,lya.X_IMAGE.data.obj[1],lya.Y_IMAGE.data.obj[1],25)\n",
    "\n",
    "print('x_image:',lya.X_IMAGE.data.obj[1],'\\n')\n",
    "print('y_image:',lya.Y_IMAGE.data.obj[1],'\\n')\n",
    "print('RA:',lya.ALPHA_J2000.data.obj[1],'\\n')\n",
    "print('DEC:',lya.DELTA_J2000.data.obj[1],'\\n')\n",
    "#print('bw_magnitude:',lya.mag_bw.data.obj[1],'\\n')\n",
    "#print('nb_magnitude',lya.mag_nb.data.obj[1],'\\n')\n",
    "print('continuum_bw_magnitude',lya.cont_bw.data.obj[1],'\\n')\n",
    "print('surface_brightness:',lya.surface_brightness.data.obj[1],'\\n')"
   ]
  },
  {
   "cell_type": "code",
   "execution_count": 85,
   "metadata": {},
   "outputs": [
    {
     "name": "stderr",
     "output_type": "stream",
     "text": [
      "/Users/jiangtianxiaoyubei/anaconda3/lib/python3.7/site-packages/ipykernel_launcher.py:1: FutureWarning:\n",
      "\n",
      "Series.data is deprecated and will be removed in a future version\n",
      "\n",
      "/Users/jiangtianxiaoyubei/anaconda3/lib/python3.7/site-packages/ipykernel_launcher.py:3: FutureWarning:\n",
      "\n",
      "Series.data is deprecated and will be removed in a future version\n",
      "\n",
      "/Users/jiangtianxiaoyubei/anaconda3/lib/python3.7/site-packages/ipykernel_launcher.py:4: FutureWarning:\n",
      "\n",
      "Series.data is deprecated and will be removed in a future version\n",
      "\n",
      "/Users/jiangtianxiaoyubei/anaconda3/lib/python3.7/site-packages/ipykernel_launcher.py:5: FutureWarning:\n",
      "\n",
      "Series.data is deprecated and will be removed in a future version\n",
      "\n",
      "/Users/jiangtianxiaoyubei/anaconda3/lib/python3.7/site-packages/ipykernel_launcher.py:6: FutureWarning:\n",
      "\n",
      "Series.data is deprecated and will be removed in a future version\n",
      "\n",
      "/Users/jiangtianxiaoyubei/anaconda3/lib/python3.7/site-packages/ipykernel_launcher.py:9: FutureWarning:\n",
      "\n",
      "Series.data is deprecated and will be removed in a future version\n",
      "\n",
      "/Users/jiangtianxiaoyubei/anaconda3/lib/python3.7/site-packages/ipykernel_launcher.py:10: FutureWarning:\n",
      "\n",
      "Series.data is deprecated and will be removed in a future version\n",
      "\n"
     ]
    },
    {
     "name": "stdout",
     "output_type": "stream",
     "text": [
      "x_image: 4669.4204 \n",
      "\n",
      "y_image: 2542.5642 \n",
      "\n",
      "RA: 220.2050418 \n",
      "\n",
      "DEC: 39.9021096 \n",
      "\n",
      "continuum_bw_magnitude 26.115570488918344 \n",
      "\n",
      "surface_brightness: 4.282177841359913e-17 \n",
      "\n"
     ]
    },
    {
     "data": {
      "image/png": "[encoded data removed]",
      "text/plain": [
       "<Figure size 432x288 with 1 Axes>"
      ]
     },
     "metadata": {
      "needs_background": "light"
     },
     "output_type": "display_data"
    },
    {
     "data": {
      "image/png": "[encoded data removed]",
      "text/plain": [
       "<Figure size 432x288 with 1 Axes>"
      ]
     },
     "metadata": {
      "needs_background": "light"
     },
     "output_type": "display_data"
    },
    {
     "data": {
      "image/png": "[encoded data removed]",
      "text/plain": [
       "<Figure size 432x288 with 1 Axes>"
      ]
     },
     "metadata": {
      "needs_background": "light"
     },
     "output_type": "display_data"
    }
   ],
   "source": [
    "show_nebula(data,data2,datacut,lya.X_IMAGE.data.obj[2],lya.Y_IMAGE.data.obj[2],25)\n",
    "\n",
    "print('x_image:',lya.X_IMAGE.data.obj[2],'\\n')\n",
    "print('y_image:',lya.Y_IMAGE.data.obj[2],'\\n')\n",
    "print('RA:',lya.ALPHA_J2000.data.obj[2],'\\n')\n",
    "print('DEC:',lya.DELTA_J2000.data.obj[2],'\\n')\n",
    "#print('bw_magnitude:',lya.mag_bw.data.obj[2],'\\n')\n",
    "#print('nb_magnitude',lya.mag_nb.data.obj[2],'\\n')\n",
    "print('continuum_bw_magnitude',lya.cont_bw.data.obj[2],'\\n')\n",
    "print('surface_brightness:',lya.surface_brightness.data.obj[2],'\\n')"
   ]
  },
  {
   "cell_type": "code",
   "execution_count": 86,
   "metadata": {},
   "outputs": [
    {
     "name": "stderr",
     "output_type": "stream",
     "text": [
      "/Users/jiangtianxiaoyubei/anaconda3/lib/python3.7/site-packages/ipykernel_launcher.py:7: FutureWarning:\n",
      "\n",
      "Series.data is deprecated and will be removed in a future version\n",
      "\n",
      "/Users/jiangtianxiaoyubei/anaconda3/lib/python3.7/site-packages/ipykernel_launcher.py:9: FutureWarning:\n",
      "\n",
      "Series.data is deprecated and will be removed in a future version\n",
      "\n"
     ]
    }
   ],
   "source": [
    "with open(\"BOSS1441_cut.coord.reg\",'w+',newline='') as txtfile:\n",
    "    txtfile.write('# Region file format: DS9 version 4.1\\n')\n",
    "    txtfile.write('global color=green dashlist=8 3 width=1 font=\"helvetica 10 normal roman\" select=1 highlite=1 dash=0 fixed=0 edit=1 move=1 delete=1 include=1 source=1\\n')\n",
    "    txtfile.write('fk5\\n')\n",
    "    for i in range(len(lya)):\n",
    "        txtfile.write('circle(')\n",
    "        txtfile.write(str(lya.ALPHA_J2000.data.obj[i]))\n",
    "        txtfile.write(',')\n",
    "        txtfile.write(str(lya.DELTA_J2000.data.obj[i]))\n",
    "        txtfile.write(',2.821\")\\n')\n",
    "    \n",
    "    #把他们的RA和DEC写到目录里面方便查阅"
   ]
  },
  {
   "cell_type": "code",
   "execution_count": 87,
   "metadata": {},
   "outputs": [
    {
     "name": "stderr",
     "output_type": "stream",
     "text": [
      "/Users/jiangtianxiaoyubei/anaconda3/lib/python3.7/site-packages/ipykernel_launcher.py:10: FutureWarning:\n",
      "\n",
      "Series.data is deprecated and will be removed in a future version\n",
      "\n"
     ]
    },
    {
     "data": {
      "text/plain": [
       "<matplotlib.collections.PathCollection at 0x7fbf030f27f0>"
      ]
     },
     "execution_count": 87,
     "metadata": {},
     "output_type": "execute_result"
    },
    {
     "data": {
      "image/png": "[encoded data removed]",
      "text/plain": [
       "<Figure size 432x288 with 1 Axes>"
      ]
     },
     "metadata": {
      "needs_background": "light"
     },
     "output_type": "display_data"
    },
    {
     "data": {
      "text/plain": [
       "<Figure size 432x288 with 0 Axes>"
      ]
     },
     "metadata": {},
     "output_type": "display_data"
    }
   ],
   "source": [
    "ax = plt.subplot(projection=WCS(header))\n",
    "fig = plt.figure()\n",
    "ax.set_xlabel('RA')\n",
    "ax.set_ylabel('Dec')\n",
    "ax.imshow(datacut, origin='lower',norm=norm,cmap=plt.cm.viridis)\n",
    "ra = ax.coords[0]\n",
    "ra.set_major_formatter('hh:mm:ss')\n",
    "dec = ax.coords[1]\n",
    "dec.set_major_formatter('dd:mm:ss')\n",
    "ax.scatter(lya.X_IMAGE.data.obj, lya.Y_IMAGE.data.obj, color='', marker='o', edgecolors='r', s=200)"
   ]
  },
  {
   "cell_type": "code",
   "execution_count": 88,
   "metadata": {},
   "outputs": [],
   "source": [
    "#现在注意一下，Bw_2,NB_2代表LAE，而lya代表LAB"
   ]
  },
  {
   "cell_type": "code",
   "execution_count": 89,
   "metadata": {},
   "outputs": [],
   "source": [
    "def Gaussian2D(r, sigma):\n",
    "    return (1/(2*np.pi*sigma**2))*np.exp(-r**2/2/sigma**2)\n",
    "\n",
    "def f_i(i, x, sigma):\n",
    "    x1 = np.delete(x, i, axis=1)\n",
    "    r = np.sqrt((x[0][i]-x1[0])**2 + (x[1][i]-x1[1])**2)\n",
    "    Sum = np.sum(Gaussian2D(r, sigma))\n",
    "    return Sum\n",
    "\n",
    "def Likelyhood(x, sigma):\n",
    "    list = [f_i(i, x, sigma) for i in range(len(x[0]))]\n",
    "    Prod = np.prod(list)\n",
    "    return Prod"
   ]
  },
  {
   "cell_type": "code",
   "execution_count": 90,
   "metadata": {},
   "outputs": [],
   "source": [
    "hdu1 = fits.open('bwcut.fits')[0]\n",
    "wcs1 = WCS(hdu1.header)#; hdu1.close()"
   ]
  },
  {
   "cell_type": "code",
   "execution_count": 91,
   "metadata": {},
   "outputs": [
    {
     "name": "stderr",
     "output_type": "stream",
     "text": [
      "/Users/jiangtianxiaoyubei/anaconda3/lib/python3.7/site-packages/ipykernel_launcher.py:1: FutureWarning:\n",
      "\n",
      "Series.data is deprecated and will be removed in a future version\n",
      "\n"
     ]
    },
    {
     "data": {
      "image/png": "[encoded data removed]",
      "text/plain": [
       "<Figure size 432x288 with 1 Axes>"
      ]
     },
     "metadata": {
      "needs_background": "light"
     },
     "output_type": "display_data"
    },
    {
     "name": "stdout",
     "output_type": "stream",
     "text": [
      "sigma is 3.31 [arcmin]\n"
     ]
    }
   ],
   "source": [
    "\n",
    "\n",
    "ra, dec = wcs1.all_pix2world(NB_2.X_IMAGE.data.obj, NB_2.Y_IMAGE.data.obj,1)\n",
    "emitter=np.vstack([60*ra, 60*dec])#把度转换成arcmin\n",
    "\n",
    "step = 0.01\n",
    "sigma = np.arange(step, 8, step)\n",
    "Lh = [Likelyhood(emitter, s) for s in sigma]\n",
    "plt.plot(sigma,Lh)\n",
    "# plt.semilogy()\n",
    "plt.show()\n",
    "\n",
    "Sigma = Lh.index(max(Lh))*step+0.1\n",
    "print('sigma is {}'.format(Sigma),'[arcmin]')\n",
    "#求出做高斯分布的sigma"
   ]
  },
  {
   "cell_type": "code",
   "execution_count": 92,
   "metadata": {},
   "outputs": [
    {
     "name": "stdout",
     "output_type": "stream",
     "text": [
      "[219.95407993 220.12727749 220.2511587  220.34716642 219.98201981\n",
      " 220.3012468  220.52757992 220.17373267 220.15739345 220.55479467\n",
      " 219.94958796 220.31629523 220.23914809 220.05614849 220.55141413\n",
      " 219.94658172 219.95292358 220.62136729 220.49412583 219.95551529\n",
      " 220.0833257  220.22603816 220.46815076 220.37809433 220.47922891\n",
      " 220.33499623 220.27015697 220.27045892 220.20499166 220.03777214\n",
      " 220.04582017 220.29829857 219.96816783 220.04672875 220.1059696\n",
      " 220.31372168 220.12117472 220.54466249 220.36647842 220.47581683\n",
      " 220.35690903 220.40872314 220.3666099  220.27907903 220.39061466\n",
      " 220.21124114 220.41683804 220.53779945 220.35250309 220.53891853\n",
      " 220.34028127 219.95388443 220.35536615 220.35144626 220.06055363\n",
      " 220.44176356 220.16507987 219.90485122 220.32020681 220.49203423\n",
      " 220.38442645 220.12844716 220.62803449 219.94204718 219.99959764\n",
      " 219.87970091 220.04119756 220.12260843 220.06931749 220.14173332\n",
      " 220.1163835 ]\n",
      "[39.73687667 39.7456259  39.75441854 39.76234965 39.77335388 39.78419933\n",
      " 39.79193951 39.78847206 39.80309485 39.81405997 39.82051908 39.82011381\n",
      " 39.83099483 39.83317088 39.83417911 39.83620121 39.84975133 39.85848403\n",
      " 39.86120402 39.85743238 39.86066573 39.88105021 39.88257315 39.88498573\n",
      " 39.88692955 39.89866938 39.90071635 39.90562156 39.90214849 39.93758203\n",
      " 39.94107492 39.94873785 39.95252933 39.95052145 39.97848672 39.97846132\n",
      " 39.99385115 39.99432971 40.00071883 40.00784724 40.01388622 40.01898749\n",
      " 40.01966704 40.01674895 40.02864261 40.03504775 40.04164917 40.047034\n",
      " 40.04736393 40.04970141 40.04976157 40.05864027 40.06553742 40.05292267\n",
      " 40.06963351 40.08845703 40.10038563 40.09899711 40.10762545 40.11375039\n",
      " 40.11003821 40.11821047 40.11946    40.16346626 40.16553851 40.17729977\n",
      " 40.18228654 40.19091683 40.19294707 40.19811087 40.19667915]\n"
     ]
    }
   ],
   "source": [
    "print(ra)\n",
    "print(dec)"
   ]
  },
  {
   "cell_type": "code",
   "execution_count": 93,
   "metadata": {},
   "outputs": [
    {
     "name": "stdout",
     "output_type": "stream",
     "text": [
      "[[13197.24479555 13207.63664967 13215.06952205 13220.8299851\n",
      "  13198.92118841 13218.07480776 13231.65479503 13210.42396031\n",
      "  13209.44360671 13233.28768036 13196.97527742 13218.97771402\n",
      "  13214.34888524 13203.36890928 13233.08484775 13196.79490332\n",
      "  13197.17541464 13237.28203717 13229.64754989 13197.33091753\n",
      "  13204.99954199 13213.56228966 13228.08904574 13222.68566003\n",
      "  13228.75373451 13220.09977379 13216.20941797 13216.22753498\n",
      "  13212.29949957 13202.2663282  13202.74921009 13217.89791398\n",
      "  13198.09006963 13202.80372482 13206.35817587 13218.82330076\n",
      "  13207.27048299 13232.67974949 13221.9887051  13228.54900976\n",
      "  13221.41454204 13224.52338862 13221.99659391 13216.74474176\n",
      "  13223.43687988 13212.67446825 13225.01028245 13232.26796685\n",
      "  13221.15018528 13232.33511188 13220.41687618 13197.23306597\n",
      "  13221.32196917 13221.08677581 13203.63321807 13226.50581334\n",
      "  13209.90479238 13194.29107332 13219.2124088  13229.52205362\n",
      "  13223.06558727 13207.70682966 13237.68206968 13196.52283105\n",
      "  13199.97585816 13192.78205477 13202.47185351 13207.35650598\n",
      "  13204.1590492  13208.50399915 13206.98300972]\n",
      " [ 2384.21259992  2384.73755393  2385.26511264  2385.74097905\n",
      "   2386.40123254  2387.05195954  2387.51637057  2387.30832376\n",
      "   2388.18569091  2388.84359828  2389.23114503  2389.20682876\n",
      "   2389.85968973  2389.99025304  2390.05074653  2390.17207284\n",
      "   2390.98507964  2391.50904178  2391.67224136  2391.44594277\n",
      "   2391.63994357  2392.86301273  2392.95438916  2393.09914373\n",
      "   2393.2157731   2393.92016258  2394.0429809   2394.33729356\n",
      "   2394.12890938  2396.25492154  2396.464495    2396.92427102\n",
      "   2397.15176005  2397.03128729  2398.70920309  2398.70767945\n",
      "   2399.63106919  2399.65978261  2400.04312951  2400.47083444\n",
      "   2400.83317345  2401.13924919  2401.18002219  2401.00493722\n",
      "   2401.71855656  2402.10286476  2402.49895007  2402.82204015\n",
      "   2402.84183576  2402.98208441  2402.98569421  2403.51841629\n",
      "   2403.9322452   2403.17536023  2404.1780105   2405.30742191\n",
      "   2406.02313776  2405.93982673  2406.45752683  2406.82502361\n",
      "   2406.60229269  2407.09262805  2407.16760007  2409.80797537\n",
      "   2409.93231089  2410.63798605  2410.93719263  2411.45500965\n",
      "   2411.57682403  2411.886652    2411.80074894]]\n"
     ]
    }
   ],
   "source": [
    "print(emitter)#就是把ra和dec用np.vstack放到了一个dataframe里，第一行ra，第二行dec"
   ]
  },
  {
   "cell_type": "code",
   "execution_count": 94,
   "metadata": {},
   "outputs": [
    {
     "name": "stdout",
     "output_type": "stream",
     "text": [
      "1049.18578125 arcmin**2\n"
     ]
    }
   ],
   "source": [
    "len_ra=wcs1.array_shape[0]*0.25/60\n",
    "len_dec=wcs1.array_shape[1]*0.25/60\n",
    "\n",
    "area=len_ra*len_dec\n",
    "print(area,'arcmin**2')\n",
    "#求整个field的面积，0.25是单个pixel对应的arcsec长度,再除60就是arcmin的长度了"
   ]
  },
  {
   "cell_type": "code",
   "execution_count": 95,
   "metadata": {},
   "outputs": [
    {
     "name": "stdout",
     "output_type": "stream",
     "text": [
      "average density: 0.06767152326007564\n"
     ]
    }
   ],
   "source": [
    "ave_density=len(NB_2)/area\n",
    "print('average density:',ave_density)"
   ]
  },
  {
   "cell_type": "code",
   "execution_count": 96,
   "metadata": {},
   "outputs": [],
   "source": [
    "#np.meshgrid() 生成网格，类似于\n",
    "#x = np.array([[0, 1, 2], [0, 1, 2]])\n",
    "#y = np.array([[0, 0, 0], [1, 1, 1]])\n",
    "#x是每一列的每个格点重复一遍x坐标，第一列的两个点都是0，第二列的两个都是1，...以此类推\n",
    "#y则是每行都一样，第一行的y坐标都是0，第二行的y坐标都是1......注意虽然y看起来是下面那行是1，其实1还是上面那行对应的\n",
    "#结果就等于两个矩阵重合组合一下，每个点就分别有了x坐标和y坐标"
   ]
  },
  {
   "cell_type": "code",
   "execution_count": 97,
   "metadata": {},
   "outputs": [],
   "source": [
    "#np.arange()\n",
    "#函数返回一个有终点和起点的固定步长的排列，如[1,2,3,4,5]，起点是1，终点是5，步长为1。\n",
    "#参数个数情况： np.arange()函数分为一个参数，两个参数，三个参数三种情况\n",
    "#1）一个参数时，参数值为终点，起点取默认值0，步长取默认值1。\n",
    "#2）两个参数时，第一个参数为起点，第二个参数为终点，步长取默认值1。\n",
    "#3）三个参数时，第一个参数为起点，第二个参数为终点，第三个参数为步长。其中步长支持小数"
   ]
  },
  {
   "cell_type": "code",
   "execution_count": 98,
   "metadata": {},
   "outputs": [],
   "source": [
    "#np.vstack  按垂直方向（行顺序）堆叠数组构成一个新的数组\n",
    "#eg.\n",
    "#a = np.array([[1,2,3]])\n",
    "#b = np.array([[4,5,6]])\n",
    "#c = np.vstack((a,b))\n",
    "#输出结果为\n",
    "\n",
    "#[[1 2 3]\n",
    "# [4 5 6]]\n"
   ]
  },
  {
   "cell_type": "code",
   "execution_count": 99,
   "metadata": {},
   "outputs": [],
   "source": [
    "#numpy.delete(arr,obj,axis=None)\n",
    "#arr:输入向量\n",
    "#obj:表明哪一个子向量应该被移除。可以为整数或一个int型的向量\n",
    "#axis:表明删除哪个轴的子向量，若默认，则返回一个被拉平的向量"
   ]
  },
  {
   "cell_type": "code",
   "execution_count": 100,
   "metadata": {},
   "outputs": [],
   "source": [
    "#wcs1.array_shape[0] 等于是求这一行或者列的长度啦"
   ]
  },
  {
   "cell_type": "code",
   "execution_count": 101,
   "metadata": {},
   "outputs": [],
   "source": [
    "binwidth = 100# sampling step\n",
    "xx, yy = np.meshgrid(np.arange(0, wcs1.array_shape[0], binwidth), np.arange(0, wcs1.array_shape[1], binwidth))\n",
    "#这一步就是分成100个区域-----一万个？貌似是一万个\n",
    "ra_xx, dec_yy = wcs1.all_pix2world(xx+binwidth/2, yy+binwidth/2, 1)\n",
    "#把这几个区域的中心做出来，一开始是用pixel的x和y值表示的，然后用wcs1.all_pix2world转化成用ra与dec表示\n",
    "ra_xx, dec_yy = 60*ra_xx, 60*dec_yy\n",
    "#再乘60，单位变成arcmin\n"
   ]
  },
  {
   "cell_type": "code",
   "execution_count": 102,
   "metadata": {
    "scrolled": true
   },
   "outputs": [],
   "source": [
    "f = [Gaussian2D(np.sqrt((ra_xx - emitter[0, i])**2 + (dec_yy - emitter[1, i])**2), Sigma) for i in range(len(emitter[0]))]\n",
    "#这样做出来的f中的每一行，都是1个emitter对于1w个天区做高斯平滑后得到的单独个数分布\n"
   ]
  },
  {
   "cell_type": "code",
   "execution_count": 103,
   "metadata": {
    "scrolled": true
   },
   "outputs": [],
   "source": [
    "f = np.sum(f, axis=0)/abs(ra_xx[0, 1]-ra_xx[0, 0])/abs((dec_yy[1, 0]-dec_yy[0, 0]))#/ave_density\n",
    "#把所有的这些单独分布求和，加起来，就得到总的分布，然后再除以此单个天区的面积，就得到了他在此天区中的数密度分布，再除以平均密度，就是相对的average density"
   ]
  },
  {
   "cell_type": "code",
   "execution_count": 104,
   "metadata": {},
   "outputs": [],
   "source": [
    "#field用Mpc表示面积和volume，就是一个已知半径和角度求弧长的问题"
   ]
  },
  {
   "cell_type": "code",
   "execution_count": 105,
   "metadata": {},
   "outputs": [
    {
     "name": "stderr",
     "output_type": "stream",
     "text": [
      "/Users/jiangtianxiaoyubei/anaconda3/lib/python3.7/site-packages/astropy/visualization/wcsaxes/core.py:251: UserWarning:\n",
      "\n",
      "The following kwargs were not used by contour: 'lw'\n",
      "\n",
      "/Users/jiangtianxiaoyubei/anaconda3/lib/python3.7/site-packages/astropy/visualization/wcsaxes/core.py:225: UserWarning:\n",
      "\n",
      "The following kwargs were not used by contour: 'lw'\n",
      "\n",
      "/Users/jiangtianxiaoyubei/anaconda3/lib/python3.7/site-packages/ipykernel_launcher.py:8: FutureWarning:\n",
      "\n",
      "Series.data is deprecated and will be removed in a future version\n",
      "\n",
      "/Users/jiangtianxiaoyubei/anaconda3/lib/python3.7/site-packages/ipykernel_launcher.py:9: FutureWarning:\n",
      "\n",
      "Series.data is deprecated and will be removed in a future version\n",
      "\n"
     ]
    },
    {
     "data": {
      "text/plain": [
       "[0, 7100, 0, 8400]"
      ]
     },
     "execution_count": 105,
     "metadata": {},
     "output_type": "execute_result"
    },
    {
     "data": {
      "text/plain": [
       "<Figure size 576x576 with 0 Axes>"
      ]
     },
     "metadata": {},
     "output_type": "display_data"
    },
    {
     "data": {
      "image/png": "[encoded data removed]",
      "text/plain": [
       "<Figure size 432x288 with 1 Axes>"
      ]
     },
     "metadata": {
      "needs_background": "light"
     },
     "output_type": "display_data"
    }
   ],
   "source": [
    "fig = plt.figure(figsize=(8, 8))\n",
    "fig = plt.figure()\n",
    "ax = fig.gca(projection=wcs1)\n",
    "\n",
    "cfset = ax.contourf(xx, yy, f, cmap='coolwarm', lw=1)\n",
    "cset = ax.contour(xx, yy, f, colors='k', lw=1)\n",
    "\n",
    "ax.scatter(emitter_1.X_IMAGE.data.obj, emitter_1.Y_IMAGE.data.obj, marker='.', color='blue', s=25, label='LAE')\n",
    "ax.scatter(lya.X_IMAGE.data.obj, lya.Y_IMAGE.data.obj, marker='*', color='r', s=75, label='LAB')\n",
    "ax.legend()\n",
    "\n",
    "ax.clabel(cset, inline=1, fontsize=10)\n",
    "ax.set_xlabel('RA')\n",
    "ax.set_ylabel('Dec')\n",
    "\n",
    "plt.title('BOSS 1441')\n",
    "\n",
    "plt.axis([xx[0, 0], xx[0, -1], yy[0, 0], yy[-1, 0]])"
   ]
  },
  {
   "cell_type": "code",
   "execution_count": 106,
   "metadata": {},
   "outputs": [],
   "source": [
    "redshift_z=((4030-1215.7)/1215.7)"
   ]
  },
  {
   "cell_type": "code",
   "execution_count": 107,
   "metadata": {},
   "outputs": [],
   "source": [
    "radii_z=cosmo.comoving_distance(2.3)#半径"
   ]
  },
  {
   "cell_type": "code",
   "execution_count": 108,
   "metadata": {},
   "outputs": [],
   "source": [
    "angle_ra=len_ra/60\n",
    "angle_dec=len_dec/60\n",
    "#角度"
   ]
  },
  {
   "cell_type": "code",
   "execution_count": 109,
   "metadata": {},
   "outputs": [],
   "source": [
    "length_ra=(angle_ra/180)*np.pi*radii_z\n",
    "length_dec=(angle_dec/180)*np.pi*radii_z\n",
    "area_field=length_ra*length_dec"
   ]
  },
  {
   "cell_type": "code",
   "execution_count": 110,
   "metadata": {},
   "outputs": [],
   "source": [
    "redshift1=redshift_z+45/2/1215.7\n",
    "redshift2=redshift_z-45/2/1215.7\n",
    "velA=(30000/490)*((redshift1/(redshift1+1))-(redshift2/(redshift2+1)))\n",
    "velB= cosmo.comoving_distance(redshift_z+45/2/1215.7)-cosmo.comoving_distance(redshift_z-45/2/1215.7)\n",
    "#所以说红移场的深度就是和这个bandwidth相关的吗？45是bandwidth，因为4030在中心，所以要除以2出来"
   ]
  },
  {
   "cell_type": "code",
   "execution_count": 111,
   "metadata": {},
   "outputs": [
    {
     "name": "stdout",
     "output_type": "stream",
     "text": [
      "0.003368545174589843\n",
      "0.20623745966876592\n",
      "47.91952902709454 Mpc\n"
     ]
    }
   ],
   "source": [
    "print((redshift1/(redshift1+1))-(redshift2/(redshift2+1)))\n",
    "\n",
    "print(velA)\n",
    "print(velB)"
   ]
  },
  {
   "cell_type": "code",
   "execution_count": 134,
   "metadata": {},
   "outputs": [
    {
     "name": "stdout",
     "output_type": "stream",
     "text": [
      "22.66268027322826\n"
     ]
    }
   ],
   "source": [
    "v1=redshift1*3e5\n",
    "v2=redshift2*3e5\n",
    "d1=v1/490\n",
    "d2=v2/490\n",
    "velC=d1-d2\n",
    "print(velC)"
   ]
  },
  {
   "cell_type": "code",
   "execution_count": 112,
   "metadata": {},
   "outputs": [
    {
     "name": "stdout",
     "output_type": "stream",
     "text": [
      "field volume: 596.809263584259 Mpc2\n"
     ]
    }
   ],
   "source": [
    "volume=velA*area_field\n",
    "print('field volume:',volume)"
   ]
  },
  {
   "cell_type": "code",
   "execution_count": 113,
   "metadata": {},
   "outputs": [],
   "source": [
    "#np.power(x,y) 求x的y次方"
   ]
  },
  {
   "cell_type": "code",
   "execution_count": 114,
   "metadata": {},
   "outputs": [],
   "source": [
    "binwidth = 0.2#luminosity每隔10e0.2划分一个bin"
   ]
  },
  {
   "cell_type": "code",
   "execution_count": 115,
   "metadata": {},
   "outputs": [],
   "source": [
    "mag = np.log10(emitter_1['luminosity'])\n",
    "#等于这个是取上面的指数，因为我们最后的坐标就是指数的坐标"
   ]
  },
  {
   "cell_type": "code",
   "execution_count": 116,
   "metadata": {},
   "outputs": [
    {
     "name": "stdout",
     "output_type": "stream",
     "text": [
      "[41.4 41.6 41.8 42.  42.2 42.4 42.6 42.8 43.  43.2 43.4 43.6 43.8 44. ]\n",
      "14\n"
     ]
    }
   ],
   "source": [
    "exponent=np.arange(binwidth*(min(mag)//binwidth-1), binwidth*(max(mag)//binwidth+1), binwidth)\n",
    "print(exponent)\n",
    "print(len(exponent))"
   ]
  },
  {
   "cell_type": "code",
   "execution_count": 117,
   "metadata": {},
   "outputs": [],
   "source": [
    "y_lumi_func=np.histogram(mag, bins=exponent)[0]/volume.value\n",
    "#数密度,即y轴坐标"
   ]
  },
  {
   "cell_type": "code",
   "execution_count": 118,
   "metadata": {},
   "outputs": [
    {
     "name": "stdout",
     "output_type": "stream",
     "text": [
      "[ 0  3 25 20  8  4  0  2  4  1  2  1  0]\n",
      "[41.4 41.6 41.8 42.  42.2 42.4 42.6 42.8 43.  43.2 43.4 43.6 43.8 44. ]\n",
      "13\n",
      "14\n"
     ]
    }
   ],
   "source": [
    "print(np.histogram(mag, bins=exponent)[0])\n",
    "print(np.histogram(mag, bins=exponent)[1])\n",
    "\n",
    "print(len(np.histogram(mag, bins=exponent)[0]))\n",
    "print(len(np.histogram(mag, bins=exponent)[1]))\n",
    "#没错，就是要少一个，因为是在区间里面！"
   ]
  },
  {
   "cell_type": "code",
   "execution_count": 119,
   "metadata": {},
   "outputs": [],
   "source": [
    "x_lumi_func = np.power(10,np.arange(binwidth*(min(mag)//binwidth-1)+0.1, binwidth*(max(mag)//binwidth+1)-0.1, binwidth))\n",
    "#x轴坐标来了！这里要注意一下把它变成和y轴一样多的，就是去两个区间中间的值！\n"
   ]
  },
  {
   "cell_type": "code",
   "execution_count": 120,
   "metadata": {},
   "outputs": [
    {
     "name": "stdout",
     "output_type": "stream",
     "text": [
      "13\n",
      "13\n"
     ]
    }
   ],
   "source": [
    "print(len(x_lumi_func))\n",
    "print(len(y_lumi_func))\n",
    "#这样就对齐了！可以操作了！"
   ]
  },
  {
   "cell_type": "code",
   "execution_count": 121,
   "metadata": {},
   "outputs": [],
   "source": [
    "lumi_func = np.delete(np.vstack([x_lumi_func, y_lumi_func]), np.where(y_lumi_func==0) ,axis=1)"
   ]
  },
  {
   "cell_type": "code",
   "execution_count": 122,
   "metadata": {},
   "outputs": [
    {
     "name": "stdout",
     "output_type": "stream",
     "text": [
      "[[5.01187234e+41 7.94328235e+41 1.25892541e+42 1.99526231e+42\n",
      "  3.16227766e+42 7.94328235e+42 1.25892541e+43 1.99526231e+43\n",
      "  3.16227766e+43 5.01187234e+43]\n",
      " [5.02673163e-03 4.18894302e-02 3.35115442e-02 1.34046177e-02\n",
      "  6.70230883e-03 3.35115442e-03 6.70230883e-03 1.67557721e-03\n",
      "  3.35115442e-03 1.67557721e-03]]\n"
     ]
    }
   ],
   "source": [
    "print(lumi_func)"
   ]
  },
  {
   "cell_type": "code",
   "execution_count": 123,
   "metadata": {},
   "outputs": [],
   "source": [
    "error = np.sqrt(lumi_func[1]*volume.value)/volume.value#误差"
   ]
  },
  {
   "cell_type": "code",
   "execution_count": 124,
   "metadata": {},
   "outputs": [],
   "source": [
    "def LuminoFunc(x, a, b, c):\n",
    "    return (a)*np.power(x/b,c) *np.exp(-x/b)\n",
    "#luminosity function的定义\n",
    "\n",
    "\n",
    "def LuminoFunc1(x, a, b, c):\n",
    "    return (a)*np.power(x,c) *np.exp(-x)\n",
    "\n",
    "#这第二个是啥回来再说"
   ]
  },
  {
   "cell_type": "code",
   "execution_count": 125,
   "metadata": {},
   "outputs": [],
   "source": [
    "#def func(x,B,n):\n",
    "#    return B*x**n\n",
    "#param_bounds=([-np.inf,0],[np.inf,1])\n",
    "#设定B和n的下界和上界。其中B为负无穷到正无穷，n为0到1，即第一个list是全部参数的上界，第二个list是全部参数的下界\n",
    "#r2=optimize.curve_fit(func,x,y,bounds=param_bounds)\n",
    "#B,n=r2[0]#输出拟合的参数"
   ]
  },
  {
   "cell_type": "code",
   "execution_count": 126,
   "metadata": {},
   "outputs": [],
   "source": [
    "param_bounds =([10**-7., 10**40., -2], [1, 10**44., -1.0])"
   ]
  },
  {
   "cell_type": "code",
   "execution_count": 127,
   "metadata": {},
   "outputs": [],
   "source": [
    "popt_1, pcov_1 = curve_fit(LuminoFunc, lumi_func[0], lumi_func[1], p0=[10**(-4), 10**42.4, -1.3], bounds=param_bounds, maxfev=50000)\n"
   ]
  },
  {
   "cell_type": "code",
   "execution_count": 128,
   "metadata": {},
   "outputs": [
    {
     "name": "stdout",
     "output_type": "stream",
     "text": [
      "[ 3.96894469e-03  2.51188643e+42 -1.30000029e+00]\n"
     ]
    }
   ],
   "source": [
    "print(popt_1)#三个参数的值\n",
    "#pcov_1 不知道是啥，大概率没用"
   ]
  },
  {
   "cell_type": "code",
   "execution_count": 129,
   "metadata": {},
   "outputs": [
    {
     "name": "stdout",
     "output_type": "stream",
     "text": [
      "phi*= 0.003968944685798536\n",
      "L*= 2.511886431509572e+42\n",
      "alpha= -1.300000288811453\n"
     ]
    }
   ],
   "source": [
    "a = popt_1[0]; b = popt_1[1]; c = popt_1[2]; print('phi*=', a); print('L*=', b); print('alpha=', c)\n",
    "xvals = np.linspace(10**41.5, 10**43,200)\n",
    "yvals = LuminoFunc(xvals, a, b, c)\n",
    "\n",
    "a0, b0, c0 = 10**(-2.86), 10**42.33, -1.65 #constant at z=2.3\n",
    "# a0, b0, c0 = 10**(-3.96), 10**43.22, -1.72 #constant at z=2.3\n",
    "v, err = integrate.quad(LuminoFunc, 0.65, 1000, args=(a0, b0, c0)) # N_field\n",
    "# print('err=',err)\n",
    "# v = v * 15**3; print('random field Lya number density:', v, '/Mpc3')"
   ]
  },
  {
   "cell_type": "code",
   "execution_count": 130,
   "metadata": {},
   "outputs": [
    {
     "data": {
      "text/plain": [
       "<matplotlib.legend.Legend at 0x7fbee22c79b0>"
      ]
     },
     "execution_count": 130,
     "metadata": {},
     "output_type": "execute_result"
    },
    {
     "data": {
      "image/png": "[encoded data removed]",
      "text/plain": [
       "<Figure size 432x288 with 1 Axes>"
      ]
     },
     "metadata": {
      "needs_background": "light"
     },
     "output_type": "display_data"
    }
   ],
   "source": [
    "fig,ax = plt.subplots()\n",
    "plt.semilogx()\n",
    "plt.semilogy()\n",
    "\n",
    "plt.scatter(lumi_func[0], lumi_func[1], color = 'black', edgecolors='black', marker='o', s=35)\n",
    "plt.errorbar(lumi_func[0], lumi_func[1], fmt='None', yerr=error, ecolor='black', capsize=4)\n",
    "plt.plot(xvals, LuminoFunc(xvals, a0, b0, c0), color='b', label='random field')\n",
    "\n",
    "ax.set_xlim(10e43,10e40)\n",
    "ax.set_ylim(10e-7,10e-2)\n",
    "\n",
    "ax.invert_xaxis()\n",
    "\n",
    "plt.xlabel('Luminosity(ergs/sec)')\n",
    "plt.ylabel('number density ($Mpc^{-3}$)')\n",
    "plt.legend()\n"
   ]
  },
  {
   "cell_type": "code",
   "execution_count": null,
   "metadata": {},
   "outputs": [],
   "source": []
  },
  {
   "cell_type": "code",
   "execution_count": null,
   "metadata": {},
   "outputs": [],
   "source": []
  },
  {
   "cell_type": "code",
   "execution_count": null,
   "metadata": {},
   "outputs": [],
   "source": []
  }
 ],
 "metadata": {
  "kernelspec": {
   "display_name": "Python 3",
   "language": "python",
   "name": "python3"
  },
  "language_info": {
   "codemirror_mode": {
    "name": "ipython",
    "version": 3
   },
   "file_extension": ".py",
   "mimetype": "text/x-python",
   "name": "python",
   "nbconvert_exporter": "python",
   "pygments_lexer": "ipython3",
   "version": "3.7.4"
  }
 },
 "nbformat": 4,
 "nbformat_minor": 4
}
