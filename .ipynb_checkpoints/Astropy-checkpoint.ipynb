{
 "cells": [
  {
   "cell_type": "markdown",
   "metadata": {},
   "source": [
    "# Astropy learning notebook\n",
    "******"
   ]
  },
  {
   "cell_type": "code",
   "execution_count": 2,
   "metadata": {},
   "outputs": [],
   "source": [
    "import astropy"
   ]
  },
  {
   "cell_type": "markdown",
   "metadata": {},
   "source": [
    "## Data structures and transformations\n",
    "---"
   ]
  },
  {
   "cell_type": "markdown",
   "metadata": {},
   "source": [
    "### Astropy Constants"
   ]
  },
  {
   "cell_type": "markdown",
   "metadata": {},
   "source": [
    "<table class=\"docutils align-default\">\n",
    "<colgroup>\n",
    "<col style=\"width: 12%\" />\n",
    "<col style=\"width: 16%\" />\n",
    "<col style=\"width: 19%\" />\n",
    "<col style=\"width: 53%\" />\n",
    "</colgroup>\n",
    "<thead>\n",
    "<tr class=\"row-odd\"><th class=\"head\"><p>Name</p></th>\n",
    "<th class=\"head\"><p>Value</p></th>\n",
    "<th class=\"head\"><p>Unit</p></th>\n",
    "<th class=\"head\"><p>Description</p></th>\n",
    "</tr>\n",
    "</thead>\n",
    "<tbody>\n",
    "<tr class=\"row-even\"><td><p>G</p></td>\n",
    "<td><p>6.6743e-11</p></td>\n",
    "<td><p>m3 / (kg s2)</p></td>\n",
    "<td><p>Gravitational constant</p></td>\n",
    "</tr>\n",
    "<tr class=\"row-odd\"><td><p>N_A</p></td>\n",
    "<td><p>6.02214076e+23</p></td>\n",
    "<td><p>1 / (mol)</p></td>\n",
    "<td><p>Avogadro’s number</p></td>\n",
    "</tr>\n",
    "<tr class=\"row-even\"><td><p>R</p></td>\n",
    "<td><p>8.31446262</p></td>\n",
    "<td><p>J / (K mol)</p></td>\n",
    "<td><p>Gas constant</p></td>\n",
    "</tr>\n",
    "<tr class=\"row-odd\"><td><p>Ryd</p></td>\n",
    "<td><p>10973731.6</p></td>\n",
    "<td><p>1 / (m)</p></td>\n",
    "<td><p>Rydberg constant</p></td>\n",
    "</tr>\n",
    "<tr class=\"row-even\"><td><p>a0</p></td>\n",
    "<td><p>5.29177211e-11</p></td>\n",
    "<td><p>m</p></td>\n",
    "<td><p>Bohr radius</p></td>\n",
    "</tr>\n",
    "<tr class=\"row-odd\"><td><p>alpha</p></td>\n",
    "<td><p>0.00729735257</p></td>\n",
    "<td></td>\n",
    "<td><p>Fine-structure constant</p></td>\n",
    "</tr>\n",
    "<tr class=\"row-even\"><td><p>atm</p></td>\n",
    "<td><p>101325</p></td>\n",
    "<td><p>Pa</p></td>\n",
    "<td><p>Standard atmosphere</p></td>\n",
    "</tr>\n",
    "<tr class=\"row-odd\"><td><p>b_wien</p></td>\n",
    "<td><p>0.00289777196</p></td>\n",
    "<td><p>m K</p></td>\n",
    "<td><p>Wien wavelength displacement law constant</p></td>\n",
    "</tr>\n",
    "<tr class=\"row-even\"><td><p>c</p></td>\n",
    "<td><p>299792458</p></td>\n",
    "<td><p>m / (s)</p></td>\n",
    "<td><p>Speed of light in vacuum</p></td>\n",
    "</tr>\n",
    "<tr class=\"row-odd\"><td><p>e</p></td>\n",
    "<td><p>1.60217663e-19</p></td>\n",
    "<td><p>C</p></td>\n",
    "<td><p>Electron charge</p></td>\n",
    "</tr>\n",
    "<tr class=\"row-even\"><td><p>eps0</p></td>\n",
    "<td><p>8.85418781e-12</p></td>\n",
    "<td><p>F/m</p></td>\n",
    "<td><p>Vacuum electric permittivity</p></td>\n",
    "</tr>\n",
    "<tr class=\"row-odd\"><td><p>g0</p></td>\n",
    "<td><p>9.80665</p></td>\n",
    "<td><p>m / s2</p></td>\n",
    "<td><p>Standard acceleration of gravity</p></td>\n",
    "</tr>\n",
    "<tr class=\"row-even\"><td><p>h</p></td>\n",
    "<td><p>6.62607015e-34</p></td>\n",
    "<td><p>J s</p></td>\n",
    "<td><p>Planck constant</p></td>\n",
    "</tr>\n",
    "<tr class=\"row-odd\"><td><p>hbar</p></td>\n",
    "<td><p>1.05457182e-34</p></td>\n",
    "<td><p>J s</p></td>\n",
    "<td><p>Reduced Planck constant</p></td>\n",
    "</tr>\n",
    "<tr class=\"row-even\"><td><p>k_B</p></td>\n",
    "<td><p>1.380649e-23</p></td>\n",
    "<td><p>J / (K)</p></td>\n",
    "<td><p>Boltzmann constant</p></td>\n",
    "</tr>\n",
    "<tr class=\"row-odd\"><td><p>m_e</p></td>\n",
    "<td><p>9.1093837e-31</p></td>\n",
    "<td><p>kg</p></td>\n",
    "<td><p>Electron mass</p></td>\n",
    "</tr>\n",
    "<tr class=\"row-even\"><td><p>m_n</p></td>\n",
    "<td><p>1.6749275e-27</p></td>\n",
    "<td><p>kg</p></td>\n",
    "<td><p>Neutron mass</p></td>\n",
    "</tr>\n",
    "<tr class=\"row-odd\"><td><p>m_p</p></td>\n",
    "<td><p>1.67262192e-27</p></td>\n",
    "<td><p>kg</p></td>\n",
    "<td><p>Proton mass</p></td>\n",
    "</tr>\n",
    "<tr class=\"row-even\"><td><p>mu0</p></td>\n",
    "<td><p>1.25663706e-06</p></td>\n",
    "<td><p>N/A2</p></td>\n",
    "<td><p>Vacuum magnetic permeability</p></td>\n",
    "</tr>\n",
    "<tr class=\"row-odd\"><td><p>muB</p></td>\n",
    "<td><p>9.27401008e-24</p></td>\n",
    "<td><p>J/T</p></td>\n",
    "<td><p>Bohr magneton</p></td>\n",
    "</tr>\n",
    "<tr class=\"row-even\"><td><p>sigma_T</p></td>\n",
    "<td><p>6.65245873e-29</p></td>\n",
    "<td><p>m2</p></td>\n",
    "<td><p>Thomson scattering cross-section</p></td>\n",
    "</tr>\n",
    "<tr class=\"row-odd\"><td><p>sigma_sb</p></td>\n",
    "<td><p>5.67037442e-08</p></td>\n",
    "<td><p>W / (K4 m2)</p></td>\n",
    "<td><p>Stefan-Boltzmann constant</p></td>\n",
    "</tr>\n",
    "<tr class=\"row-even\"><td><p>u</p></td>\n",
    "<td><p>1.66053907e-27</p></td>\n",
    "<td><p>kg</p></td>\n",
    "<td><p>Atomic mass</p></td>\n",
    "</tr>\n",
    "<tr class=\"row-odd\"><td><p>GM_earth</p></td>\n",
    "<td><p>3.986004e+14</p></td>\n",
    "<td><p>m3 / (s2)</p></td>\n",
    "<td><p>Nominal Earth mass parameter</p></td>\n",
    "</tr>\n",
    "<tr class=\"row-even\"><td><p>GM_jup</p></td>\n",
    "<td><p>1.2668653e+17</p></td>\n",
    "<td><p>m3 / (s2)</p></td>\n",
    "<td><p>Nominal Jupiter mass parameter</p></td>\n",
    "</tr>\n",
    "<tr class=\"row-odd\"><td><p>GM_sun</p></td>\n",
    "<td><p>1.3271244e+20</p></td>\n",
    "<td><p>m3 / (s2)</p></td>\n",
    "<td><p>Nominal solar mass parameter</p></td>\n",
    "</tr>\n",
    "<tr class=\"row-even\"><td><p>L_bol0</p></td>\n",
    "<td><p>3.0128e+28</p></td>\n",
    "<td><p>W</p></td>\n",
    "<td><p>Luminosity for absolute bolometric magnitude 0</p></td>\n",
    "</tr>\n",
    "<tr class=\"row-odd\"><td><p>L_sun</p></td>\n",
    "<td><p>3.828e+26</p></td>\n",
    "<td><p>W</p></td>\n",
    "<td><p>Nominal solar luminosity</p></td>\n",
    "</tr>\n",
    "<tr class=\"row-even\"><td><p>M_earth</p></td>\n",
    "<td><p>5.97216787e+24</p></td>\n",
    "<td><p>kg</p></td>\n",
    "<td><p>Earth mass</p></td>\n",
    "</tr>\n",
    "<tr class=\"row-odd\"><td><p>M_jup</p></td>\n",
    "<td><p>1.8981246e+27</p></td>\n",
    "<td><p>kg</p></td>\n",
    "<td><p>Jupiter mass</p></td>\n",
    "</tr>\n",
    "<tr class=\"row-even\"><td><p>M_sun</p></td>\n",
    "<td><p>1.98840987e+30</p></td>\n",
    "<td><p>kg</p></td>\n",
    "<td><p>Solar mass</p></td>\n",
    "</tr>\n",
    "<tr class=\"row-odd\"><td><p>R_earth</p></td>\n",
    "<td><p>6378100</p></td>\n",
    "<td><p>m</p></td>\n",
    "<td><p>Nominal Earth equatorial radius</p></td>\n",
    "</tr>\n",
    "<tr class=\"row-even\"><td><p>R_jup</p></td>\n",
    "<td><p>71492000</p></td>\n",
    "<td><p>m</p></td>\n",
    "<td><p>Nominal Jupiter equatorial radius</p></td>\n",
    "</tr>\n",
    "<tr class=\"row-odd\"><td><p>R_sun</p></td>\n",
    "<td><p>695700000</p></td>\n",
    "<td><p>m</p></td>\n",
    "<td><p>Nominal solar radius</p></td>\n",
    "</tr>\n",
    "<tr class=\"row-even\"><td><p>au</p></td>\n",
    "<td><p>1.49597871e+11</p></td>\n",
    "<td><p>m</p></td>\n",
    "<td><p>Astronomical Unit</p></td>\n",
    "</tr>\n",
    "<tr class=\"row-odd\"><td><p>kpc</p></td>\n",
    "<td><p>3.08567758e+19</p></td>\n",
    "<td><p>m</p></td>\n",
    "<td><p>Kiloparsec</p></td>\n",
    "</tr>\n",
    "<tr class=\"row-even\"><td><p>pc</p></td>\n",
    "<td><p>3.08567758e+16</p></td>\n",
    "<td><p>m</p></td>\n",
    "<td><p>Parsec</p></td>\n",
    "</tr>\n",
    "</tbody>\n",
    "</table>\n",
    "<div class=\"section\" id=\"functions\">"
   ]
  },
  {
   "cell_type": "code",
   "execution_count": 2,
   "metadata": {},
   "outputs": [
    {
     "name": "stdout",
     "output_type": "stream",
     "text": [
      "G=   Name   = Gravitational constant\n",
      "  Value  = 6.6743e-11\n",
      "  Uncertainty  = 1.5e-15\n",
      "  Unit  = m3 / (kg s2)\n",
      "  Reference = CODATA 2018\n",
      "N_A=   Name   = Avogadro's number\n",
      "  Value  = 6.02214076e+23\n",
      "  Uncertainty  = 0.0\n",
      "  Unit  = 1 / mol\n",
      "  Reference = CODATA 2018\n",
      "299792.458 km / s\n",
      "0.3066013937879528 pc / yr\n"
     ]
    },
    {
     "data": {
      "text/latex": [
       "$2.9979246 \\times 10^{10} \\; \\mathrm{\\frac{cm}{s}}$"
      ],
      "text/plain": [
       "<Quantity 2.99792458e+10 cm / s>"
      ]
     },
     "execution_count": 2,
     "metadata": {},
     "output_type": "execute_result"
    }
   ],
   "source": [
    "from astropy import constants as const\n",
    "from astropy import units as u\n",
    "print(\"G=\",const.G)\n",
    "print(\"N_A=\",const.N_A)\n",
    "print(const.c.to('km/s'))\n",
    "print(const.c.to('pc/yr')) #单位转换\n",
    "const.c.cgs # Centimeter-Gram-Second (CGS) units "
   ]
  },
  {
   "cell_type": "code",
   "execution_count": 3,
   "metadata": {},
   "outputs": [
    {
     "name": "stdout",
     "output_type": "stream",
     "text": [
      "0.3675671602160826 N\n"
     ]
    }
   ],
   "source": [
    "F = (const.G * 3. * const.M_sun * 100 * u.kg) / (2.2 * u.au) ** 2\n",
    "print(F.to(u.N))"
   ]
  },
  {
   "cell_type": "markdown",
   "metadata": {},
   "source": [
    "### Units and Quantities"
   ]
  },
  {
   "cell_type": "code",
   "execution_count": 6,
   "metadata": {},
   "outputs": [
    {
     "data": {
      "text/latex": [
       "$42 \\; \\mathrm{m}$"
      ],
      "text/plain": [
       "<Quantity 42. m>"
      ]
     },
     "execution_count": 6,
     "metadata": {},
     "output_type": "execute_result"
    }
   ],
   "source": [
    "from astropy import units as u\n",
    "42.0 * u.meter  "
   ]
  },
  {
   "cell_type": "code",
   "execution_count": 7,
   "metadata": {},
   "outputs": [
    {
     "data": {
      "text/latex": [
       "$[1,~2,~3] \\; \\mathrm{m}$"
      ],
      "text/plain": [
       "<Quantity [1., 2., 3.] m>"
      ]
     },
     "execution_count": 7,
     "metadata": {},
     "output_type": "execute_result"
    }
   ],
   "source": [
    "[1., 2., 3.] * u.m  "
   ]
  },
  {
   "cell_type": "code",
   "execution_count": 8,
   "metadata": {},
   "outputs": [
    {
     "data": {
      "text/latex": [
       "$[1,~2,~3] \\; \\mathrm{m}$"
      ],
      "text/plain": [
       "<Quantity [1., 2., 3.] m>"
      ]
     },
     "execution_count": 8,
     "metadata": {},
     "output_type": "execute_result"
    }
   ],
   "source": [
    "import numpy as np\n",
    "np.array([1., 2., 3.]) * u.m  "
   ]
  },
  {
   "cell_type": "code",
   "execution_count": 11,
   "metadata": {},
   "outputs": [
    {
     "name": "stdout",
     "output_type": "stream",
     "text": [
      "42.0 m\n"
     ]
    }
   ],
   "source": [
    "q = 42.0 * u.meter\n",
    "print(q.value,q.unit)\n"
   ]
  },
  {
   "cell_type": "code",
   "execution_count": 15,
   "metadata": {},
   "outputs": [
    {
     "data": {
      "text/latex": [
       "$0.471875 \\; \\mathrm{\\frac{m}{s}}$"
      ],
      "text/plain": [
       "<Quantity 0.471875 m / s>"
      ]
     },
     "execution_count": 15,
     "metadata": {},
     "output_type": "execute_result"
    }
   ],
   "source": [
    "15.1 * u.meter / (32.0 * u.second)  "
   ]
  },
  {
   "cell_type": "code",
   "execution_count": 14,
   "metadata": {},
   "outputs": [
    {
     "data": {
      "text/latex": [
       "$0.022986744 \\; \\mathrm{\\frac{km\\,s}{m}}$"
      ],
      "text/plain": [
       "<Quantity 0.02298674 km s / m>"
      ]
     },
     "execution_count": 14,
     "metadata": {},
     "output_type": "execute_result"
    }
   ],
   "source": [
    "3.0 * u.kilometer / (130.51 * u.meter / u.second)  "
   ]
  },
  {
   "cell_type": "code",
   "execution_count": 16,
   "metadata": {},
   "outputs": [
    {
     "data": {
      "text/latex": [
       "$22.986744 \\; \\mathrm{s}$"
      ],
      "text/plain": [
       "<Quantity 22.98674431 s>"
      ]
     },
     "execution_count": 16,
     "metadata": {},
     "output_type": "execute_result"
    }
   ],
   "source": [
    "(3.0 * u.kilometer / (130.51 * u.meter / u.second)).decompose()  "
   ]
  },
  {
   "cell_type": "code",
   "execution_count": 19,
   "metadata": {},
   "outputs": [
    {
     "data": {
      "text/latex": [
       "$3.2615638 \\; \\mathrm{lyr}$"
      ],
      "text/plain": [
       "<Quantity 3.26156378 lyr>"
      ]
     },
     "execution_count": 19,
     "metadata": {},
     "output_type": "execute_result"
    }
   ],
   "source": [
    "x = 1.0 * u.parsec\n",
    "x.to(u.lyr)  "
   ]
  },
  {
   "cell_type": "code",
   "execution_count": 28,
   "metadata": {},
   "outputs": [
    {
     "data": {
      "text/plain": [
       "[Unit(\"Bq\"), Unit(\"Hz\"), Unit(\"2.7027e-11 Ci\")]"
      ]
     },
     "execution_count": 28,
     "metadata": {},
     "output_type": "execute_result"
    }
   ],
   "source": [
    "(u.s ** -1).compose()  "
   ]
  },
  {
   "cell_type": "code",
   "execution_count": 30,
   "metadata": {},
   "outputs": [
    {
     "data": {
      "text/latex": [
       "$2.9979246 \\times 10^{14} \\; \\mathrm{Hz}$"
      ],
      "text/plain": [
       "<Quantity 2.99792458e+14 Hz>"
      ]
     },
     "execution_count": 30,
     "metadata": {},
     "output_type": "execute_result"
    }
   ],
   "source": [
    "(1000 * u.nm).to(u.Hz, equivalencies=u.spectral())  "
   ]
  },
  {
   "cell_type": "markdown",
   "metadata": {},
   "source": [
    "### N-Dimensional Datasets"
   ]
  },
  {
   "cell_type": "code",
   "execution_count": 32,
   "metadata": {},
   "outputs": [
    {
     "data": {
      "text/plain": [
       "NDData([[[0., 0., 0., ..., 0., 0., 0.],\n",
       "         [0., 0., 0., ..., 0., 0., 0.],\n",
       "         [0., 0., 0., ..., 0., 0., 0.],\n",
       "         ...,\n",
       "         [0., 0., 0., ..., 0., 0., 0.],\n",
       "         [0., 0., 0., ..., 0., 0., 0.],\n",
       "         [0., 0., 0., ..., 0., 0., 0.]],\n",
       "\n",
       "        [[0., 0., 0., ..., 0., 0., 0.],\n",
       "         [0., 0., 0., ..., 0., 0., 0.],\n",
       "         [0., 0., 0., ..., 0., 0., 0.],\n",
       "         ...,\n",
       "         [0., 0., 0., ..., 0., 0., 0.],\n",
       "         [0., 0., 0., ..., 0., 0., 0.],\n",
       "         [0., 0., 0., ..., 0., 0., 0.]],\n",
       "\n",
       "        [[0., 0., 0., ..., 0., 0., 0.],\n",
       "         [0., 0., 0., ..., 0., 0., 0.],\n",
       "         [0., 0., 0., ..., 0., 0., 0.],\n",
       "         ...,\n",
       "         [0., 0., 0., ..., 0., 0., 0.],\n",
       "         [0., 0., 0., ..., 0., 0., 0.],\n",
       "         [0., 0., 0., ..., 0., 0., 0.]],\n",
       "\n",
       "        ...,\n",
       "\n",
       "        [[0., 0., 0., ..., 0., 0., 0.],\n",
       "         [0., 0., 0., ..., 0., 0., 0.],\n",
       "         [0., 0., 0., ..., 0., 0., 0.],\n",
       "         ...,\n",
       "         [0., 0., 0., ..., 0., 0., 0.],\n",
       "         [0., 0., 0., ..., 0., 0., 0.],\n",
       "         [0., 0., 0., ..., 0., 0., 0.]],\n",
       "\n",
       "        [[0., 0., 0., ..., 0., 0., 0.],\n",
       "         [0., 0., 0., ..., 0., 0., 0.],\n",
       "         [0., 0., 0., ..., 0., 0., 0.],\n",
       "         ...,\n",
       "         [0., 0., 0., ..., 0., 0., 0.],\n",
       "         [0., 0., 0., ..., 0., 0., 0.],\n",
       "         [0., 0., 0., ..., 0., 0., 0.]],\n",
       "\n",
       "        [[0., 0., 0., ..., 0., 0., 0.],\n",
       "         [0., 0., 0., ..., 0., 0., 0.],\n",
       "         [0., 0., 0., ..., 0., 0., 0.],\n",
       "         ...,\n",
       "         [0., 0., 0., ..., 0., 0., 0.],\n",
       "         [0., 0., 0., ..., 0., 0., 0.],\n",
       "         [0., 0., 0., ..., 0., 0., 0.]]])"
      ]
     },
     "execution_count": 32,
     "metadata": {},
     "output_type": "execute_result"
    }
   ],
   "source": [
    "import numpy as np\n",
    "from astropy.nddata import NDData\n",
    "array = np.zeros((12, 12, 12))  # a 3-dimensional array with all zeros\n",
    "ndd1 = NDData(array)"
   ]
  },
  {
   "cell_type": "markdown",
   "metadata": {},
   "source": [
    "## Files, I/O, and Communication\n",
    "---"
   ]
  },
  {
   "cell_type": "markdown",
   "metadata": {},
   "source": [
    "### Unified File Read/Write Interface"
   ]
  },
  {
   "cell_type": "code",
   "execution_count": 15,
   "metadata": {},
   "outputs": [
    {
     "name": "stdout",
     "output_type": "stream",
     "text": [
      "INFO: first HDU with data is extension 1. [astropy.nddata.ccddata]\n"
     ]
    },
    {
     "ename": "ValueError",
     "evalue": "a unit for CCDData must be specified.",
     "output_type": "error",
     "traceback": [
      "\u001b[1;31m---------------------------------------------------------------------------\u001b[0m",
      "\u001b[1;31mValueError\u001b[0m                                Traceback (most recent call last)",
      "\u001b[1;32m<ipython-input-15-d462b15ddc70>\u001b[0m in \u001b[0;36m<module>\u001b[1;34m\u001b[0m\n\u001b[0;32m      2\u001b[0m \u001b[1;31m# Read CCD image\u001b[0m\u001b[1;33m\u001b[0m\u001b[1;33m\u001b[0m\u001b[1;33m\u001b[0m\u001b[0m\n\u001b[0;32m      3\u001b[0m \u001b[0mccd\u001b[0m \u001b[1;33m=\u001b[0m \u001b[0mCCDData\u001b[0m\u001b[1;33m(\u001b[0m\u001b[1;33m[\u001b[0m\u001b[1;36m1\u001b[0m\u001b[1;33m,\u001b[0m\u001b[1;36m1\u001b[0m\u001b[1;33m,\u001b[0m\u001b[1;36m1\u001b[0m\u001b[1;33m]\u001b[0m\u001b[1;33m,\u001b[0m\u001b[0munit\u001b[0m\u001b[1;33m=\u001b[0m\u001b[1;34m'adu'\u001b[0m\u001b[1;33m)\u001b[0m\u001b[1;33m\u001b[0m\u001b[1;33m\u001b[0m\u001b[0m\n\u001b[1;32m----> 4\u001b[1;33m \u001b[0mccd\u001b[0m \u001b[1;33m=\u001b[0m \u001b[0mCCDData\u001b[0m\u001b[1;33m.\u001b[0m\u001b[0mread\u001b[0m\u001b[1;33m(\u001b[0m\u001b[1;34m'ds9.fits'\u001b[0m\u001b[1;33m)\u001b[0m\u001b[1;33m\u001b[0m\u001b[1;33m\u001b[0m\u001b[0m\n\u001b[0m",
      "\u001b[1;32m~\\AppData\\Local\\Programs\\Python\\Python37\\lib\\site-packages\\astropy\\nddata\\mixins\\ndio.py\u001b[0m in \u001b[0;36m__call__\u001b[1;34m(self, *args, **kwargs)\u001b[0m\n\u001b[0;32m     54\u001b[0m \u001b[1;33m\u001b[0m\u001b[0m\n\u001b[0;32m     55\u001b[0m     \u001b[1;32mdef\u001b[0m \u001b[0m__call__\u001b[0m\u001b[1;33m(\u001b[0m\u001b[0mself\u001b[0m\u001b[1;33m,\u001b[0m \u001b[1;33m*\u001b[0m\u001b[0margs\u001b[0m\u001b[1;33m,\u001b[0m \u001b[1;33m**\u001b[0m\u001b[0mkwargs\u001b[0m\u001b[1;33m)\u001b[0m\u001b[1;33m:\u001b[0m\u001b[1;33m\u001b[0m\u001b[1;33m\u001b[0m\u001b[0m\n\u001b[1;32m---> 56\u001b[1;33m         \u001b[1;32mreturn\u001b[0m \u001b[0mregistry\u001b[0m\u001b[1;33m.\u001b[0m\u001b[0mread\u001b[0m\u001b[1;33m(\u001b[0m\u001b[0mself\u001b[0m\u001b[1;33m.\u001b[0m\u001b[0m_cls\u001b[0m\u001b[1;33m,\u001b[0m \u001b[1;33m*\u001b[0m\u001b[0margs\u001b[0m\u001b[1;33m,\u001b[0m \u001b[1;33m**\u001b[0m\u001b[0mkwargs\u001b[0m\u001b[1;33m)\u001b[0m\u001b[1;33m\u001b[0m\u001b[1;33m\u001b[0m\u001b[0m\n\u001b[0m\u001b[0;32m     57\u001b[0m \u001b[1;33m\u001b[0m\u001b[0m\n\u001b[0;32m     58\u001b[0m \u001b[1;33m\u001b[0m\u001b[0m\n",
      "\u001b[1;32m~\\AppData\\Local\\Programs\\Python\\Python37\\lib\\site-packages\\astropy\\io\\registry.py\u001b[0m in \u001b[0;36mread\u001b[1;34m(cls, format, *args, **kwargs)\u001b[0m\n\u001b[0;32m    521\u001b[0m \u001b[1;33m\u001b[0m\u001b[0m\n\u001b[0;32m    522\u001b[0m         \u001b[0mreader\u001b[0m \u001b[1;33m=\u001b[0m \u001b[0mget_reader\u001b[0m\u001b[1;33m(\u001b[0m\u001b[0mformat\u001b[0m\u001b[1;33m,\u001b[0m \u001b[0mcls\u001b[0m\u001b[1;33m)\u001b[0m\u001b[1;33m\u001b[0m\u001b[1;33m\u001b[0m\u001b[0m\n\u001b[1;32m--> 523\u001b[1;33m         \u001b[0mdata\u001b[0m \u001b[1;33m=\u001b[0m \u001b[0mreader\u001b[0m\u001b[1;33m(\u001b[0m\u001b[1;33m*\u001b[0m\u001b[0margs\u001b[0m\u001b[1;33m,\u001b[0m \u001b[1;33m**\u001b[0m\u001b[0mkwargs\u001b[0m\u001b[1;33m)\u001b[0m\u001b[1;33m\u001b[0m\u001b[1;33m\u001b[0m\u001b[0m\n\u001b[0m\u001b[0;32m    524\u001b[0m \u001b[1;33m\u001b[0m\u001b[0m\n\u001b[0;32m    525\u001b[0m         \u001b[1;32mif\u001b[0m \u001b[1;32mnot\u001b[0m \u001b[0misinstance\u001b[0m\u001b[1;33m(\u001b[0m\u001b[0mdata\u001b[0m\u001b[1;33m,\u001b[0m \u001b[0mcls\u001b[0m\u001b[1;33m)\u001b[0m\u001b[1;33m:\u001b[0m\u001b[1;33m\u001b[0m\u001b[1;33m\u001b[0m\u001b[0m\n",
      "\u001b[1;32m~\\AppData\\Local\\Programs\\Python\\Python37\\lib\\site-packages\\astropy\\nddata\\ccddata.py\u001b[0m in \u001b[0;36mfits_ccddata_reader\u001b[1;34m(filename, hdu, unit, hdu_uncertainty, hdu_mask, hdu_flags, key_uncertainty_type, **kwd)\u001b[0m\n\u001b[0;32m    663\u001b[0m         \u001b[0mhdr\u001b[0m\u001b[1;33m,\u001b[0m \u001b[0mwcs\u001b[0m \u001b[1;33m=\u001b[0m \u001b[0m_generate_wcs_and_update_header\u001b[0m\u001b[1;33m(\u001b[0m\u001b[0mhdr\u001b[0m\u001b[1;33m)\u001b[0m\u001b[1;33m\u001b[0m\u001b[1;33m\u001b[0m\u001b[0m\n\u001b[0;32m    664\u001b[0m         ccd_data = CCDData(hdus[hdu].data, meta=hdr, unit=use_unit,\n\u001b[1;32m--> 665\u001b[1;33m                            mask=mask, uncertainty=uncertainty, wcs=wcs)\n\u001b[0m\u001b[0;32m    666\u001b[0m \u001b[1;33m\u001b[0m\u001b[0m\n\u001b[0;32m    667\u001b[0m     \u001b[1;32mreturn\u001b[0m \u001b[0mccd_data\u001b[0m\u001b[1;33m\u001b[0m\u001b[1;33m\u001b[0m\u001b[0m\n",
      "\u001b[1;32m~\\AppData\\Local\\Programs\\Python\\Python37\\lib\\site-packages\\astropy\\nddata\\ccddata.py\u001b[0m in \u001b[0;36m__init__\u001b[1;34m(self, *args, **kwd)\u001b[0m\n\u001b[0;32m    198\u001b[0m         \u001b[1;31m# _CCDDataUnit contextmanager.\u001b[0m\u001b[1;33m\u001b[0m\u001b[1;33m\u001b[0m\u001b[1;33m\u001b[0m\u001b[0m\n\u001b[0;32m    199\u001b[0m         \u001b[1;32mif\u001b[0m \u001b[0m_config_ccd_requires_unit\u001b[0m \u001b[1;32mand\u001b[0m \u001b[0mself\u001b[0m\u001b[1;33m.\u001b[0m\u001b[0munit\u001b[0m \u001b[1;32mis\u001b[0m \u001b[1;32mNone\u001b[0m\u001b[1;33m:\u001b[0m\u001b[1;33m\u001b[0m\u001b[1;33m\u001b[0m\u001b[0m\n\u001b[1;32m--> 200\u001b[1;33m             \u001b[1;32mraise\u001b[0m \u001b[0mValueError\u001b[0m\u001b[1;33m(\u001b[0m\u001b[1;34m\"a unit for CCDData must be specified.\"\u001b[0m\u001b[1;33m)\u001b[0m\u001b[1;33m\u001b[0m\u001b[1;33m\u001b[0m\u001b[0m\n\u001b[0m\u001b[0;32m    201\u001b[0m \u001b[1;33m\u001b[0m\u001b[0m\n\u001b[0;32m    202\u001b[0m     \u001b[1;32mdef\u001b[0m \u001b[0m_slice_wcs\u001b[0m\u001b[1;33m(\u001b[0m\u001b[0mself\u001b[0m\u001b[1;33m,\u001b[0m \u001b[0mitem\u001b[0m\u001b[1;33m)\u001b[0m\u001b[1;33m:\u001b[0m\u001b[1;33m\u001b[0m\u001b[1;33m\u001b[0m\u001b[0m\n",
      "\u001b[1;31mValueError\u001b[0m: a unit for CCDData must be specified."
     ]
    }
   ],
   "source": [
    "from astropy.nddata import CCDData\n",
    "# Read CCD image\n",
    "ccd = CCDData([1,1,1],unit='adu')\n",
    "ccd = CCDData.read('ds9.fits')"
   ]
  },
  {
   "cell_type": "code",
   "execution_count": 10,
   "metadata": {},
   "outputs": [
    {
     "name": "stdout",
     "output_type": "stream",
     "text": [
      "=========================================\n",
      "CCDData.read(format='fits') documentation\n",
      "=========================================\n",
      "\n",
      "Generate a CCDData object from a FITS file.\n",
      "\n",
      "Parameters\n",
      "----------\n",
      "filename : str\n",
      "    Name of fits file.\n",
      "\n",
      "hdu : int, optional\n",
      "    FITS extension from which CCDData should be initialized. If zero and\n",
      "    and no data in the primary extension, it will search for the first\n",
      "    extension with data. The header will be added to the primary header.\n",
      "    Default is ``0``.\n",
      "\n",
      "unit : `~astropy.units.Unit`, optional\n",
      "    Units of the image data. If this argument is provided and there is a\n",
      "    unit for the image in the FITS header (the keyword ``BUNIT`` is used\n",
      "    as the unit, if present), this argument is used for the unit.\n",
      "    Default is ``None``.\n",
      "\n",
      "hdu_uncertainty : str or None, optional\n",
      "    FITS extension from which the uncertainty should be initialized. If the\n",
      "    extension does not exist the uncertainty of the CCDData is ``None``.\n",
      "    Default is ``'UNCERT'``.\n",
      "\n",
      "hdu_mask : str or None, optional\n",
      "    FITS extension from which the mask should be initialized. If the\n",
      "    extension does not exist the mask of the CCDData is ``None``.\n",
      "    Default is ``'MASK'``.\n",
      "\n",
      "hdu_flags : str or None, optional\n",
      "    Currently not implemented.\n",
      "    Default is ``None``.\n",
      "\n",
      "key_uncertainty_type : str, optional\n",
      "    The header key name where the class name of the uncertainty  is stored\n",
      "    in the hdu of the uncertainty (if any).\n",
      "    Default is ``UTYPE``.\n",
      "\n",
      "    .. versionadded:: 3.1\n",
      "\n",
      "kwd :\n",
      "    Any additional keyword parameters are passed through to the FITS reader\n",
      "    in :mod:`astropy.io.fits`; see Notes for additional discussion.\n",
      "\n",
      "Notes\n",
      "-----\n",
      "FITS files that contained scaled data (e.g. unsigned integer images) will\n",
      "be scaled and the keywords used to manage scaled data in\n",
      ":mod:`astropy.io.fits` are disabled."
     ]
    }
   ],
   "source": [
    "CCDData.read.help('fits')"
   ]
  },
  {
   "cell_type": "code",
   "execution_count": 16,
   "metadata": {},
   "outputs": [
    {
     "data": {
      "text/plain": [
       "<matplotlib.image.AxesImage at 0x1fd2be5ba08>"
      ]
     },
     "execution_count": 16,
     "metadata": {},
     "output_type": "execute_result"
    },
    {
     "data": {
      "image/png": "[encoded data removed]",
      "text/plain": [
       "<Figure size 432x288 with 1 Axes>"
      ]
     },
     "metadata": {
      "needs_background": "light"
     },
     "output_type": "display_data"
    }
   ],
   "source": [
    "from astropy.nddata import CCDData\n",
    "from matplotlib import pyplot as plt   \n",
    "x = CCDData([[1,2,3], [4,5,6]], unit='adu')\n",
    "plt.imshow(x)   "
   ]
  },
  {
   "cell_type": "code",
   "execution_count": 19,
   "metadata": {},
   "outputs": [],
   "source": [
    "from astropy.io import fits\n",
    "fits_image_filename = fits.util.get_testdata_filepath('test0.fits')\n",
    "\n",
    "hdul = fits.open(fits_image_filename)"
   ]
  },
  {
   "cell_type": "code",
   "execution_count": 20,
   "metadata": {},
   "outputs": [
    {
     "name": "stdout",
     "output_type": "stream",
     "text": [
      "Filename: C:\\Users\\DELL\\AppData\\Local\\Programs\\Python\\Python37\\lib\\site-packages\\astropy\\io\\fits\\tests\\data\\test0.fits\n",
      "No.    Name      Ver    Type      Cards   Dimensions   Format\n",
      "  0  PRIMARY       1 PrimaryHDU     138   ()      \n",
      "  1  SCI           1 ImageHDU        61   (40, 40)   int16   \n",
      "  2  SCI           2 ImageHDU        61   (40, 40)   int16   \n",
      "  3  SCI           3 ImageHDU        61   (40, 40)   int16   \n",
      "  4  SCI           4 ImageHDU        61   (40, 40)   int16   \n"
     ]
    }
   ],
   "source": [
    "hdul.info()"
   ]
  },
  {
   "cell_type": "code",
   "execution_count": 21,
   "metadata": {},
   "outputs": [],
   "source": [
    "hdul.close()"
   ]
  },
  {
   "cell_type": "code",
   "execution_count": 8,
   "metadata": {},
   "outputs": [],
   "source": [
    "hdul = fits.open('ds9.fits')"
   ]
  },
  {
   "cell_type": "code",
   "execution_count": 9,
   "metadata": {},
   "outputs": [
    {
     "name": "stdout",
     "output_type": "stream",
     "text": [
      "Filename: ds9.fits\n",
      "No.    Name      Ver    Type      Cards   Dimensions   Format\n",
      "  0  PRIMARY       1 PrimaryHDU       4   ()      \n",
      "  1                1 ImageHDU       143   (8600, 8600)   float32   \n"
     ]
    }
   ],
   "source": [
    "hdul.info()"
   ]
  },
  {
   "cell_type": "code",
   "execution_count": 28,
   "metadata": {},
   "outputs": [
    {
     "data": {
      "text/plain": [
       "0"
      ]
     },
     "execution_count": 28,
     "metadata": {},
     "output_type": "execute_result"
    }
   ],
   "source": [
    "hdul[0].header[2]"
   ]
  },
  {
   "cell_type": "code",
   "execution_count": 17,
   "metadata": {},
   "outputs": [],
   "source": [
    "hdr = hdul[0].header"
   ]
  },
  {
   "cell_type": "code",
   "execution_count": 22,
   "metadata": {},
   "outputs": [
    {
     "data": {
      "text/plain": [
       "SIMPLE  =                    T /                                                \n",
       "BITPIX  =                    8 /                                                \n",
       "NAXIS   =                    0 /                                                \n",
       "EXTEND  =                    T                                                  "
      ]
     },
     "execution_count": 22,
     "metadata": {},
     "output_type": "execute_result"
    }
   ],
   "source": [
    "hdr"
   ]
  },
  {
   "cell_type": "code",
   "execution_count": 23,
   "metadata": {},
   "outputs": [
    {
     "data": {
      "text/plain": [
       "['SIMPLE', 'BITPIX', 'NAXIS', 'EXTEND']"
      ]
     },
     "execution_count": 23,
     "metadata": {},
     "output_type": "execute_result"
    }
   ],
   "source": [
    "list(hdr.keys())  "
   ]
  },
  {
   "cell_type": "code",
   "execution_count": 26,
   "metadata": {},
   "outputs": [
    {
     "data": {
      "text/plain": [
       "''"
      ]
     },
     "execution_count": 26,
     "metadata": {},
     "output_type": "execute_result"
    }
   ],
   "source": [
    "hdr.comments['SIMPLE']"
   ]
  },
  {
   "cell_type": "code",
   "execution_count": 28,
   "metadata": {},
   "outputs": [],
   "source": [
    "data=hdul[1].data"
   ]
  },
  {
   "cell_type": "code",
   "execution_count": 29,
   "metadata": {},
   "outputs": [
    {
     "data": {
      "text/plain": [
       "(8600, 8600)"
      ]
     },
     "execution_count": 29,
     "metadata": {},
     "output_type": "execute_result"
    }
   ],
   "source": [
    "data.shape"
   ]
  },
  {
   "cell_type": "code",
   "execution_count": 33,
   "metadata": {},
   "outputs": [
    {
     "data": {
      "text/plain": [
       "'float32'"
      ]
     },
     "execution_count": 33,
     "metadata": {},
     "output_type": "execute_result"
    }
   ],
   "source": [
    "data.dtype.name"
   ]
  },
  {
   "cell_type": "code",
   "execution_count": 30,
   "metadata": {},
   "outputs": [
    {
     "name": "stdout",
     "output_type": "stream",
     "text": [
      "0.0002529334\n"
     ]
    }
   ],
   "source": [
    "print(data[1, 4])"
   ]
  },
  {
   "cell_type": "code",
   "execution_count": 39,
   "metadata": {},
   "outputs": [
    {
     "data": {
      "text/plain": [
       "array([[ 1.7358012e-03,  1.7906481e-03, -1.1302468e-03, ...,\n",
       "         5.0196890e-05,  2.7133978e-04,  9.7179925e-04],\n",
       "       [-1.0666178e-03,  1.5740156e-04, -1.8817617e-03, ...,\n",
       "         8.7631785e-04, -8.8725070e-04,  5.7625136e-04],\n",
       "       [ 1.0018917e-03,  1.0991364e-03,  1.6435942e-03, ...,\n",
       "        -1.2450169e-03,  1.4355229e-03, -1.2817853e-03],\n",
       "       ...,\n",
       "       [ 0.0000000e+00,  0.0000000e+00,  0.0000000e+00, ...,\n",
       "         0.0000000e+00,  0.0000000e+00,  0.0000000e+00],\n",
       "       [ 0.0000000e+00,  0.0000000e+00,  0.0000000e+00, ...,\n",
       "         0.0000000e+00,  0.0000000e+00,  0.0000000e+00],\n",
       "       [ 0.0000000e+00,  0.0000000e+00,  0.0000000e+00, ...,\n",
       "         0.0000000e+00,  0.0000000e+00,  0.0000000e+00]], dtype=float32)"
      ]
     },
     "execution_count": 39,
     "metadata": {},
     "output_type": "execute_result"
    }
   ],
   "source": [
    "data"
   ]
  },
  {
   "cell_type": "code",
   "execution_count": 44,
   "metadata": {},
   "outputs": [
    {
     "name": "stdout",
     "output_type": "stream",
     "text": [
      "Filename: ds9.fits\n",
      "No.    Name      Ver    Type      Cards   Dimensions   Format\n",
      "  0  PRIMARY       1 PrimaryHDU       4   ()      \n",
      "  1                1 ImageHDU       143   (8600, 8600)   float32   \n",
      "<class 'numpy.ndarray'>\n",
      "(8600, 8600)\n"
     ]
    },
    {
     "data": {
      "image/png": "[encoded data removed]",
      "text/plain": [
       "<Figure size 432x288 with 2 Axes>"
      ]
     },
     "metadata": {
      "needs_background": "light"
     },
     "output_type": "display_data"
    }
   ],
   "source": [
    "path = \"ds9.fits\"\n",
    "hdul = fits.open('ds9.fits')\n",
    "#print(type(hdu_list))\n",
    "hdul.info()\n",
    " \n",
    "image_data = hdul[1].data  #此处是hdu_list[1].data，不是hdu_list[0].data\n",
    "hdul.close()\n",
    " \n",
    "image_data = fits.getdata(path, cache=True)\n",
    "print(type(image_data))\n",
    "print(image_data.shape)\n",
    " \n",
    "plt.imshow(image_data, cmap='gray')\n",
    "plt.colorbar()\n",
    "plt.show()\n"
   ]
  },
  {
   "cell_type": "code",
   "execution_count": null,
   "metadata": {},
   "outputs": [],
   "source": []
  },
  {
   "cell_type": "code",
   "execution_count": null,
   "metadata": {},
   "outputs": [],
   "source": []
  },
  {
   "cell_type": "code",
   "execution_count": 47,
   "metadata": {},
   "outputs": [
    {
     "name": "stdout",
     "output_type": "stream",
     "text": [
      "Filename: C:\\Users\\DELL\\.astropy\\cache\\download\\py3\\2c9202ae878ecfcb60878ceb63837f5f\n",
      "No.    Name      Ver    Type      Cards   Dimensions   Format\n",
      "  0  PRIMARY       1 PrimaryHDU     161   (891, 893)   int16   \n",
      "  1  er.mask       1 TableHDU        25   1600R x 4C   [F6.2, F6.2, F6.2, F6.2]   \n",
      "<class 'numpy.ndarray'>\n",
      "(893, 891)\n"
     ]
    },
    {
     "data": {
      "image/png": "[encoded data removed]",
      "text/plain": [
       "<Figure size 432x288 with 2 Axes>"
      ]
     },
     "metadata": {
      "needs_background": "light"
     },
     "output_type": "display_data"
    }
   ],
   "source": [
    "import numpy as np\n",
    "import matplotlib\n",
    "import matplotlib.pyplot as plt\n",
    "from astropy.utils.data import download_file\n",
    "from astropy.io import fits\n",
    "path = 'http://data.astropy.org/tutorials/FITS-images/HorseHead.fits'\n",
    "image_file2 = download_file(path, cache=True)\n",
    "hdu_list2 = fits.open(image_file2)\n",
    "hdu_list2.info()\n",
    " \n",
    "image_data2 = hdu_list2[0].data   #此处是hdu_list[0].data，不是hdu_list[1].data\n",
    "hdu_list2.close()\n",
    " \n",
    "image_data2 = fits.getdata(image_file2)\n",
    "print(type(image_data2))\n",
    "print(image_data2.shape)\n",
    " \n",
    "plt.imshow(image_data2, cmap='gray')\n",
    "plt.colorbar()\n",
    "plt.show()\n"
   ]
  },
  {
   "cell_type": "code",
   "execution_count": null,
   "metadata": {},
   "outputs": [],
   "source": []
  },
  {
   "cell_type": "code",
   "execution_count": null,
   "metadata": {},
   "outputs": [],
   "source": []
  },
  {
   "cell_type": "code",
   "execution_count": null,
   "metadata": {},
   "outputs": [],
   "source": []
  }
 ],
 "metadata": {
  "kernelspec": {
   "display_name": "Python 3",
   "language": "python",
   "name": "python3"
  },
  "language_info": {
   "codemirror_mode": {
    "name": "ipython",
    "version": 3
   },
   "file_extension": ".py",
   "mimetype": "text/x-python",
   "name": "python",
   "nbconvert_exporter": "python",
   "pygments_lexer": "ipython3",
   "version": "3.7.0"
  }
 },
 "nbformat": 4,
 "nbformat_minor": 4
}
