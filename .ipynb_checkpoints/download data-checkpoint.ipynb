{
 "cells": [
  {
   "cell_type": "code",
   "execution_count": 10,
   "metadata": {},
   "outputs": [],
   "source": [
    "#miniJPAS\n",
    "\n",
    "f = open(\"/home/lmingv/Desktop/minijpas-pdr201912_download.txt\", \"a\")\n",
    "\n",
    "head = 'http://archive.cefca.es/catalogues/vo/siap/minijpas-pdr201912/get_'\n",
    "\n",
    "\n",
    "for item in ['fits','weight','psf_file','masks','all_photoz','raw_info','reduction_info']:\n",
    "    f.write('\\n##download '+item+' file\\n')\n",
    "    for id in range(2231,2471):\n",
    "        f.write(head+item+'?id='+str(id)+'\\n')\n",
    "\n",
    "f.write('\\n##download graphic_image file\\n')\n",
    "for id in range(2231,2471):\n",
    "    f.write(head+'graphic_image'+'?id='+str(id)+'\\n')\n",
    "    f.write(head+'graphic_image'+'?id='+str(id)+'&band=RGB'+'\\n')\n",
    "    f.write(head+'graphic_image'+'?id='+str(id)+'&band=FILTER'+'\\n')\n",
    "\n",
    "f.close()"
   ]
  },
  {
   "cell_type": "code",
   "execution_count": 43,
   "metadata": {},
   "outputs": [],
   "source": [
    "# JPLUS -DR1\n",
    "import pandas as pd\n",
    "path = 'images_search.csv'\n",
    "# 使用pandas读入\n",
    "data = pd.read_csv(path) #读取文件中所有数据\n",
    "# 按列分离数据\n",
    "id = data[['Tile_id']]#读取某一列\n",
    "\n",
    "\n",
    "f = open(\"/home/lmingv/Desktop/jplus-dr1_download.txt\", \"a\")\n",
    "\n",
    "head = 'http://archive.cefca.es/catalogues/vo/siap/jplus-dr1/get_'\n",
    "\n",
    "for item in ['fits','weight','psf_file','masks','all_photoz','raw_info','reduction_info']:\n",
    "    f.write('\\n##download '+item+' file\\n')\n",
    "    for i in range(len(id)):\n",
    "        f.write(head+item+'?id='+str(id.at[i,'Tile_id'])+'\\n')\n",
    "\n",
    "f.write('\\n##download graphic_image file\\n')\n",
    "for i in range(len(id)):\n",
    "    f.write(head+'graphic_image'+'?id='+str(id.at[i,'Tile_id'])+'\\n')\n",
    "    f.write(head+'graphic_image'+'?id='+str(id.at[i,'Tile_id'])+'&band=RGB'+'\\n')\n",
    "    f.write(head+'graphic_image'+'?id='+str(id.at[i,'Tile_id'])+'&band=FILTER'+'\\n')\n",
    "\n",
    "f.close()"
   ]
  },
  {
   "cell_type": "code",
   "execution_count": 2,
   "metadata": {},
   "outputs": [],
   "source": [
    "import pandas as pd\n",
    "path = 'images_search.csv'\n",
    "# 使用pandas读入\n",
    "data = pd.read_csv(path) #读取文件中所有数据\n",
    "# 按列分离数据\n",
    "id = data[['Tile_id']]#读取某一列\n",
    "\n",
    "\n",
    "f = open(\"/home/lmingv/Desktop/jplus-dr1_cat_download.txt\", \"a\")\n",
    "\n",
    "head = 'http://archive.cefca.es/catalogues/jplus-dr1/image_catalogue?number='\n",
    "\n",
    "f.write('\\n##download image_catalogue file\\n')\n",
    "for i in range(len(id)):\n",
    "    f.write(head+str(id.at[i,'Tile_id'])+'\\n')\n",
    "\n",
    "f.close()"
   ]
  },
  {
   "cell_type": "code",
   "execution_count": null,
   "metadata": {},
   "outputs": [],
   "source": []
  }
 ],
 "metadata": {
  "kernelspec": {
   "display_name": "Python 3",
   "language": "python",
   "name": "python3"
  },
  "language_info": {
   "codemirror_mode": {
    "name": "ipython",
    "version": 3
   },
   "file_extension": ".py",
   "mimetype": "text/x-python",
   "name": "python",
   "nbconvert_exporter": "python",
   "pygments_lexer": "ipython3",
   "version": "3.7.0"
  }
 },
 "nbformat": 4,
 "nbformat_minor": 2
}
